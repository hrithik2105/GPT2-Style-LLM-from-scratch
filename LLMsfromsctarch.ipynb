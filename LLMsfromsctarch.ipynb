{
  "nbformat": 4,
  "nbformat_minor": 0,
  "metadata": {
    "colab": {
      "provenance": [],
      "collapsed_sections": [
        "-ZRzHHRX8n1w",
        "lFwgAqdhO-Xv",
        "4BdbyT8NJUki",
        "D36v2OGum9oW",
        "-YC4uwDLjnwx",
        "Qp9aqkksu3YD",
        "t9-lx5HbfM1Z",
        "e8G3vx3Rn0bJ",
        "45NNta7yBSvG",
        "E27ijflmjMyJ",
        "cjYXqiTxoo-x",
        "sm4foXU9AgsX",
        "bGmnpZc4vXnL",
        "r0uS27ccmgG9",
        "2TjD9z-5wV5k"
      ],
      "gpuType": "T4",
      "authorship_tag": "ABX9TyOYNox2ML1tEEurHLl+1nk7",
      "include_colab_link": true
    },
    "kernelspec": {
      "name": "python3",
      "display_name": "Python 3"
    },
    "language_info": {
      "name": "python"
    },
    "accelerator": "GPU"
  },
  "cells": [
    {
      "cell_type": "markdown",
      "metadata": {
        "id": "view-in-github",
        "colab_type": "text"
      },
      "source": [
        "<a href=\"https://colab.research.google.com/github/hrithik2105/GPT2-Style-LLM-from-scratch/blob/main/LLMsfromsctarch.ipynb\" target=\"_parent\"><img src=\"https://colab.research.google.com/assets/colab-badge.svg\" alt=\"Open In Colab\"/></a>"
      ]
    },
    {
      "cell_type": "markdown",
      "source": [
        "*Creating LLMs*\n",
        "\n"
      ],
      "metadata": {
        "id": "L1JdqIEX8hSx"
      }
    },
    {
      "cell_type": "markdown",
      "source": [
        "# **Step 1: Tokenization**"
      ],
      "metadata": {
        "id": "-ZRzHHRX8n1w"
      }
    },
    {
      "cell_type": "markdown",
      "source": [
        "a) Extract all the characters and store in raw_text (str format):"
      ],
      "metadata": {
        "id": "_9c4FkkiGBXT"
      }
    },
    {
      "cell_type": "code",
      "execution_count": 1,
      "metadata": {
        "colab": {
          "base_uri": "https://localhost:8080/"
        },
        "id": "PYQ4iw5h8cxS",
        "outputId": "85f62987-1f9d-41a0-e86d-4c5557de3eb5"
      },
      "outputs": [
        {
          "output_type": "stream",
          "name": "stdout",
          "text": [
            "Totat number of characters: 20479\n",
            "I HAD always thought Jack Gisburn rather a cheap genius--though a good fellow enough--so it was no \n"
          ]
        }
      ],
      "source": [
        "with open (\"/content/the-verdict.txt\", \"r\", encoding = \"utf-8\") as f:\n",
        "  raw_text = f.read()\n",
        "\n",
        "print(\"Totat number of characters:\",len(raw_text))\n",
        "print(raw_text[:99])"
      ]
    },
    {
      "cell_type": "markdown",
      "source": [
        "b) Use Regex library to split the characters into tokens based on parameters like whitespaces(\\s) and other special characters."
      ],
      "metadata": {
        "id": "qwjXUZ99F9i5"
      }
    },
    {
      "cell_type": "code",
      "source": [
        "import re\n",
        "preprocessed  = re.split(r'([,.:;?_!\"()\\']|--|\\s)', raw_text)"
      ],
      "metadata": {
        "id": "wewC2jQr9lR3"
      },
      "execution_count": null,
      "outputs": []
    },
    {
      "cell_type": "markdown",
      "source": [
        "c) Use **.strip()** to remove white spaces in the list"
      ],
      "metadata": {
        "id": "PATdajS6m6O9"
      }
    },
    {
      "cell_type": "code",
      "source": [
        "preprocessed = [item.strip() for item in preprocessed if item.strip()]\n",
        "print(preprocessed[:30], \"\\n\", len(preprocessed))"
      ],
      "metadata": {
        "colab": {
          "base_uri": "https://localhost:8080/"
        },
        "id": "ImvY6VlqnG0d",
        "outputId": "5c3d5325-c801-482f-9a73-b89b956a2f65"
      },
      "execution_count": null,
      "outputs": [
        {
          "output_type": "stream",
          "name": "stdout",
          "text": [
            "['I', 'HAD', 'always', 'thought', 'Jack', 'Gisburn', 'rather', 'a', 'cheap', 'genius', '--', 'though', 'a', 'good', 'fellow', 'enough', '--', 'so', 'it', 'was', 'no', 'great', 'surprise', 'to', 'me', 'to', 'hear', 'that', ',', 'in'] \n",
            " 4690\n"
          ]
        }
      ]
    },
    {
      "cell_type": "markdown",
      "source": [
        "# **Step 2: Assigning Token IDs to the tokens**"
      ],
      "metadata": {
        "id": "lFwgAqdhO-Xv"
      }
    },
    {
      "cell_type": "markdown",
      "source": [
        "a) Sort the 'preprocessed' **list** and store it in a **set** named 'vocab':"
      ],
      "metadata": {
        "id": "1047ztaARC7K"
      }
    },
    {
      "cell_type": "code",
      "source": [
        "vocab = sorted(set(preprocessed))\n",
        "print(len(vocab))"
      ],
      "metadata": {
        "colab": {
          "base_uri": "https://localhost:8080/"
        },
        "id": "Kr3cVUX3IdNF",
        "outputId": "99297ddd-83f5-41b3-e27c-8258bed1e87f"
      },
      "execution_count": null,
      "outputs": [
        {
          "output_type": "stream",
          "name": "stdout",
          "text": [
            "1130\n"
          ]
        }
      ]
    },
    {
      "cell_type": "markdown",
      "source": [
        "b) Use **enumarate()** function to assign a number (starting from 0) to all the tokens in vocab **set** and store it in vocab **dictionary**:"
      ],
      "metadata": {
        "id": "4ITggCNVTw0N"
      }
    },
    {
      "cell_type": "code",
      "source": [
        "vocab = {token:integer for integer, token in enumerate(vocab)}"
      ],
      "metadata": {
        "id": "oHb1Gt6dQzGo"
      },
      "execution_count": null,
      "outputs": []
    },
    {
      "cell_type": "markdown",
      "source": [
        "c) Print first 25 tokens (with their ids) from the dictionary:"
      ],
      "metadata": {
        "id": "5QMWdt4LVVEe"
      }
    },
    {
      "cell_type": "code",
      "source": [
        "for i, item in enumerate(vocab.items()):\n",
        "  print(item)\n",
        "  if (i>=25):\n",
        "    break"
      ],
      "metadata": {
        "colab": {
          "base_uri": "https://localhost:8080/"
        },
        "id": "zunqs3lpVHzG",
        "outputId": "f2ee2008-7286-42d1-9245-4d7561ddec25"
      },
      "execution_count": null,
      "outputs": [
        {
          "output_type": "stream",
          "name": "stdout",
          "text": [
            "('!', 0)\n",
            "('\"', 1)\n",
            "(\"'\", 2)\n",
            "('(', 3)\n",
            "(')', 4)\n",
            "(',', 5)\n",
            "('--', 6)\n",
            "('.', 7)\n",
            "(':', 8)\n",
            "(';', 9)\n",
            "('?', 10)\n",
            "('A', 11)\n",
            "('Ah', 12)\n",
            "('Among', 13)\n",
            "('And', 14)\n",
            "('Are', 15)\n",
            "('Arrt', 16)\n",
            "('As', 17)\n",
            "('At', 18)\n",
            "('Be', 19)\n",
            "('Begin', 20)\n",
            "('Burlington', 21)\n",
            "('But', 22)\n",
            "('By', 23)\n",
            "('Carlo', 24)\n",
            "('Chicago', 25)\n"
          ]
        }
      ]
    },
    {
      "cell_type": "markdown",
      "source": [
        "d) Extending the vocab by adding <|unk|> (token used to denote any unknown token from the input) and <|endoftext|> (token used when one source/segment/topic is over). We do this by converting the preprocessed set back to list and then using the .extend() function to add the new items."
      ],
      "metadata": {
        "id": "0GETe6KxlriV"
      }
    },
    {
      "cell_type": "code",
      "source": [
        "preprocessed = sorted(list(set(preprocessed)))\n",
        "preprocessed.extend([\"<|unk|>\",\"<|endoftext|>\"])\n",
        "vocab = {token:integer for integer, token in enumerate(preprocessed)}"
      ],
      "metadata": {
        "id": "_Os-z1KpVbxK"
      },
      "execution_count": null,
      "outputs": []
    },
    {
      "cell_type": "code",
      "source": [
        "len(vocab.items())"
      ],
      "metadata": {
        "colab": {
          "base_uri": "https://localhost:8080/"
        },
        "id": "DanVUo5OpwvF",
        "outputId": "1e7ed428-66ad-4f5b-cb9e-c5cc2423cced"
      },
      "execution_count": null,
      "outputs": [
        {
          "output_type": "execute_result",
          "data": {
            "text/plain": [
              "1132"
            ]
          },
          "metadata": {},
          "execution_count": 10
        }
      ]
    },
    {
      "cell_type": "code",
      "source": [
        "for i, item in enumerate(list(vocab.items())[-5:]):\n",
        "  print(item)"
      ],
      "metadata": {
        "colab": {
          "base_uri": "https://localhost:8080/"
        },
        "id": "RtJm9-S3qHBw",
        "outputId": "217a687e-07cb-4564-baa4-58a1e892aaa3"
      },
      "execution_count": null,
      "outputs": [
        {
          "output_type": "stream",
          "name": "stdout",
          "text": [
            "('younger', 1127)\n",
            "('your', 1128)\n",
            "('yourself', 1129)\n",
            "('<|unk|>', 1130)\n",
            "('<|endoftext|>', 1131)\n"
          ]
        }
      ]
    },
    {
      "cell_type": "markdown",
      "source": [
        "#Importing **tiktoken**"
      ],
      "metadata": {
        "id": "4BdbyT8NJUki"
      }
    },
    {
      "cell_type": "markdown",
      "source": [
        "Tiktoken library is currently used by OpenAI which relies on **byte-pair encoding** which supports all the GPT models."
      ],
      "metadata": {
        "id": "AEz27gzrb6P5"
      }
    },
    {
      "cell_type": "code",
      "source": [
        "!pip3 install tiktoken"
      ],
      "metadata": {
        "colab": {
          "base_uri": "https://localhost:8080/"
        },
        "id": "FMEYa6K4q6Bu",
        "outputId": "52d3088d-db39-4469-abf6-c15687e174a4"
      },
      "execution_count": 2,
      "outputs": [
        {
          "output_type": "stream",
          "name": "stdout",
          "text": [
            "Collecting tiktoken\n",
            "  Downloading tiktoken-0.9.0-cp311-cp311-manylinux_2_17_x86_64.manylinux2014_x86_64.whl.metadata (6.7 kB)\n",
            "Requirement already satisfied: regex>=2022.1.18 in /usr/local/lib/python3.11/dist-packages (from tiktoken) (2024.11.6)\n",
            "Requirement already satisfied: requests>=2.26.0 in /usr/local/lib/python3.11/dist-packages (from tiktoken) (2.32.3)\n",
            "Requirement already satisfied: charset-normalizer<4,>=2 in /usr/local/lib/python3.11/dist-packages (from requests>=2.26.0->tiktoken) (3.4.1)\n",
            "Requirement already satisfied: idna<4,>=2.5 in /usr/local/lib/python3.11/dist-packages (from requests>=2.26.0->tiktoken) (3.10)\n",
            "Requirement already satisfied: urllib3<3,>=1.21.1 in /usr/local/lib/python3.11/dist-packages (from requests>=2.26.0->tiktoken) (2.3.0)\n",
            "Requirement already satisfied: certifi>=2017.4.17 in /usr/local/lib/python3.11/dist-packages (from requests>=2.26.0->tiktoken) (2025.1.31)\n",
            "Downloading tiktoken-0.9.0-cp311-cp311-manylinux_2_17_x86_64.manylinux2014_x86_64.whl (1.2 MB)\n",
            "\u001b[?25l   \u001b[90m━━━━━━━━━━━━━━━━━━━━━━━━━━━━━━━━━━━━━━━━\u001b[0m \u001b[32m0.0/1.2 MB\u001b[0m \u001b[31m?\u001b[0m eta \u001b[36m-:--:--\u001b[0m\r\u001b[2K   \u001b[91m━━━━━━━━━━━━━━━━━━━━━━━━━━━━━━━━━━━━━━━\u001b[0m\u001b[91m╸\u001b[0m \u001b[32m1.2/1.2 MB\u001b[0m \u001b[31m45.6 MB/s\u001b[0m eta \u001b[36m0:00:01\u001b[0m\r\u001b[2K   \u001b[90m━━━━━━━━━━━━━━━━━━━━━━━━━━━━━━━━━━━━━━━━\u001b[0m \u001b[32m1.2/1.2 MB\u001b[0m \u001b[31m30.3 MB/s\u001b[0m eta \u001b[36m0:00:00\u001b[0m\n",
            "\u001b[?25hInstalling collected packages: tiktoken\n",
            "Successfully installed tiktoken-0.9.0\n"
          ]
        }
      ]
    },
    {
      "cell_type": "markdown",
      "source": [
        "# Implementing **BPE** and decoding"
      ],
      "metadata": {
        "id": "D36v2OGum9oW"
      }
    },
    {
      "cell_type": "markdown",
      "source": [
        "Byte-pair encoding is a sub word tokenization technique used by the LLM. Subword basically captures rootword, suffixes, repeated words and assigns a token value to them. Subwords are created based on the token frequency of characters. This makes the vocab shorter, computationally efficient and retain meanings of rootwords and suffixes. Eg: 'Boy','Boys' are fed into the LLM. Here, 'Boy' is assigned one token id and 's' is assigned another token id. The token ids can look like [3476, 3476, 56] for 'Boy','Boy' and 's'. This is called byte-pair encoding. Initially 'B' is merged with 'o' which gives 'Bo' (1 char should be merged with another. Hence byte-pair). Later, 'Bo' is merged with 'y' resulting in 'Boy' token. All the previous tokens relating to B, o and y are deleted. Only 'Boy' is kept as a single token along with the previous 's' token.\n"
      ],
      "metadata": {
        "id": "y1f9O1upcelD"
      }
    },
    {
      "cell_type": "code",
      "source": [
        "import importlib\n",
        "import tiktoken\n",
        "print(\"tiktoken version:\", importlib.metadata.version(\"tiktoken\"))"
      ],
      "metadata": {
        "colab": {
          "base_uri": "https://localhost:8080/"
        },
        "id": "EEwHtlfocXZK",
        "outputId": "588cc6d5-d918-435e-8c3e-a39ce5bd1f4c"
      },
      "execution_count": 3,
      "outputs": [
        {
          "output_type": "stream",
          "name": "stdout",
          "text": [
            "tiktoken version: 0.9.0\n"
          ]
        }
      ]
    },
    {
      "cell_type": "markdown",
      "source": [
        "We will extract the GPT-2 version from the tiktoken library into the tokerizer variable"
      ],
      "metadata": {
        "id": "YI2vKYObhHmS"
      }
    },
    {
      "cell_type": "code",
      "source": [
        "tokenizer = tiktoken.get_encoding(\"gpt2\")"
      ],
      "metadata": {
        "id": "1LCNG0D3ha7C"
      },
      "execution_count": 4,
      "outputs": []
    },
    {
      "cell_type": "markdown",
      "source": [
        "The tiktoken library has **encode** (encodes token to token ids) and **decode** (decodes token ids to tokens) methods in it."
      ],
      "metadata": {
        "id": "dMRbaNzsgXc7"
      }
    },
    {
      "cell_type": "markdown",
      "source": [
        "Using the tokenizer variable to access the encode method from the tiktoken library over a sample text."
      ],
      "metadata": {
        "id": "1FZcs_i8km7p"
      }
    },
    {
      "cell_type": "code",
      "source": [
        "sample_text = (\"Cristiano Ronaldo is the greatest ever football player in the world.\"\n",
        "                \"<|endoftext|> He has scored over 920 goals.\")\n",
        "\n",
        "tokenids = tokenizer.encode(sample_text, allowed_special={\"<|endoftext|>\"})\n",
        "print(tokenids)"
      ],
      "metadata": {
        "colab": {
          "base_uri": "https://localhost:8080/"
        },
        "id": "raPpVcJxgUpP",
        "outputId": "3aea9a42-a00d-460a-fa35-33b4b9699ce3"
      },
      "execution_count": null,
      "outputs": [
        {
          "output_type": "stream",
          "name": "stdout",
          "text": [
            "[34, 1585, 10115, 36309, 318, 262, 6000, 1683, 4346, 2137, 287, 262, 995, 13, 50256, 679, 468, 7781, 625, 47679, 4661, 13]\n"
          ]
        }
      ]
    },
    {
      "cell_type": "markdown",
      "source": [
        "Note: We can also see the token id for <|endoftext|> token which is 50257 which is basically present in the end. So the vocab of GPT-2 consists of 50257 tokens. The total number of words in English language is around 170,000 - 200,000 words. So, this byte-pair encoding method efficiently and effectively reduced the vocab size retaining important rootwords and suffixes."
      ],
      "metadata": {
        "id": "_F1woPGKk1W1"
      }
    },
    {
      "cell_type": "markdown",
      "source": [
        "Inversely, implementing decode method to extract the the tokens back from the tokenids."
      ],
      "metadata": {
        "id": "tDnpCcfJmOSC"
      }
    },
    {
      "cell_type": "code",
      "source": [
        "tokens = tokenizer.decode(tokenids)\n",
        "print(tokens)"
      ],
      "metadata": {
        "colab": {
          "base_uri": "https://localhost:8080/"
        },
        "id": "wCZAI-U8jbYi",
        "outputId": "1f414a19-253a-455d-b86d-45e1cc9ab7d9"
      },
      "execution_count": null,
      "outputs": [
        {
          "output_type": "stream",
          "name": "stdout",
          "text": [
            "Cristiano Ronaldo is the greatest ever football player in the world.<|endoftext|> He has scored over 920 goals.\n"
          ]
        }
      ]
    },
    {
      "cell_type": "markdown",
      "source": [
        "# Sample implementation of **Input-Target** pairs using **Sliding** **Window** approach"
      ],
      "metadata": {
        "id": "-YC4uwDLjnwx"
      }
    },
    {
      "cell_type": "code",
      "source": [
        "enc_text = tokenizer.encode(raw_text)\n",
        "print(len(enc_text))\n",
        "print(enc_text[:20])"
      ],
      "metadata": {
        "colab": {
          "base_uri": "https://localhost:8080/"
        },
        "id": "yBlICPXmng_u",
        "outputId": "de774190-d682-48c1-cc91-dc76edb7ce97"
      },
      "execution_count": null,
      "outputs": [
        {
          "output_type": "stream",
          "name": "stdout",
          "text": [
            "5145\n",
            "[40, 367, 2885, 1464, 1807, 3619, 402, 271, 10899, 2138, 257, 7026, 15632, 438, 2016, 257, 922, 5891, 1576, 438]\n"
          ]
        }
      ]
    },
    {
      "cell_type": "markdown",
      "source": [
        "Sample creation of Input-Target pairs using the same verdict dataset but removing first 50 tokens."
      ],
      "metadata": {
        "id": "fa4zj-EG9a9t"
      }
    },
    {
      "cell_type": "code",
      "source": [
        "sample_enc = enc_text[50:]"
      ],
      "metadata": {
        "id": "fkBUnQcYj5FG"
      },
      "execution_count": null,
      "outputs": []
    },
    {
      "cell_type": "markdown",
      "source": [
        "We are going to use 2 vairables x (denoting the input tokens) and y (denoting the target tokens). Eg: Lets say X=[1,2,3,4] and Y=[2,3,4,5]. We want the first element in i/p token to match first value in the o/p token in 1st iteration. In the next iteration, we want to consider the 1st and the 2nd token from i/p and only 2nd token in the o/p (rest of the o/p values should be masked). Context size lets us choose how many tokens should be considered in each iteration."
      ],
      "metadata": {
        "id": "adBJfq9E-QIn"
      }
    },
    {
      "cell_type": "code",
      "source": [
        "context_size = 4\n",
        "x = sample_enc[:context_size] #sample_enc[0 to 4] basically 0,1,2,3\n",
        "y = sample_enc[1:context_size + 1] #sample_enc[1 to 5] basically 1,2,3,4\n",
        "print (f\"input tokens:{x}\")\n",
        "print (f\"target tokens:{y}\")"
      ],
      "metadata": {
        "colab": {
          "base_uri": "https://localhost:8080/"
        },
        "id": "U2fUYhlM-PmD",
        "outputId": "26fc1161-390f-49e1-870d-5d4ebd07fde3"
      },
      "execution_count": null,
      "outputs": [
        {
          "output_type": "stream",
          "name": "stdout",
          "text": [
            "input tokens:[290, 4920, 2241, 287]\n",
            "target tokens:[4920, 2241, 287, 257]\n"
          ]
        }
      ]
    },
    {
      "cell_type": "markdown",
      "source": [
        "This approach is called 'Sliding Window' approach which basically slides over the context_size in each iteration."
      ],
      "metadata": {
        "id": "SkZvPpOrAfT8"
      }
    },
    {
      "cell_type": "markdown",
      "source": [
        "We can show it in step-by-step process to show the iterations."
      ],
      "metadata": {
        "id": "-kZuSJeNECx8"
      }
    },
    {
      "cell_type": "code",
      "source": [
        "for i in range (1, context_size+1):\n",
        "  context_input = sample_enc[:i] # Displays all the elements from sample_enc list till i (excluding i).\n",
        "  desired = sample_enc[i] # Displays i whch is basically the output token.\n",
        "\n",
        "  print(context_input, \"------>\", desired)"
      ],
      "metadata": {
        "colab": {
          "base_uri": "https://localhost:8080/"
        },
        "id": "AAqJRGNYAZgX",
        "outputId": "927a3f54-e91f-405a-f467-7ca7e0a2f9e6"
      },
      "execution_count": null,
      "outputs": [
        {
          "output_type": "stream",
          "name": "stdout",
          "text": [
            "[290] ------> 4920\n",
            "[290, 4920] ------> 2241\n",
            "[290, 4920, 2241] ------> 287\n",
            "[290, 4920, 2241, 287] ------> 257\n"
          ]
        }
      ]
    },
    {
      "cell_type": "markdown",
      "source": [
        "Inversely, decoding in step-by-step process"
      ],
      "metadata": {
        "id": "VXf8CiKhGAig"
      }
    },
    {
      "cell_type": "code",
      "source": [
        "for i in range(1, context_size+1):\n",
        "  context_input = sample_enc[:i]\n",
        "  desired = sample_enc[i]\n",
        "\n",
        "  print(tokenizer.decode(context_input), \"------>\", tokenizer.decode([desired]))"
      ],
      "metadata": {
        "colab": {
          "base_uri": "https://localhost:8080/"
        },
        "id": "X3pg7iE8FyCQ",
        "outputId": "bee31ae3-7be5-40bd-d6ce-d85cbd248bd5"
      },
      "execution_count": null,
      "outputs": [
        {
          "output_type": "stream",
          "name": "stdout",
          "text": [
            " and ------>  established\n",
            " and established ------>  himself\n",
            " and established himself ------>  in\n",
            " and established himself in ------>  a\n"
          ]
        }
      ]
    },
    {
      "cell_type": "markdown",
      "source": [
        "# Multi-dimensional approach using **Dataset** and **Dataloader**"
      ],
      "metadata": {
        "id": "Qp9aqkksu3YD"
      }
    },
    {
      "cell_type": "markdown",
      "source": [
        "We can implement the same Input-Target pairs using Dataloader which uses Dataset from pytorch library(which basically works on the sliding window approach). We do this because we want to convert our tokenized ids (input) into multidimensional arrays or **Tensors**. This step is crucial before vector embeddings which takes in these **Tensors** as input."
      ],
      "metadata": {
        "id": "ZLrZ1hLavMKL"
      }
    },
    {
      "cell_type": "code",
      "source": [
        "import torch\n",
        "from torch.utils.data import Dataset, DataLoader\n",
        "\n",
        "\n",
        "class GPTDatasetV1(Dataset):\n",
        "    def __init__(self, txt, tokenizer, max_length, stride):\n",
        "      self.input_ids = []\n",
        "      self.target_ids = []\n",
        "\n",
        "      token_ids = tokenizer.encode(txt, allowed_special={\"<|endoftxt|>\"}) #Tokenizing the entire input text\n",
        "\n",
        "      # Using sliding window to chunk the overlapping sequences of max_length(=context size)\n",
        "      # We iterate it over len(token_ids)-max_length to not exceed the available tokens which can lead to out of bounds error\n",
        "      for i in range(0, len(token_ids) - max_length, stride):\n",
        "        input_chunk = token_ids[i: i + max_length]    #From first tokenid till context_size\n",
        "        target_chunk = token_ids[i + 1: i + max_length + 1] #From 2nd element till context_size+1\n",
        "\n",
        "        self.input_ids.append(torch.tensor(input_chunk))\n",
        "        self.target_ids.append(torch.tensor(target_chunk))\n",
        "\n",
        "    def __len__(self):  #Returns the length of the input tensor\n",
        "      return len(self.input_ids)\n",
        "\n",
        "    def __getitem__(self, idx):   #Returns the i/p tensor(multi-dim array) and its corresponding o/p tensor(multi-dim array)\n",
        "      return self.input_ids[idx], self.target_ids[idx]"
      ],
      "metadata": {
        "id": "IuSpX_UXvGIg"
      },
      "execution_count": 9,
      "outputs": []
    },
    {
      "cell_type": "markdown",
      "source": [
        "Feeding the input Dataset to the Dataloader in batches"
      ],
      "metadata": {
        "id": "bxu1OTeD2E-y"
      }
    },
    {
      "cell_type": "markdown",
      "source": [
        "**batch_size** = How many sequences of tensors to consider at once which can run in parallel. Default = 4.\n",
        "\n",
        "**max_length** = How many token ids in each row of tensor\n",
        "\n",
        "**stride** = how many steps to take from one input tensor to process the next input tensor (step size). Taking too little stride results in more overlapping of tensors with very little change in each.\n",
        "\n",
        "**drop_true** = **True** ensures all batches have equal number of sequences(rows of tensors). Incase if its uneven, it gets dropped to prevent any inconsistencies in training as the heavily depends on equal batch sizes. It's also helpful in padding to prevent any erros.\n",
        "\n",
        "num_workers = number of parallel\n",
        "\n",
        "\n",
        "Eg: Lets assume we have token_ids = [101, 2009, 2001, 1037, 3835, 2154, 102]\n",
        "\n",
        "with max_length = 3 and stride = 1\n",
        "\n",
        "In sequence 1, input tokens = [101, 2009, 2001] and the resulting target tokens = [2009, 2001, 1037]\n",
        "\n",
        "In sequence 2, input tokens = [2009, 2001, 1037], target tokens = [2001, 1037, 3835]\n",
        "\n",
        "In sequence 3 input tokens = [2001, 1037, 3835],\n",
        "target tokens = [1037, 3835, 2154]\n",
        "\n",
        "In sequence 4 input tokens = [1037, 3835, 2154],\n",
        "target tokens = [3835, 2154, 102].\n",
        "\n",
        "Here, giving batch_size = 4 means that the dataloder will process all 4 sequences(rows of tensor) in one iteration to produce the target tokens for all 4 sequences where one tensor is overlapping another."
      ],
      "metadata": {
        "id": "uSpjPALh7lEH"
      }
    },
    {
      "cell_type": "code",
      "source": [
        "def create_dataloader_v1(txt, batch_size=4, max_length=256, stride=128,\n",
        "                         shuffle=True, drop_last=True, num_workers=0):\n",
        "\n",
        "  # Initialize tokerinzer\n",
        "  tokenizer = tiktoken.get_encoding(\"gpt2\")\n",
        "\n",
        "  #Create dataset\n",
        "  dataset = GPTDatasetV1(txt, tokenizer, max_length, stride)\n",
        "\n",
        "  dataloader = DataLoader(dataset, batch_size=batch_size,\n",
        "                          shuffle=shuffle, drop_last=drop_last, num_workers=num_workers)\n",
        "\n",
        "  return dataloader"
      ],
      "metadata": {
        "id": "BnDtXlBi57Ci"
      },
      "execution_count": 10,
      "outputs": []
    },
    {
      "cell_type": "markdown",
      "source": [
        "Using the dataloader function to create and print a sample tensor using input from verdict.txt. The batches are going to be displayed depending on the batch size. 2 batch size = 2 rows with each row = max_length. The second batch depends on the stride."
      ],
      "metadata": {
        "id": "SWGK22usPi_O"
      }
    },
    {
      "cell_type": "code",
      "source": [
        "dataloader = create_dataloader_v1(raw_text, batch_size = 1, max_length=4, stride=2, shuffle=False)\n",
        "\n",
        "\n",
        "data_iter = iter(dataloader)\n",
        "first_batch = next(data_iter)\n",
        "print(first_batch)"
      ],
      "metadata": {
        "colab": {
          "base_uri": "https://localhost:8080/"
        },
        "id": "yNxpaUNa-dU_",
        "outputId": "3ebee153-1da4-4a2c-959f-2c22b064d719"
      },
      "execution_count": null,
      "outputs": [
        {
          "output_type": "stream",
          "name": "stdout",
          "text": [
            "[tensor([[  40,  367, 2885, 1464]]), tensor([[ 367, 2885, 1464, 1807]])]\n"
          ]
        }
      ]
    },
    {
      "cell_type": "markdown",
      "source": [
        "Printing second batch tensor. We use **iter** (to iterate over the batches one by one using the **next**)"
      ],
      "metadata": {
        "id": "iUL2E9sESLVW"
      }
    },
    {
      "cell_type": "code",
      "source": [
        "second_batch = next(data_iter)\n",
        "print(second_batch)"
      ],
      "metadata": {
        "colab": {
          "base_uri": "https://localhost:8080/"
        },
        "id": "eqnv7tWARApR",
        "outputId": "887efec2-9dcf-41e5-8018-e4795836ef10"
      },
      "execution_count": null,
      "outputs": [
        {
          "output_type": "stream",
          "name": "stdout",
          "text": [
            "[tensor([[2885, 1464, 1807, 3619]]), tensor([[1464, 1807, 3619,  402]])]\n"
          ]
        }
      ]
    },
    {
      "cell_type": "markdown",
      "source": [
        "We can vary strides, batch sizes and strides to produce tensors of varying length and step sizes. Normally, its better to keep max_length and stride as same number because that way the sequences (tensors)dont over lap after each iteration and complete tensors will be displayed without skipping any tokens."
      ],
      "metadata": {
        "id": "LF9m_JaBcmgs"
      }
    },
    {
      "cell_type": "code",
      "source": [
        "dataloader2 = create_dataloader_v1(raw_text, batch_size = 8, max_length=4, stride=4, shuffle=False)\n",
        "\n",
        "data_iter = iter(dataloader2)\n",
        "\n",
        "first_batch = next(data_iter)\n",
        "second_batch = next(data_iter)\n",
        "\n",
        "print(\"First Batch:\",first_batch)\n",
        "print(\"Second Batch:\",second_batch)"
      ],
      "metadata": {
        "colab": {
          "base_uri": "https://localhost:8080/"
        },
        "id": "CttqASF2SaMq",
        "outputId": "c3ab71aa-b07b-4d4c-ee6d-3ae507fdde6e"
      },
      "execution_count": null,
      "outputs": [
        {
          "output_type": "stream",
          "name": "stdout",
          "text": [
            "First Batch: [tensor([[   40,   367,  2885,  1464],\n",
            "        [ 1807,  3619,   402,   271],\n",
            "        [10899,  2138,   257,  7026],\n",
            "        [15632,   438,  2016,   257],\n",
            "        [  922,  5891,  1576,   438],\n",
            "        [  568,   340,   373,   645],\n",
            "        [ 1049,  5975,   284,   502],\n",
            "        [  284,  3285,   326,    11]]), tensor([[  367,  2885,  1464,  1807],\n",
            "        [ 3619,   402,   271, 10899],\n",
            "        [ 2138,   257,  7026, 15632],\n",
            "        [  438,  2016,   257,   922],\n",
            "        [ 5891,  1576,   438,   568],\n",
            "        [  340,   373,   645,  1049],\n",
            "        [ 5975,   284,   502,   284],\n",
            "        [ 3285,   326,    11,   287]])]\n",
            "Second Batch: [tensor([[  287,   262,  6001,   286],\n",
            "        [  465, 13476,    11,   339],\n",
            "        [  550,  5710,   465, 12036],\n",
            "        [   11,  6405,   257,  5527],\n",
            "        [27075,    11,   290,  4920],\n",
            "        [ 2241,   287,   257,  4489],\n",
            "        [   64,   319,   262, 34686],\n",
            "        [41976,    13,   357, 10915]]), tensor([[  262,  6001,   286,   465],\n",
            "        [13476,    11,   339,   550],\n",
            "        [ 5710,   465, 12036,    11],\n",
            "        [ 6405,   257,  5527, 27075],\n",
            "        [   11,   290,  4920,  2241],\n",
            "        [  287,   257,  4489,    64],\n",
            "        [  319,   262, 34686, 41976],\n",
            "        [   13,   357, 10915,   314]])]\n"
          ]
        }
      ]
    },
    {
      "cell_type": "markdown",
      "source": [
        "#Creating Vector/Token Embedding Layer for the LLM"
      ],
      "metadata": {
        "id": "t9-lx5HbfM1Z"
      }
    },
    {
      "cell_type": "markdown",
      "source": [
        "Creating lookup dictionary for the input token tensor. GPT-2 uses vocab size of 50257(each token id having dimension of 256), the overall dimension for our vector/token embeddings will be 50257x256"
      ],
      "metadata": {
        "id": "WwIUiqNff6yZ"
      }
    },
    {
      "cell_type": "markdown",
      "source": [
        "We use **torch.nn.Embedding()** to create vector/token embedding layer(matrix) which takes in vocab_size and output_dim as paramenters which is nothing but 50257x256"
      ],
      "metadata": {
        "id": "GSs97xELhPVs"
      }
    },
    {
      "cell_type": "code",
      "source": [
        "vocab_size = 50257\n",
        "output_dim = 256\n",
        "token_embedding_layer = torch.nn.Embedding(vocab_size, output_dim)"
      ],
      "metadata": {
        "id": "wV3Bt-yldYgI"
      },
      "execution_count": null,
      "outputs": []
    },
    {
      "cell_type": "markdown",
      "source": [
        "Creating the main dataloader of verdict for the LLM training."
      ],
      "metadata": {
        "id": "dttDv9MMinzn"
      }
    },
    {
      "cell_type": "code",
      "source": [
        "max_length = 4\n",
        "dataloader_verdict = create_dataloader_v1(raw_text, batch_size = 8, max_length=max_length,\n",
        "                                          stride=max_length, shuffle=False)\n"
      ],
      "metadata": {
        "id": "LtxvVvCHiTbI"
      },
      "execution_count": null,
      "outputs": []
    },
    {
      "cell_type": "markdown",
      "source": [
        "Since the batch_size = 8, each batch will have tensor dimension of 8x4 (8=batch size=number of rows, 4=context_length=max_length=number of columns)."
      ],
      "metadata": {
        "id": "oc34inz6jzxn"
      }
    },
    {
      "cell_type": "code",
      "source": [
        "data_iter = iter(dataloader_verdict)\n",
        "inputs, targets = next(data_iter)\n",
        "print(\"Token Ids: \\n\", inputs)\n",
        "print(\"Shape:\",inputs.shape)"
      ],
      "metadata": {
        "colab": {
          "base_uri": "https://localhost:8080/"
        },
        "id": "4Tg9sB-skoBx",
        "outputId": "472cecc8-044a-4636-d928-b5f7263b9f31"
      },
      "execution_count": null,
      "outputs": [
        {
          "output_type": "stream",
          "name": "stdout",
          "text": [
            "Token Ids: \n",
            " tensor([[   40,   367,  2885,  1464],\n",
            "        [ 1807,  3619,   402,   271],\n",
            "        [10899,  2138,   257,  7026],\n",
            "        [15632,   438,  2016,   257],\n",
            "        [  922,  5891,  1576,   438],\n",
            "        [  568,   340,   373,   645],\n",
            "        [ 1049,  5975,   284,   502],\n",
            "        [  284,  3285,   326,    11]])\n",
            "Shape: torch.Size([8, 4])\n"
          ]
        }
      ]
    },
    {
      "cell_type": "markdown",
      "source": [
        "Using the embedding layer which was initially created to embed these 8x4 sized tensors. Here each of the token_ids will be matched to a vector embeding in a 256 dimensional space. Essentially, each tensor will have dimensions of 8x4x256 (3D tensor)."
      ],
      "metadata": {
        "id": "U1cbwG3jmfjR"
      }
    },
    {
      "cell_type": "code",
      "source": [
        "vector_embeddings = token_embedding_layer(inputs)\n",
        "print(vector_embeddings.shape)"
      ],
      "metadata": {
        "colab": {
          "base_uri": "https://localhost:8080/"
        },
        "id": "QjZZVW4ClYG8",
        "outputId": "5e1f6e53-7c9f-4d9e-b561-9821958fb7f3"
      },
      "execution_count": null,
      "outputs": [
        {
          "output_type": "stream",
          "name": "stdout",
          "text": [
            "torch.Size([8, 4, 256])\n"
          ]
        }
      ]
    },
    {
      "cell_type": "markdown",
      "source": [
        "# Adding Positional Embeddings to the Vector Embeddings to create the input embeddings"
      ],
      "metadata": {
        "id": "e8G3vx3Rn0bJ"
      }
    },
    {
      "cell_type": "markdown",
      "source": [
        "Positional embeddings are important as tokens appearing at the starting of the input can have different semantic meaning or context compared to tokens appearing at the end of the input. We basically create pos_embeddings based on the size of each row of input (context_size=max_length) being processed. Here, we are mapping 4 token_ids in each row where each token id furter has 256 dimensions which is mapped to the vocab, so we create positional embedding layer of 4x256 dimension.\n",
        "Essentially, we embed the same pos_embedding vector to all the vector embeddings depending on their positions in the matrix. So, 1st column vector embedding will always get added with 1st column pos_embedding. Similarly 2nd column vector_embedding will always get added with 2nd column pos_embedding and so on till 4th column."
      ],
      "metadata": {
        "id": "nvsqCxeaoCHm"
      }
    },
    {
      "cell_type": "code",
      "source": [
        "context_length = max_length\n",
        "pos_embedding_layer = torch.nn.Embedding(context_length, output_dim)\n",
        "pos_embeddings = pos_embedding_layer(torch.arange(context_length))\n",
        "print(pos_embeddings.shape)"
      ],
      "metadata": {
        "colab": {
          "base_uri": "https://localhost:8080/"
        },
        "id": "Nalh7VXPnp4c",
        "outputId": "e285b8a5-d0d3-4eb4-ca84-f200e6810acf"
      },
      "execution_count": null,
      "outputs": [
        {
          "output_type": "stream",
          "name": "stdout",
          "text": [
            "torch.Size([4, 256])\n"
          ]
        }
      ]
    },
    {
      "cell_type": "markdown",
      "source": [
        "torch.arrange is used to create 1-D tensors from 0 till context_length-1. In our case context_length = 4[0,1,2,3] and each of them will have 256 dimensions. This is done using torch.arrange."
      ],
      "metadata": {
        "id": "xcqXdw2NtLfm"
      }
    },
    {
      "cell_type": "markdown",
      "source": [
        "Creating the final **input_embeddings** by adding the **vector_embeddings** with **pos_embddings**"
      ],
      "metadata": {
        "id": "nYFAdgRIu6uK"
      }
    },
    {
      "cell_type": "code",
      "source": [
        "input_embeddings = vector_embeddings + pos_embeddings\n",
        "print(input_embeddings.shape)"
      ],
      "metadata": {
        "colab": {
          "base_uri": "https://localhost:8080/"
        },
        "id": "B1_onQpsvPL7",
        "outputId": "b71b4550-d7fe-472b-f347-876facd92eba"
      },
      "execution_count": null,
      "outputs": [
        {
          "output_type": "stream",
          "name": "stdout",
          "text": [
            "torch.Size([8, 4, 256])\n"
          ]
        }
      ]
    },
    {
      "cell_type": "markdown",
      "source": [
        "#Causal Attention (single head) for a sample input tensor"
      ],
      "metadata": {
        "id": "45NNta7yBSvG"
      }
    },
    {
      "cell_type": "markdown",
      "source": [
        "We implement causal attention for a single head for a sample tensor input. This can be extended to a multi-head approach where computations are done in parallel."
      ],
      "metadata": {
        "id": "Y3BWnOUoBlF8"
      }
    },
    {
      "cell_type": "markdown",
      "source": [
        "Note: Causal attention is different compared to self attention as causal attention implements **not** conserving future tokens by intorducing masking to cover the upper triangular attention score matrices  while normal self atention needs access to the future tokens to actually cause an impact (atend to) on the previous tokens. Autoregressive models like GPT uses Causal attention while Bidirectional models like BERT uses self-attention"
      ],
      "metadata": {
        "id": "0OYSc6WMCEpV"
      }
    },
    {
      "cell_type": "code",
      "source": [
        "import torch\n",
        "sample_inputs = torch.tensor(\n",
        "      [[0.43, 0.15, 0.89],    #Your\n",
        "       [0.55, 0.87, 0.66],    #journey\n",
        "       [0.57, 0.85, 0.64],    #starts\n",
        "       [0.22, 0.58, 0.33],    #with\n",
        "       [0.77, 0.25, 0.10],    #one\n",
        "       [0.05, 0.80, 0.55]]    #step\n",
        ")"
      ],
      "metadata": {
        "id": "A885Qt-fvjIW"
      },
      "execution_count": null,
      "outputs": []
    },
    {
      "cell_type": "markdown",
      "source": [
        "After creating sample tensor input of dimension 6x3 ( each row corresponds to the input vector embedding of tokens \"Your\", \"journey\", \"starts\", \"with\", \"one\",\"step\". Each column corresponds to the the dimensional space at which they are embedded in. We can see, here to make things easier, they are represented in 3dimensional vector space.) Note: GPTs and other models are generally embedding in higher space(12000+ for GPT3) and also have more context length (more rows)."
      ],
      "metadata": {
        "id": "6v99nzphGQ_S"
      }
    },
    {
      "cell_type": "markdown",
      "source": [
        "Before starting the attention mechanism, we kind of assume that the input vector embedding have somehow encoded the meaning of the words given to them."
      ],
      "metadata": {
        "id": "OTmNQwpuHbcz"
      }
    },
    {
      "cell_type": "markdown",
      "source": [
        "The main goal of the attention is to give **RICHER** context to the input embeddings."
      ],
      "metadata": {
        "id": "owKeGVqVH5Cv"
      }
    },
    {
      "cell_type": "markdown",
      "source": [
        "Attention Pattern (Attention scores) are generated by considering the 3 weighted matrices (Query, Key, Value). As usual these matrices are initialized with random weights as the model learns to adjust them accordingly during training and back propagation."
      ],
      "metadata": {
        "id": "Ms6FuIDlJm0c"
      }
    },
    {
      "cell_type": "markdown",
      "source": [
        "**Goal of Query matrix**: Think of query vector like asking question to all the vecotrs in the vector subspace.\n",
        "\n",
        "**Goal of Key matrix**: Think of key matrices like answering to the query by revealing its location in the vector space.\n",
        "\n",
        "**Goal of Value matrix**: To navigate/move the query-key vectors to create a context_vector which has the required richer relationship considering all the input tokens."
      ],
      "metadata": {
        "id": "-8S2-51aRyhR"
      }
    },
    {
      "cell_type": "markdown",
      "source": [
        "To make the model easily scalable, we'll create a batch (by stacking the input on top of the same input of same values). This batch is then passed as a parameter to the causal attention function."
      ],
      "metadata": {
        "id": "4CqETH1wW0iv"
      }
    },
    {
      "cell_type": "code",
      "source": [
        "batch = torch.stack((sample_inputs, sample_inputs), dim=0)\n",
        "print(batch.shape)"
      ],
      "metadata": {
        "colab": {
          "base_uri": "https://localhost:8080/"
        },
        "id": "0XJ4ltEcH4SZ",
        "outputId": "ba6a2e27-1e15-43c0-b0b9-cf2716405213"
      },
      "execution_count": null,
      "outputs": [
        {
          "output_type": "stream",
          "name": "stdout",
          "text": [
            "torch.Size([2, 6, 3])\n"
          ]
        }
      ]
    },
    {
      "cell_type": "markdown",
      "source": [
        "2 represents the number of stacks, 6 represents the context_length dimension (number of tokens considered at once to calculate the attention pattern/score). 3 represents each token dimension in the vector space."
      ],
      "metadata": {
        "id": "RinOE95FXMth"
      }
    },
    {
      "cell_type": "code",
      "source": [
        "import torch.nn as nn\n",
        "\n",
        "class CausalAttention(nn.Module):\n",
        "    def __init__(self, d_in, d_out, context_length, dropout, qkv_bias = False):\n",
        "        super().__init__()\n",
        "        self.d_out = d_out\n",
        "        self.W_query = nn.Linear(d_in, d_out, bias = qkv_bias)\n",
        "        self.W_key = nn.Linear(d_in, d_out, bias = qkv_bias)\n",
        "        self.W_value = nn.Linear(d_in, d_out, bias = qkv_bias)\n",
        "        self.dropout = nn.Dropout(dropout)\n",
        "        self.register_buffer('mask', torch.triu(torch.ones(context_length, context_length), diagonal = 1))\n",
        "\n",
        "\n",
        "    def forward(self, x):\n",
        "        b, num_tokens, d_in = x.shape\n",
        "        keys = self.W_key(x)\n",
        "        queries = self.W_query(x)\n",
        "        values = self.W_value(x)\n",
        "\n",
        "        attn_scores = queries @ keys.transpose(1, 2)\n",
        "        attn_scores.masked_fill_(self.mask.bool()[:num_tokens, :num_tokens], -torch.inf)\n",
        "        attn_weights = torch.softmax(attn_scores / keys.shape[-1]**0.5, dim=-1)\n",
        "        attn_weights = self.dropout(attn_weights)\n",
        "        context_vec = attn_weights @ values\n",
        "        return context_vec"
      ],
      "metadata": {
        "id": "iafGuUOSWsrV"
      },
      "execution_count": null,
      "outputs": []
    },
    {
      "cell_type": "markdown",
      "source": [
        "**Step 1**: Create weighted matrices for query, key and value with the dimenions **d_in X d_out** (d_in should be equal to the dimension of each token = 3 in the case we're gonna define below, d_out can be any value and it represents the overall output dimension of context_vec. we have taken d_out = 2 in sample case defined below). These matrices can be created using torch.nn.Linear() which follows the formula y = x.A**T + b and also taking in the parameters equal to the d_in and d_out. Also, by default bias gets added the weighted matrices, to remove the bias, set bias = False)"
      ],
      "metadata": {
        "id": "cYP1I8IkcYXU"
      }
    },
    {
      "cell_type": "markdown",
      "source": [
        "**Step 2:** Inside **forward** function, the W_key, W_query and W_value matrices all get multiplied with the sample_input tensor, producing, 'keys', 'queries' and 'values' matrices respectively. Note: They have the shape(dimensions) of **b** (batch_size) x **num_tokens** (context_length) x **d_in** (each input token dimension). In our sample_input, we started out with 2x6x3 dimensions where each of the tensor has dimensions of 6x3. Now this 6x3 matrix gets multiplied with 3x2 (initially weighed key, query and value matrices) seperately to produce 6x2 dimensional keys, queries and values matrices sepertely. When stacked, they have the dimension 2x6x2 which denotes batch_size, num_tokens and d_in. Now we dont need the input tensors anymore as their information lies within these 3 matrices."
      ],
      "metadata": {
        "id": "DH4WgqGog8il"
      }
    },
    {
      "cell_type": "markdown",
      "source": [
        "**Step 3**: Attention score/Attention pattern is generated by taking the dot-product (@) between queries and keys transpose. Note: Since queries, keys and values matrices have the input dimensions: batch_size x num_tokens x d_in (2 x 6 x 2), considering only the 2nd and the 3rd dimensions which is (1,2) which is basically num_tokens x d_in from the list gives queries(6 x 2) and keys transpose(2 x 6). So the resultant attn_score is now having the dimensions(6 x 6)"
      ],
      "metadata": {
        "id": "fJCS88h8q2gD"
      }
    },
    {
      "cell_type": "markdown",
      "source": [
        "**Step 4:** We use *register_buffer()* to create a matrix (mask) full of ones in the upper traingle and zeros in the lower triangle. Diagonal = 1 implies that we shift our diagonal by 1 unit up. This matrix will later used to mask the attn_score matrix to produce attn_weight matrix."
      ],
      "metadata": {
        "id": "gGsu4nZcu59U"
      }
    },
    {
      "cell_type": "markdown",
      "source": [
        "**Step 5:** We replace 1s (bool) in the mask matrix with -inf and then we will mask it with the attn_scores matrix to create attn_weights matrix. For this *masked_fill_()* fucntion from pytorch is used.\n",
        "\n",
        "Note: [:num_token, :num_token] is given as a range to iterate over the entire mask matrix. We can edit this range for customized masking where we can select the rows and columns to mask."
      ],
      "metadata": {
        "id": "K8Tj9UeH7L7L"
      }
    },
    {
      "cell_type": "markdown",
      "source": [
        "**Step 6:** We apply **softmax** function to **normalize** the **attn_weight** matrix row by row so that all weights now lie in the range 0 to 1 (includes both 0 and 1). Also, the sum of all weights in each row should be 1. -inf turns to 0 as there is an exponent in the softmax function. (Softmax = (e**x1 - max_weight of that row) divided by the sum of the row currently). Also, the attn_score gets divided by the sqrt(keys matrix 2nd dimension)"
      ],
      "metadata": {
        "id": "sB0XxoKR__wl"
      }
    },
    {
      "cell_type": "markdown",
      "source": [
        "**Step 7:** Implementation of dropouts using the **torch.nn.dropout()** function to make sure all neurons are active and none of them become inactive. This is done by dropping out specified percentages of the attn_weight. After dropping out, the function automatically scaled the remaining weights by the amount dropped in order to maintain the total sum of activations of neurons which is constant. Note: weights will get randomly dropped but the probability(percentage) is maintained across the entire attn_weight matrix and not across each row."
      ],
      "metadata": {
        "id": "JPV0mXnXCRvR"
      }
    },
    {
      "cell_type": "markdown",
      "source": [
        "Step 8: We finally multiply the attn_weight matrix (6x6) with the values matrix (6x2) which produces the final context_vec matrix having dimensions (6x2). 2 batches of these will be generated. Each of 1st dimension is corresponding to the input tokens.\n",
        "This means each row of the contex_vec matrix will correspond to a vector with 2 dimensions. So we get 6 context vectors for 6 tokens with each of them having enriched meanings and relationships. Also the later tokens aren't affecting the earlier tokens in this mechanism."
      ],
      "metadata": {
        "id": "QZLYMVcEENJl"
      }
    },
    {
      "cell_type": "markdown",
      "source": [
        "Using Causal Attention by creating an instance:"
      ],
      "metadata": {
        "id": "x2cdi_S9GPKd"
      }
    },
    {
      "cell_type": "code",
      "source": [
        "torch.manual_seed(123)\n",
        "d_in = sample_inputs.shape[1]\n",
        "d_out = 2\n",
        "context_length = batch.shape[1]\n",
        "causal_attn = CausalAttention(d_in, d_out , context_length, 0.0)\n",
        "context_vec = causal_attn(batch)\n",
        "print(context_vec)\n",
        "print(\"\\n\",context_vec.shape)"
      ],
      "metadata": {
        "colab": {
          "base_uri": "https://localhost:8080/"
        },
        "id": "xv-5dT-jcWWi",
        "outputId": "85e8e371-dbfd-41ab-b4f2-04e1b6c33da7"
      },
      "execution_count": null,
      "outputs": [
        {
          "output_type": "stream",
          "name": "stdout",
          "text": [
            "tensor([[[-0.4519,  0.2216],\n",
            "         [-0.5874,  0.0058],\n",
            "         [-0.6300, -0.0632],\n",
            "         [-0.5675, -0.0843],\n",
            "         [-0.5526, -0.0981],\n",
            "         [-0.5299, -0.1081]],\n",
            "\n",
            "        [[-0.4519,  0.2216],\n",
            "         [-0.5874,  0.0058],\n",
            "         [-0.6300, -0.0632],\n",
            "         [-0.5675, -0.0843],\n",
            "         [-0.5526, -0.0981],\n",
            "         [-0.5299, -0.1081]]], grad_fn=<UnsafeViewBackward0>)\n",
            "\n",
            " torch.Size([2, 6, 2])\n"
          ]
        }
      ]
    },
    {
      "cell_type": "markdown",
      "source": [
        "# Multi-Head attention with weight splits"
      ],
      "metadata": {
        "id": "E27ijflmjMyJ"
      }
    },
    {
      "cell_type": "code",
      "source": [
        "import torch.nn as nn\n",
        "\n",
        "class MultiHeadAttention(nn.Module):\n",
        "  def __init__(self, d_in, d_out, context_length, dropout, num_heads, qkv_bias = False):\n",
        "    super().__init__()\n",
        "    assert (d_out % num_heads == 0), \\\n",
        "    \" d_out must be divisible by num_heads\"\n",
        "\n",
        "    self.d_out = d_out\n",
        "    self.num_heads = num_heads\n",
        "    self.head_dim = d_out // num_heads #Reducing the proj dimension to match the output dim\n",
        "    self.W_query = nn.Linear(d_in, d_out, bias = qkv_bias)\n",
        "    self.W_keys = nn.Linear(d_in, d_out, bias = qkv_bias)\n",
        "    self.W_values = nn.Linear(d_in, d_out, bias = qkv_bias)\n",
        "    self.dropout = nn.Dropout()\n",
        "    # Mask layer consisting of an upper triangluar matrix (lower part = 0, upper part= 1, diagonal = 1 by default).\n",
        "    # putting digonal = 1 in the parameter, shifts the diagonal up by 1 unit. so diagonals will be filled with 0.\n",
        "    self.register_buffer('mask', torch.triu(torch.ones(context_length, context_length), diagonal = 1))\n",
        "    self.out_proj = nn.Linear(d_out, d_out) #Linear layer to combine output heads\n",
        "\n",
        "  def forward(self, x):\n",
        "    b, num_tokens, d_in = x.shape\n",
        "    queries = self.W_query(x)\n",
        "    keys = self.W_keys(x)\n",
        "    values = self.W_values(x)\n",
        "\n",
        "# Changing the dimensions of keys, queries and values matrices by unrolling/replacing the d_out with num_head,head_dim\n",
        "# Basically we are converting the 3dim tensor to a 4dim tensor\n",
        "\n",
        "    queries = queries.view(b, num_tokens, self.num_heads, self.head_dim)\n",
        "    keys = keys.view(b, num_tokens, self.num_heads, self.head_dim)\n",
        "    values = values.view(b, num_tokens, self.num_heads, self.head_dim)\n",
        "\n",
        "# Now we will group by num_heads instead of num_tokens. For this we need to\n",
        "# switch (b, num_tokens, num_heads, head_dim) with (b, num_heads, num_tokens, head_dim).\n",
        "# This is done by taking the transpose between 1 and 2 positions.\n",
        "    queries = queries.transpose(1, 2)\n",
        "    keys = keys.transpose(1, 2)\n",
        "    values = values.transpose(1, 2)\n",
        "\n",
        "#Computing attn_scores by taking dot product queries and keys.transpose. We will consider switching num_tokens and head_dim\n",
        "# queries (b, num_heads, num_tokens, head_dim) will be multiplied with keys transpose (b, num_heads, head_dim, num_tokens).\n",
        "# So the resulting attn_scores dim will be (b, num_heads, num_tokens, num_tokens).\n",
        "# Therefore, for each head, the rows and columns will be num_tokens and num_tokens effectively generating the attention pattern.\n",
        "    attn_scores = queries @ keys.transpose(2, 3)\n",
        "\n",
        "# Implementing a mask layer to prevent the future tokens from affecting the previous tokens.\n",
        "# mask.bool() returns all 1's, so we will replace them with -inf and add that to the attn_scores matrix.\n",
        "    mask_bool = self.mask.bool()[:num_tokens, :num_tokens]\n",
        "    attn_scores.masked_fill_(mask_bool, -torch.inf)\n",
        "\n",
        "# computing attn_weights by dividing attn_scores by the head_dim which is at -1 pos in (b, num_heads, num_tokens, head_dim).\n",
        "# dim = -1 is given to make sure each rows (and not cols) sum up to 1.\n",
        "# Normalizing using softmax() which replaces -inf with 0 and also makes sure\n",
        "# all rows add up to 1 with each value between 0 and 1. So even -ve values will be replaced with a +ve one.\n",
        "# The resulting normalized and masked attn_weights dim remains unchanged (b, num_heads, num_tokens, num_tokens)\n",
        "    attn_weights = torch.softmax(attn_scores / keys.shape[-1]**0.5, dim = -1)\n",
        "    attn_weights = self.dropout(attn_weights)\n",
        "\n",
        "# Computing updated attn_weights matrix by\n",
        "# multiplying attn_weights(b, num_heads, num_tokens, num_tokens) with values (b, num_tokens, num_heads, head_dim) matrix.\n",
        "# Resultant matrix will have dim (b, num_heads, num_tokens, head_dim)\n",
        "# We need to swap back num_tokens and num_heads because the final resultant context_vec matrix will have\n",
        "# dim as (b, num_tokens, d_out) where d_out = (num_heads, head_dim)\n",
        "    context_vec = (attn_weights @ values).transpose(1, 2)\n",
        "# contiguous() merges num_heads and head_dim\n",
        "    context_vec = context_vec.contiguous().view(b, num_tokens, self.d_out)\n",
        "# combining the output heads\n",
        "    context_vec = self.out_proj(context_vec)\n",
        "\n",
        "    return context_vec"
      ],
      "metadata": {
        "id": "AgVTg9zIIUD4"
      },
      "execution_count": null,
      "outputs": []
    },
    {
      "cell_type": "markdown",
      "source": [
        "Implementing MHA using a sample tensor as input."
      ],
      "metadata": {
        "id": "UUwgq8OM9uFn"
      }
    },
    {
      "cell_type": "code",
      "source": [
        "torch.manual_seed(123)\n",
        "inputs = torch.tensor(\n",
        "        [[0.43, 0.15, 0.89, 0.55, 0.23, 0.32],    # Row 1 token\n",
        "         [0.64, 0.98, 0.54, 0.23, 0.54, -0.56],   # Row 2 token\n",
        "         [0.43, 0.15, 0.89, 0.55, 0.87, 0.66]]    # Row 3 token\n",
        ")\n",
        "\n",
        "batch = torch.stack((inputs, inputs), dim=0)\n",
        "print(batch.shape)\n",
        "\n",
        "batch_size, context_length, d_in = batch.shape\n",
        "d_out = 6\n",
        "mha = MultiHeadAttention(d_in, d_out, context_length, 0.0, num_heads=2)\n",
        "context_vec = mha(batch)\n",
        "print(context_vec)\n",
        "print(context_vec.shape)"
      ],
      "metadata": {
        "colab": {
          "base_uri": "https://localhost:8080/"
        },
        "id": "srE5tBUkwYZp",
        "outputId": "913633cc-e128-44c9-b795-d1f4dc860fa5"
      },
      "execution_count": null,
      "outputs": [
        {
          "output_type": "stream",
          "name": "stdout",
          "text": [
            "torch.Size([2, 3, 6])\n",
            "tensor([[[-0.0152, -0.1093, -0.2054,  0.0487, -0.4244, -0.3690],\n",
            "         [ 0.1787, -0.0857,  0.1942, -0.1442, -0.2542, -0.4416],\n",
            "         [ 0.1650, -0.0203,  0.2202, -0.0756, -0.3357, -0.3732]],\n",
            "\n",
            "        [[ 0.1716, -0.0724,  0.0353, -0.0056, -0.2458, -0.2790],\n",
            "         [ 0.0618, -0.1808, -0.2494,  0.0312, -0.3029, -0.3069],\n",
            "         [ 0.1300, -0.1126, -0.0586,  0.0230, -0.3148, -0.2657]]],\n",
            "       grad_fn=<ViewBackward0>)\n",
            "torch.Size([2, 3, 6])\n"
          ]
        }
      ]
    },
    {
      "cell_type": "markdown",
      "source": [
        "This basically gives us multiple contexts (or many different meanings) to the tokens thus making them closer to many other tokens in the vector space. Example: Give just \"Tower\", the model will assume that the tower is a 'large', 'tall', 'steel' structure and tries to give the vector embeddings which are close to 'tall', 'large' and 'steel'. If we just change the input to \"Eiffel Tower\", now the vector will slightly point more towards Paris, France along with the previous embeddings it had with large, tall and steel. If I again change the input to \"Miniature Eiffel Tower\", then the model no longer points towards large, tall and steel. So this change in vector embeddings are done by the Value Matrices mulitplication which basically steers the vectors by providing direction using which it can scale up or down the dimension subspace and then point in the updated direction. There are 2 kinds of value matrices, value up and value down. Value up matrices puts the vector to a higher dimensional space and are generally stiched together to form a single matrix in transformers usually. Value down matrices are usually referred to as output matrix which basically brings down the vector from higher dimensional to lower dimensional space."
      ],
      "metadata": {
        "id": "GXLNVmvm_195"
      }
    },
    {
      "cell_type": "markdown",
      "source": [
        "# Layer Normalization, GELU and FeedForward"
      ],
      "metadata": {
        "id": "cjYXqiTxoo-x"
      }
    },
    {
      "cell_type": "markdown",
      "source": [
        "Layer Normalization: We do layer normalization on 3 seperate occasions in the GPT architecture (2 times  inside the Transformer block). First time usage is after receiving the input vector embeddings (input encoding from the lookup consisting of 50257 tokens + positional encodings) but before the Masked Multi-Head Attention. Second time is before the Feed Forward layer. Third time is out of the transformer block which we will implement later. Goal of normalization is to make the mean across the vector embeddings of every token to be 0 and variance to be 1. By doing this we can keep the gradient stable and the learnig process is at a good rate. It also prevents the internal covariate shift which basically changes the input distributions for all layers in the feed forward neural network. The normalization is done by taking the input vectors (dim = 768) for each token and for each vector dimension(weight) subtracting the mean across the columns of that particular row (for each input token basically) with the weight and dividing the difference by the square root of variance of that particular token (across the col). (Variance is calculated by taking the weighted sums of squared difference between each weight(vector) and the mean across that col and dividing it over the total vector dimensions.)"
      ],
      "metadata": {
        "id": "icCc31GQozNS"
      }
    },
    {
      "cell_type": "code",
      "source": [
        "GPT2_CONFIG_124MP = {\n",
        "    \"vocab_size\": 50257,\n",
        "    \"context_length\": 256,\n",
        "    \"emb_dim\": 768,\n",
        "    \"n_layers\": 12,\n",
        "    \"n_heads\": 12,\n",
        "    \"drop_rate\": 0.1,\n",
        "    \"qkv_bias\": False\n",
        "}\n",
        "\n",
        "class LayerNorm(nn.Module):\n",
        "  def __init__(self, emb_dim):\n",
        "    super().__init__()\n",
        "    self.eps = 1e-5\n",
        "    self.scale = nn.Parameter(torch.ones(emb_dim))\n",
        "    self.shift = nn.Parameter(torch.zeros(emb_dim))\n",
        "\n",
        "  def forward(self, x):\n",
        "    mean = x.mean(dim=-1, keepdim = True)\n",
        "    var = x.var(dim=-1, keepdim = True, unbiased = False)\n",
        "    norm_x = x - mean / torch.sqrt(var + self.eps)\n",
        "    return self.scale * norm_x + self.shift"
      ],
      "metadata": {
        "id": "TD6ze3sZ_p_g"
      },
      "execution_count": null,
      "outputs": []
    },
    {
      "cell_type": "markdown",
      "source": [
        "GELU (Gaussian Error Linear Unit): This function basically smoothens the outputs of the each Linear Layer (neural network with hidden weights). This step is done every time after getting the outputs from the Linear Layer. This is a non-linear fucntion which solves the **dead neuron** problem (learning doesn't get hindered)  and **differentiability** of the output vectors of values a little less than 0 (as they dont automatically get changed to 0 like in RELU)."
      ],
      "metadata": {
        "id": "bN_Radgs21bb"
      }
    },
    {
      "cell_type": "code",
      "source": [
        "class GELU(nn.Module):\n",
        "  def __init__(self):\n",
        "    super().__init__()\n",
        "\n",
        "  def forward(self, x):\n",
        "    return 0.5 * x * (1 + torch.tanh(torch.sqrt(torch.tensor(2.0/torch.pi)) * (x + 0.044715 * torch.pow(x, 3))))"
      ],
      "metadata": {
        "id": "UPbplnqd2yIw"
      },
      "execution_count": null,
      "outputs": []
    },
    {
      "cell_type": "markdown",
      "source": [
        "Alternatively, we can use the inbuilt torch.nn.GELU(x) function from pytorch library which uses the same underlying formula."
      ],
      "metadata": {
        "id": "lASPiUct9cpn"
      }
    },
    {
      "cell_type": "markdown",
      "source": [
        "Feed Forward Layer (Linear Layer): This layer basically projects the tokens each having 768 dimensional vectors into a higher dimensional space (4 times higher) to make sure the vectors absorb richer context between the tokens and then contracted back into 768 dimensional vectors. We make sure to apply GELU after the expansion (before the contraction)."
      ],
      "metadata": {
        "id": "hRbnh6wj-IH_"
      }
    },
    {
      "cell_type": "code",
      "source": [
        "class FeedForward(nn.Module):\n",
        "  def __init__(self, cfg):\n",
        "    super().__init__()\n",
        "    self.layers = nn.Sequential(\n",
        "        nn.Linear(cfg[\"emb_dim\"], 4 * cfg[\"emb_dim\"]),\n",
        "        GELU(),\n",
        "        nn.Linear(4 * cfg[\"emb_dim\"], cfg[\"emb_dim\"])\n",
        "    )\n",
        "\n",
        "  def forward(self, x):\n",
        "    return self.layers(x)"
      ],
      "metadata": {
        "id": "5jei-7dq9b54"
      },
      "execution_count": null,
      "outputs": []
    },
    {
      "cell_type": "markdown",
      "source": [
        "# Designing and instantiating the final Transformer block (including shortcut connections)"
      ],
      "metadata": {
        "id": "sm4foXU9AgsX"
      }
    },
    {
      "cell_type": "markdown",
      "source": [
        "Shortcut connections are added to solve the** vanishing gradient problem** (after each iteration of backpropagation, the gradient gets reduced to such extent that the learning becomes stagnant as the model assumes no difference in the gradient). To solve this, we add the previous input layer to the output layer **after the dropouts** in the Multihead attention and Feed forward mechanisms."
      ],
      "metadata": {
        "id": "nmcMAZkyA06M"
      }
    },
    {
      "cell_type": "code",
      "source": [
        "class TransformerBlock(nn.Module):\n",
        "  def __init__(self, cfg):\n",
        "    super().__init__()\n",
        "    self.attn = MultiHeadAttention(\n",
        "        d_in = cfg[\"emb_dim\"],\n",
        "        d_out = cfg[\"emb_dim\"],\n",
        "        context_length = cfg[\"context_length\"],\n",
        "        num_heads = cfg[\"n_heads\"],\n",
        "        dropout = cfg[\"drop_rate\"],\n",
        "        qkv_bias= cfg[\"qkv_bias\"])\n",
        "    self.ff = FeedForward(cfg)\n",
        "    self.norm1 = LayerNorm(cfg[\"emb_dim\"])\n",
        "    self.norm2 = LayerNorm(cfg[\"emb_dim\"])\n",
        "    self.drop_shortcut = nn.Dropout(cfg[\"drop_rate\"])\n",
        "\n",
        "\n",
        "  def forward(self, x):\n",
        "    # Shortcut connection for the attention block\n",
        "    shortcut = x\n",
        "    x = self.norm1(x)\n",
        "    x = self.attn(x)\n",
        "    x = self.drop_shortcut(x)\n",
        "    x = shortcut + x\n",
        "\n",
        "    # Shortcut connection for the feedforward block\n",
        "    shortcut = x\n",
        "    x = self.norm2(x)\n",
        "    x = self.ff(x)\n",
        "    x = self.drop_shortcut(x)\n",
        "    x = shortcut + x\n",
        "\n",
        "    return x"
      ],
      "metadata": {
        "id": "EmDHUP65ATgY"
      },
      "execution_count": null,
      "outputs": []
    },
    {
      "cell_type": "code",
      "source": [
        "torch.manual_seed(123)\n",
        "x = torch.rand(2, 4, 768) #(batch, tokens, dimensions)\n",
        "block = TransformerBlock(GPT2_CONFIG_124MP)\n",
        "output = block(x)\n",
        "print(\"Input Tensor shape: \", x.shape)\n",
        "print(\"Output Tensor shape: \", output.shape)"
      ],
      "metadata": {
        "colab": {
          "base_uri": "https://localhost:8080/"
        },
        "id": "nvC_liQgE1TS",
        "outputId": "9d10d9b7-44a5-468b-e748-b0c9739fbb40"
      },
      "execution_count": null,
      "outputs": [
        {
          "output_type": "stream",
          "name": "stdout",
          "text": [
            "Input Tensor shape:  torch.Size([2, 4, 768])\n",
            "Output Tensor shape:  torch.Size([2, 4, 768])\n"
          ]
        }
      ]
    },
    {
      "cell_type": "markdown",
      "source": [
        "As we can observe that the dimensions are **consistent** which is the main thing in Transformer. This is super useful so as to easily stack the tensors one on top of another without worrying too much about the dimensions. It also allows for the computation of matrix multiplications in the attention mechanism( Consider 2 matrices p x q and r x s. Here, matrix multiplication is possible only if q=r and the resultant matrix dimension would be p x s)."
      ],
      "metadata": {
        "id": "CvOdWacXHURl"
      }
    },
    {
      "cell_type": "markdown",
      "source": [
        "# Building/Connecting the entire 124M parametric model."
      ],
      "metadata": {
        "id": "bGmnpZc4vXnL"
      }
    },
    {
      "cell_type": "code",
      "source": [
        "class GPTModel(nn.Module):\n",
        "  def __init__(self,cfg):\n",
        "    super().__init__()\n",
        "    self.tok_emb = nn.Embedding(cfg[\"vocab_size\"], cfg[\"emb_dim\"]) # Initializing tok_emb\n",
        "    self.pos_emb = nn.Embedding(cfg[\"context_length\"], cfg[\"emb_dim\"]) # Initializing pos_emb\n",
        "    self.drop_emb = nn.Dropout(cfg[\"drop_rate\"]) # Initializing drop out rate (drop_emb)\n",
        "\n",
        "    self.trf_blocks = nn.Sequential(* [TransformerBlock(cfg) for _ in range(cfg[\"n_layers\"])])\n",
        "    # Chain the transformer and stack the tensors till n_layers (12 in GPT2 as defined in the dict)\n",
        "\n",
        "    self.final_norm = LayerNorm(cfg[\"emb_dim\"]) # Initializing Final normalization layer\n",
        "\n",
        "    self.out_head = nn.Linear(cfg[\"emb_dim\"], cfg[\"vocab_size\"], bias = False)\n",
        "    # Initializing the final output layer containing logits.\n",
        "    # Input dim of tokens = 768(emb_dim) x N(num_tokens).\n",
        "    # Dim of the output linear layer = N(num_tokens) x 50257(vocab_size).\n",
        "    # Output dim of Logits = n_batches x 768(emb_dim) x 50257(vocab_size).\n",
        "\n",
        "  def forward(self, in_idx):\n",
        "    batch_size, seq_len = in_idx.shape # To define the shape(dimensions) of entire token_ids (in_idx)\n",
        "    tok_embeds = self.tok_emb(in_idx)  # To create token embeddings for all the token_ids (in_idx)\n",
        "    pos_embeds = self.pos_emb(torch.arange(seq_len, device = in_idx.device)) # To create pos_emb only till seq_len and start=0 is assumed\n",
        "    x = tok_embeds + pos_embeds # Combining both tok_emb and pos_emb to form the input embeddings\n",
        "    x = self.drop_emb(x) # Performing dropout\n",
        "    x = self.trf_blocks(x) # Going inside the transformers\n",
        "    x = self.final_norm(x) # Performing the final normalization\n",
        "    logits = self.out_head(x) # Passing the normalized values through linear layer to produce logits\n",
        "\n",
        "    return logits"
      ],
      "metadata": {
        "id": "2urQVLaPGHPI"
      },
      "execution_count": null,
      "outputs": []
    },
    {
      "cell_type": "markdown",
      "source": [
        "Logits contain the likelihood (probability but not exactly) of all tokens from the vocab_size. Our job is to select the highest valued logits which will be essentially be the next token. To do this, its best practice to pass these logits into a non-linear function (softmax preferably) which gives the probabilities for all tokens to be the next token."
      ],
      "metadata": {
        "id": "7eWMY04q67Nv"
      }
    },
    {
      "cell_type": "code",
      "source": [
        "torch.manual_seed(123)\n",
        "batch = torch.randint(0, 50257, (2, 4)) # random token_ids from the vocab (50257) and creating a tensor of size 2(batch_size) x 4(seq_len)\n",
        "model = GPTModel(GPT2_CONFIG_124MP)\n",
        "out = model(batch)\n",
        "print(\"Input Batch:\\n\", batch)\n",
        "print(\"\\n Output shape:\", out.shape)\n",
        "print(out)"
      ],
      "metadata": {
        "colab": {
          "base_uri": "https://localhost:8080/"
        },
        "id": "Ws2IIwYB64QR",
        "outputId": "211d2b80-b5ef-422a-8bbc-aeecd9b7a708"
      },
      "execution_count": null,
      "outputs": [
        {
          "output_type": "stream",
          "name": "stdout",
          "text": [
            "Input Batch:\n",
            " tensor([[15742, 11036, 24681,  8041],\n",
            "        [37378,  3791, 20331, 32351]])\n",
            "\n",
            " Output shape: torch.Size([2, 4, 50257])\n",
            "tensor([[[ 1.7085, -2.6334, -4.3429,  ...,  6.2408, -9.0471, -1.1634],\n",
            "         [ 6.4276,  0.9763, -1.3143,  ...,  2.1716,  2.4320, -2.2929],\n",
            "         [ 1.0077,  0.7788, -3.4075,  ..., -3.7775, -1.4718, -0.9255],\n",
            "         [ 3.7655, -2.8953,  0.1282,  ...,  5.6484,  1.0812,  0.8284]],\n",
            "\n",
            "        [[ 1.5700,  2.3426, -1.7597,  ..., -1.2794,  4.5621,  3.7844],\n",
            "         [ 1.5247, -2.1226, -8.3479,  ...,  2.2575,  0.3201,  2.4592],\n",
            "         [-0.4322,  8.3325, -4.1975,  ...,  1.2495, -5.7797, -1.5484],\n",
            "         [ 4.8320,  7.4809, -0.1386,  ..., -1.5529, -4.8710, -1.5130]]],\n",
            "       grad_fn=<UnsafeViewBackward0>)\n"
          ]
        }
      ]
    },
    {
      "cell_type": "code",
      "source": [
        "total_params = sum(p.numel() for p in model.parameters())\n",
        "print(f\"Total number of parameters: {total_params}\")"
      ],
      "metadata": {
        "colab": {
          "base_uri": "https://localhost:8080/"
        },
        "id": "JPuWycNlIiRj",
        "outputId": "14b81fc6-f7e8-487f-a13d-d1bf14d6bce3"
      },
      "execution_count": null,
      "outputs": [
        {
          "output_type": "stream",
          "name": "stdout",
          "text": [
            "Total number of parameters: 162419712\n"
          ]
        }
      ]
    },
    {
      "cell_type": "markdown",
      "source": [
        "We can observe that our model has 162M parameters which is more than 124M GPT2 model. This is because the GPT2 model does something called **Weight Tying** which is basically reusing the weights of one layer (Token embedding layer) as another layer (Linear output layer) where both layers have the dimensions 50257 x 768.\n",
        "\n",
        "GPT does this to reduce the **model size** and **computational complexity**.\n",
        "\n",
        "However, for training the weights/parameters, its better to have more parameters and not resuse any weights as it can capture more complex relationships which increses the model's learning rate and makes them better."
      ],
      "metadata": {
        "id": "vh2dy3EVb4ST"
      }
    },
    {
      "cell_type": "markdown",
      "source": [
        "# Generating text from Output Tokens"
      ],
      "metadata": {
        "id": "r0uS27ccmgG9"
      }
    },
    {
      "cell_type": "markdown",
      "source": [
        "We build a function which generates tokens by taking in model(GPTModel), idx(basically input having dimension as: batch x n_tokens), max_new_tokens(how many new tokens to generate), context_size (how many tokens to look at/ consider while predicting the next token)."
      ],
      "metadata": {
        "id": "xNveJbpWnCKB"
      }
    },
    {
      "cell_type": "code",
      "source": [
        "def generate_text_simple(model, idx, max_new_tokens, context_size):\n",
        "  for _ in range(max_new_tokens):\n",
        "\n",
        "    idx_cond = idx[:, -context_size:]\n",
        "    # Consider example where idx = [[1, 2, 3, 4 ,5, 6, 7, 8],[9, 10, 11, 12, 13, 14]].\n",
        "    # If we give context_size as 5 (lets say) which means the LLM can only look at 5 token_ids at once from each batch to make the prediction.\n",
        "    # So, we only consider the last 5 token_ids from each batch. Thats why the -context_size.\n",
        "    # Therefore, the token_ids [[4, 5, 6, 7, 8], [10, 11, 12, 13, 14]]\n",
        "    # which are basically the last 5 token_ids in their respective batches that are to be considered.\n",
        "\n",
        "    with torch.no_grad():\n",
        "      logits = model(idx_cond)  # To get the output logits which has the dim (batch, n_tokens, vocab_size)\n",
        "\n",
        "    logits = logits[:, -1, :]\n",
        "    # Only the last output logit vector is to be considered. So we dont have to look at all tokens.\n",
        "    # Hence, dimensions of logits will also get changed from (batch, n_tokens, vocab_size) -> (batch, vocab_size)\n",
        "\n",
        "    probas = torch.softmax(logits, dim=1)\n",
        "    # Applying softmax to obtain probabilities of becoming the next token for all tokens in the vocab_size.\n",
        "    # Dimensions after softmax will still be (batch, vocab_size).\n",
        "\n",
        "\n",
        "    idx_next = torch.argmax(probas, dim=1, keepdim=True)\n",
        "    # To get the token_id of the largest probability value from the vocab_entry.\n",
        "\n",
        "    idx = torch.cat((idx, idx_next), dim=1)\n",
        "    # Append to the newly found token_id to the running sequence. Dim = (batch, n_tokens+1)\n",
        "\n",
        "  return idx"
      ],
      "metadata": {
        "id": "xfstnCAkS0Sa"
      },
      "execution_count": null,
      "outputs": []
    },
    {
      "cell_type": "markdown",
      "source": [
        "Although, we could have just implemented the torch.argmax() function directly to find the largest probability value, implementing softmax() is crucial if we want to introduce Temperature Scaling which basically induces creativity in the model by not selecting high probalility value all the time but to mix and match at times."
      ],
      "metadata": {
        "id": "zdN9sSjLu7qT"
      }
    },
    {
      "cell_type": "code",
      "source": [
        "start_context = \"Football is played between\"\n",
        "encoded = tokenizer.encode(start_context)\n",
        "print(\"Encoded Token IDs:\", encoded)\n",
        "encoded_tensor = torch.tensor(encoded).unsqueeze(0) #Unsqueeze adds a singleton dimension at index = 0\n",
        "print(\"\\n Encoded Tensor Shape:\", encoded_tensor.shape)"
      ],
      "metadata": {
        "colab": {
          "base_uri": "https://localhost:8080/"
        },
        "id": "DADdUDQ_unG9",
        "outputId": "f09cdeed-5406-436a-cef0-293ecdda8c2f"
      },
      "execution_count": null,
      "outputs": [
        {
          "output_type": "stream",
          "name": "stdout",
          "text": [
            "Encoded Token IDs: [37316, 318, 2826, 1022]\n",
            "\n",
            " Encoded Tensor Shape: torch.Size([1, 4])\n"
          ]
        }
      ]
    },
    {
      "cell_type": "markdown",
      "source": [
        "We will use model.eval() to disable components like dropout since we are not training the model at the moment."
      ],
      "metadata": {
        "id": "AukCXsZWwbIU"
      }
    },
    {
      "cell_type": "code",
      "source": [
        "model.eval()\n",
        "out = generate_text_simple(\n",
        "      model = model,\n",
        "      idx = encoded_tensor,\n",
        "      max_new_tokens = 6,\n",
        "      context_size = GPT2_CONFIG_124MP[\"context_length\"]\n",
        ")\n",
        "\n",
        "print(\"Output:\", out)\n",
        "print(\"\\n Output Length:\", len(out[0]))"
      ],
      "metadata": {
        "colab": {
          "base_uri": "https://localhost:8080/"
        },
        "id": "qbHffS-5wG8H",
        "outputId": "ba8df6aa-7371-4b7d-9406-e78175e35053"
      },
      "execution_count": null,
      "outputs": [
        {
          "output_type": "stream",
          "name": "stdout",
          "text": [
            "Output: tensor([[37316,   318,  2826,  1022, 19875, 25013, 10308, 49861, 13007, 48389]])\n",
            "\n",
            " Output Length: 10\n"
          ]
        }
      ]
    },
    {
      "cell_type": "markdown",
      "source": [
        "As we can see upon giving just 4 input tokens, the model was able to generate 6 more (total 10) token ids by undergoing all the mentioned steps. Now, we will decode to see if the newly generated token_ids make sense."
      ],
      "metadata": {
        "id": "x2yLs0XjxzdR"
      }
    },
    {
      "cell_type": "code",
      "source": [
        "decode_text = tokenizer.decode(out.squeeze(0).tolist()) # Squeeze removes a singleton dimension at index = 0\n",
        "print(decode_text)"
      ],
      "metadata": {
        "colab": {
          "base_uri": "https://localhost:8080/"
        },
        "id": "jMRU-5WqxvR5",
        "outputId": "fc22dee2-9f98-49d0-d029-251df1aa1261"
      },
      "execution_count": null,
      "outputs": [
        {
          "output_type": "stream",
          "name": "stdout",
          "text": [
            "Football is played betweenxml wrongdoing stadiumisnerStud oranges\n"
          ]
        }
      ]
    },
    {
      "cell_type": "markdown",
      "source": [
        "As we can see, the model produced gibberish output tokens because we haven't **TRAINED** the model yet."
      ],
      "metadata": {
        "id": "xSAFFqD300Uq"
      }
    },
    {
      "cell_type": "markdown",
      "source": [
        "# Calculating **Loss function**"
      ],
      "metadata": {
        "id": "OUseQ2tg80RR"
      }
    },
    {
      "cell_type": "markdown",
      "source": [
        "We load our verdict.txt dataset"
      ],
      "metadata": {
        "id": "_lYFLEOt_OmQ"
      }
    },
    {
      "cell_type": "code",
      "source": [
        "import os\n",
        "import urllib.request\n",
        "\n",
        "file_path = \"/content/the-verdict.txt\"\n",
        "# url = \" \"  We can also mention the URL inside the quotes to access the dataset\n",
        "\n",
        "# if not os.path.exists(file_path):\n",
        "#     with url.lib.request.urlopen(url) as response:\n",
        "#         text_data = response.read().decode('utf-8')\n",
        "#     with open(file_path, \"w\", encoding=\"utf-8\") as file:\n",
        "#         file.write(text_data)\n",
        "# else:\n",
        "with open(file_path, \"r\", encoding=\"utf-8\") as file:\n",
        "    text_data = file.read()"
      ],
      "metadata": {
        "id": "KYkqykBFzqwS"
      },
      "execution_count": 5,
      "outputs": []
    },
    {
      "cell_type": "code",
      "source": [
        "total_characters = len(text_data)\n",
        "total_tokens = len(tokenizer.encode(text_data))\n",
        "print(\"Total Characters: \", total_characters)\n",
        "print(\"Total Tokens: \", total_tokens)"
      ],
      "metadata": {
        "colab": {
          "base_uri": "https://localhost:8080/"
        },
        "id": "Der93qda_UOp",
        "outputId": "fa29bc29-7815-4da1-f49c-ecf2d4fe9ac5"
      },
      "execution_count": 6,
      "outputs": [
        {
          "output_type": "stream",
          "name": "stdout",
          "text": [
            "Total Characters:  20479\n",
            "Total Tokens:  5145\n"
          ]
        }
      ]
    },
    {
      "cell_type": "markdown",
      "source": [
        "Spliting the tokens for **training** (90%) and **validation** (10%)"
      ],
      "metadata": {
        "id": "e4cCJofeBJg1"
      }
    },
    {
      "cell_type": "code",
      "source": [
        "train_ratio = 0.9\n",
        "split_idx = int (train_ratio * len(text_data))\n",
        "train_data = text_data[:split_idx]\n",
        "val_data = text_data[split_idx:]"
      ],
      "metadata": {
        "id": "DwRcrlZ__0Bu"
      },
      "execution_count": 7,
      "outputs": []
    },
    {
      "cell_type": "markdown",
      "source": [
        "Using dataloaders to handle multiple batches efficiently as it can automatically divide the dataset into multiple batches making training easy to iterate.\n",
        "Also, context_size here is 256 compared to 1024 in GPT2. This is done so that we can generate the tokens quickly as its computationally friendly. We've also limited batch_size to 2 for the same reason."
      ],
      "metadata": {
        "id": "6_rizUO8CLv4"
      }
    },
    {
      "cell_type": "code",
      "source": [
        "import torch\n",
        "torch.manual_seed(123)\n",
        "\n",
        "train_loader = create_dataloader_v1(\n",
        "              train_data, batch_size = 2, max_length = GPT2_CONFIG_124MP[\"context_length\"],\n",
        "              stride = GPT2_CONFIG_124MP[\"context_length\"], drop_last= True, shuffle=True, num_workers = 0)\n",
        "\n",
        "\n",
        "val_loader = create_dataloader_v1(\n",
        "              val_data,  batch_size = 2, max_length = GPT2_CONFIG_124MP[\"context_length\"],\n",
        "              stride = GPT2_CONFIG_124MP[\"context_length\"], drop_last= True, shuffle=True, num_workers = 0)"
      ],
      "metadata": {
        "id": "cPJKh7npCK7R",
        "colab": {
          "base_uri": "https://localhost:8080/",
          "height": 218
        },
        "outputId": "2b3d5ce1-ddf7-4309-bffb-8b0bf3f1fe9a"
      },
      "execution_count": 11,
      "outputs": [
        {
          "output_type": "error",
          "ename": "NameError",
          "evalue": "name 'GPT2_CONFIG_124MP' is not defined",
          "traceback": [
            "\u001b[0;31m---------------------------------------------------------------------------\u001b[0m",
            "\u001b[0;31mNameError\u001b[0m                                 Traceback (most recent call last)",
            "\u001b[0;32m<ipython-input-11-f4ee15205b11>\u001b[0m in \u001b[0;36m<cell line: 0>\u001b[0;34m()\u001b[0m\n\u001b[1;32m      3\u001b[0m \u001b[0;34m\u001b[0m\u001b[0m\n\u001b[1;32m      4\u001b[0m train_loader = create_dataloader_v1(\n\u001b[0;32m----> 5\u001b[0;31m               \u001b[0mtrain_data\u001b[0m\u001b[0;34m,\u001b[0m \u001b[0mbatch_size\u001b[0m \u001b[0;34m=\u001b[0m \u001b[0;36m2\u001b[0m\u001b[0;34m,\u001b[0m \u001b[0mmax_length\u001b[0m \u001b[0;34m=\u001b[0m \u001b[0mGPT2_CONFIG_124MP\u001b[0m\u001b[0;34m[\u001b[0m\u001b[0;34m\"context_length\"\u001b[0m\u001b[0;34m]\u001b[0m\u001b[0;34m,\u001b[0m\u001b[0;34m\u001b[0m\u001b[0;34m\u001b[0m\u001b[0m\n\u001b[0m\u001b[1;32m      6\u001b[0m               stride = GPT2_CONFIG_124MP[\"context_length\"], drop_last= True, shuffle=True, num_workers = 0)\n\u001b[1;32m      7\u001b[0m \u001b[0;34m\u001b[0m\u001b[0m\n",
            "\u001b[0;31mNameError\u001b[0m: name 'GPT2_CONFIG_124MP' is not defined"
          ]
        }
      ]
    },
    {
      "cell_type": "markdown",
      "source": [
        "Sanity checks to cover the edge cases where the\n",
        "number of training tokens and validation tokens are **LESSER** than the context length."
      ],
      "metadata": {
        "id": "mz0q8M0WE8d2"
      }
    },
    {
      "cell_type": "code",
      "source": [
        "# For training tokens\n",
        "if (total_tokens * train_ratio < GPT2_CONFIG_124MP[\"context_length\"]):\n",
        "  print(\"Not enough tokens for the train_loader.Try to lower the context_length or increase the train_ratio\")\n",
        "\n",
        "# For validation tokens\n",
        "if(total_tokens * (1 - train_ratio) < GPT2_CONFIG_124MP[\"context_length\"]):\n",
        "  print(\"Not enough tokens for the val_loader.Try to lower the context_length or decrease the train_ratio\")"
      ],
      "metadata": {
        "id": "tXEzOGmVFWY-"
      },
      "execution_count": null,
      "outputs": []
    },
    {
      "cell_type": "code",
      "source": [
        "print(\"Train Loader:\")\n",
        "for x, y in train_loader:\n",
        "  print(x.shape, y.shape)\n",
        "\n",
        "print(\"\\n Validation Loader:\")\n",
        "for x, y in val_loader:\n",
        "  print(x.shape, y.shape)"
      ],
      "metadata": {
        "colab": {
          "base_uri": "https://localhost:8080/"
        },
        "id": "aMreSIuzGKiC",
        "outputId": "a4280a40-1afe-4aca-dc39-46e0c1b03e71"
      },
      "execution_count": null,
      "outputs": [
        {
          "output_type": "stream",
          "name": "stdout",
          "text": [
            "Train Loader:\n",
            "torch.Size([2, 256]) torch.Size([2, 256])\n",
            "torch.Size([2, 256]) torch.Size([2, 256])\n",
            "torch.Size([2, 256]) torch.Size([2, 256])\n",
            "torch.Size([2, 256]) torch.Size([2, 256])\n",
            "torch.Size([2, 256]) torch.Size([2, 256])\n",
            "torch.Size([2, 256]) torch.Size([2, 256])\n",
            "torch.Size([2, 256]) torch.Size([2, 256])\n",
            "torch.Size([2, 256]) torch.Size([2, 256])\n",
            "torch.Size([2, 256]) torch.Size([2, 256])\n",
            "\n",
            " Validation Loader:\n",
            "torch.Size([2, 256]) torch.Size([2, 256])\n"
          ]
        }
      ]
    },
    {
      "cell_type": "markdown",
      "source": [
        "As we can we the data is split in 90-10 format (9 training batches and 1 validation batch). Here 2 represents batch_size. So, each batch of training and validation is computing 2 rows of 256 input tokens each.\n",
        "Example: Lets assume in this example, the context_length = 4, stride = 4 and batch_size = 2.\n",
        "So, input_tokens =\n",
        "[[234, 4558, 4589, 7897], [7272, 9375, 12345, 45678]]\n",
        "and\n",
        "target_tokens = [[4558, 4589, 7897, 38898], [9375, 12345, 45678, 5381]]\n",
        "Here, target_tokens represent the correct desired output token that we want the model to get. But since it's not trained yet, it wont produce the desired output. Also, for each batch(row) in input_token there are 4 steps going on. For the first input token [234], the desired target_tokens is at the first index in the target_tokens [4558]. In 2nd iteration for the same batch, first two input tokens get considered [234, 4558] and the target_tokenz value will be in the second index [4589]. Lastly, during 4th iteration, while finising the first batch, the input_tokens will have considered the first 4 tokens [234, 4558, 4589, 7897] and the target_tokens will have [38898] which is what we want the model to generate."
      ],
      "metadata": {
        "id": "YItzhU9LJR_D"
      }
    },
    {
      "cell_type": "code",
      "source": [
        "torch.manual_seed(123)\n",
        "model = GPTModel(GPT2_CONFIG_124MP) #model instance\n",
        "model.eval(); # To disable dropouts"
      ],
      "metadata": {
        "id": "zBtnG_xaJJr4"
      },
      "execution_count": null,
      "outputs": []
    },
    {
      "cell_type": "markdown",
      "source": [
        "The transformer basically takes in the input_tokens to produce logits. These logits have dimensions [2(batch_size), 256(context_size), 50257(vocab_size)]. However, we need to flatten these logits dim from 3D to 2D. So, we use logits.flatten(0,1) to flatten them across 1st and 2nd dim. Hence, the resultant dim of the logits will be [(512(tokens) x 50257(vocab_size))]. We should also do the same flattening for the target_tokens too.\n",
        "\n",
        "Next, we need to calculate the loss function which is conventionally done by taking the (512 x 50257) logits and passing it through a softmax activation function which basically finds the highest token probabilaties across columns(vocab_size) for each row(input_token). Without training, these probabilities wont match with the right target_tokens. To solve this problem, we need to take the target_tokens ids and look up their probabilities respectively in the vocab_size. By doing that we will get another set of probabilities [p11, p12, p13, p14....p1256, p21, p22...p2256]. These values represent probabilities that the corresponding target_tokens appear after each input_token iteration. If the model is trained well, then each of the probability values will be closer to 1. Since that is not the case, the values are not closer to 1. To actually calculate the cross-entropy loss, we need to compute:\n",
        " -( log likelihood or average of sum of log of probabilities of the target_tokens for each batch).  \n",
        " Eg: For batch 1, the loss would be -(logp11 + logp12 + ... logp1256) / 256.\n",
        " Similarly for batch 2, the loss would be -(logp21 + logp22 + ....logp2256) / 256.\n",
        " Finally, we ADD both batch loss to calculate the overall cross-entropy loss.\n",
        " Note: We take negative log likelihood instead of positive because we need to find the local minima and would want our loss to minimize after each iteration. If we take postive log likelihood then we would need to maximize our loss to find the best model. Hence we take -log likelihoood.\n",
        "\n",
        " Instead of doing all above procedures, pytorch lib has a special function torch.nn.functional.cross_entropy() which takes in the flattened logits (prodced by the transformer) and the target_tokens as its parameters and returns the loss, while undergoing all the above steps(softmax + negative log likelihood) within the function itself."
      ],
      "metadata": {
        "id": "8u0I9c7fR1vR"
      }
    },
    {
      "cell_type": "code",
      "source": [
        "def calc_loss_batch(input_batch, target_batch, model, device):\n",
        "  input_batch, target_batch = input_batch.to(device), target_batch.to(device)\n",
        "  logits = model(input_batch)\n",
        "  loss = torch.nn.functional.cross_entropy(logits.flatten(0,1), target_batch.flatten())\n",
        "  return loss\n",
        "\n",
        "# To calcualate loss for all batches,\n",
        "# we implement another function which takes in whole data_loader containing multiple batches.\n",
        "\n",
        "def calc_loss_loader(data_loader, model, device, num_batches = None):\n",
        "  total_loss = 0.\n",
        "  if len(data_loader) == 0:    # If the dataloader contains nothing\n",
        "    return float(\"nan\")\n",
        "  elif num_batches is None:    # If num_batches is not explicitly given as an argument, then the dataloader considers len(dataloader) which are the previously split batches (9 for training and 1 for validation)\n",
        "    num_batches = len(data_loader)\n",
        "  else:   # If num_batches > len(dataloader), then it takes the minimum value between them in order to reduce the num_batches\n",
        "    num_batches = min(num_batches, len(data_loader))\n",
        "\n",
        "  for i, (input_batch, target_batch) in enumerate(data_loader):\n",
        "    if i < num_batches:\n",
        "      loss = calc_loss_batch(input_batch, target_batch, model, device) # Calculate loss for every batch\n",
        "      total_loss += loss.item() # Add those loss and store it in total_loss variable.\n",
        "                                # .item() is used to convert single element tensor into a scalar type like float or int\n",
        "                                # so, that we can compute mean loss across all batches\n",
        "\n",
        "    else:\n",
        "      break\n",
        "\n",
        "  return total_loss / num_batches # Returning the average/mean loss across all batches"
      ],
      "metadata": {
        "id": "3FAMyCotRjL-"
      },
      "execution_count": null,
      "outputs": []
    },
    {
      "cell_type": "code",
      "source": [
        "device = torch.device(\"cpu\") # Using device setting we can ensure that the data is loaded onto the same device as LLM model\n",
        "model.to(device)\n",
        "\n",
        "torch.manual_seed(123)\n",
        "\n",
        "with torch.no_grad(): # Because we haven't started training yet, so we can disable gradient tracking\n",
        "  train_loss = calc_loss_loader(train_loader, model, device)\n",
        "  val_loss = calc_loss_loader(val_loader, model, device)\n",
        "\n",
        "print(\"Training Loss: \",train_loss)\n",
        "print(\"Validation Loss: \",val_loss)"
      ],
      "metadata": {
        "colab": {
          "base_uri": "https://localhost:8080/"
        },
        "id": "Gyd2ZAwwoLdR",
        "outputId": "cf97b6cd-b5b9-4192-c9d3-c667a2ae8c08"
      },
      "execution_count": null,
      "outputs": [
        {
          "output_type": "stream",
          "name": "stdout",
          "text": [
            "Training Loss:  11.47785144382053\n",
            "Validation Loss:  11.477567672729492\n"
          ]
        }
      ]
    },
    {
      "cell_type": "markdown",
      "source": [
        "We find both training and validation loss to be 11.47. These are the values that should be minimized using backpropagation which updates the weights thus increasing model's accuracy and thereby decreasing overall cost function."
      ],
      "metadata": {
        "id": "uxyQOOYWtv9g"
      }
    },
    {
      "cell_type": "markdown",
      "source": [
        "# Backpropagation and Adam optimizer"
      ],
      "metadata": {
        "id": "2TjD9z-5wV5k"
      }
    },
    {
      "cell_type": "markdown",
      "source": [
        "We use loss.backward() function which directly computes the loss gradients(Cost function) which is basically change in loss function W.R.T all the weights. Our goal is to update weights by reducing the cost function. Simple formula for this weights update can be W = W + α. ∂Co/∂W\n",
        "\n",
        "Lets assume, we have one output neuron with activation a(L) which is connected to a previous neuron with activation a(L-1) via the weights w(L).\n",
        "Now, we want the output neuron to have a desired value of y = 1 but that is generally not the case before training. So, we can calculate the cost function, Co = (a(L) - y)^2\n",
        "\n",
        "Also, a(L) = w(L)*a(L-1) + b(L)\n",
        "Here, computing ∂Co/∂W involves implementing chain rule which basically takes the partial derivative of current cost function wrt previous weights:\n",
        "∂Co/∂W = (∂(a(L))/∂W) * (∂Co/∂(a(L)))"
      ],
      "metadata": {
        "id": "ZgULHW1dN-2N"
      }
    },
    {
      "cell_type": "markdown",
      "source": [
        "Finally, after computing the cost function (gradients) wrt all weights, we update the weights using optimizers like Adam and Stochastic Gradient.\n",
        "Adam is better than Stochastic Gradient as we dont need to update the learning rate manually each time we get the cost function. Adam does it automatically.\n",
        "However, for deep learning models, even Adam optimizer performs the L2 regularization incorrectly(A.K.A weight decay which basically penalizes large weights by adding a loss term to the cost function) and this leads to overfitting in deep learning models.\n",
        "So, models like BERT and GPT use **AdamW** which basically does the weight decay and arrives at the convergence in the loss landscape very quickly within a few number of steps by also preventing overfitting or overshooting of data."
      ],
      "metadata": {
        "id": "FDc6_AyeT9Nl"
      }
    },
    {
      "cell_type": "markdown",
      "source": [
        "# Final Training Loop implementation using all of the classes, functions and methodologies used earlier."
      ],
      "metadata": {
        "id": "yWKplwYYfZpi"
      }
    },
    {
      "cell_type": "markdown",
      "source": [
        "We can finally create a holistic training loop which uses all the above functions to pre-train the LLM"
      ],
      "metadata": {
        "id": "jAm22IDbiJOG"
      }
    },
    {
      "cell_type": "code",
      "source": [
        "! pip3 install tiktoken\n",
        "import importlib\n",
        "import tiktoken\n",
        "\n",
        "print(\"tiktoken version:\", importlib.metadata.version(\"tiktoken\"))\n",
        "tokenizer = tiktoken.get_encoding(\"gpt2\")"
      ],
      "metadata": {
        "colab": {
          "base_uri": "https://localhost:8080/"
        },
        "id": "VhpYQ8T4YavC",
        "outputId": "55bfc629-9f2e-44f2-ce1c-3d55785d0bc8"
      },
      "execution_count": null,
      "outputs": [
        {
          "output_type": "stream",
          "name": "stdout",
          "text": [
            "Requirement already satisfied: tiktoken in /usr/local/lib/python3.11/dist-packages (0.9.0)\n",
            "Requirement already satisfied: regex>=2022.1.18 in /usr/local/lib/python3.11/dist-packages (from tiktoken) (2024.11.6)\n",
            "Requirement already satisfied: requests>=2.26.0 in /usr/local/lib/python3.11/dist-packages (from tiktoken) (2.32.3)\n",
            "Requirement already satisfied: charset-normalizer<4,>=2 in /usr/local/lib/python3.11/dist-packages (from requests>=2.26.0->tiktoken) (3.4.1)\n",
            "Requirement already satisfied: idna<4,>=2.5 in /usr/local/lib/python3.11/dist-packages (from requests>=2.26.0->tiktoken) (3.10)\n",
            "Requirement already satisfied: urllib3<3,>=1.21.1 in /usr/local/lib/python3.11/dist-packages (from requests>=2.26.0->tiktoken) (2.3.0)\n",
            "Requirement already satisfied: certifi>=2017.4.17 in /usr/local/lib/python3.11/dist-packages (from requests>=2.26.0->tiktoken) (2025.1.31)\n",
            "tiktoken version: 0.9.0\n"
          ]
        }
      ]
    },
    {
      "cell_type": "code",
      "source": [
        "def text_to_token_ids(text, tokenizer):   #Uses tokenizer to encode text to tokens\n",
        "    encoded = tokenizer.encode(text, allowed_special={'<|endoftext|>'})\n",
        "    encoded_tensor = torch.tensor(encoded).unsqueeze(0) # add batch dimension\n",
        "    return encoded_tensor\n",
        "\n",
        "def token_ids_to_text(token_ids, tokenizer):   #Uses tokenizer to decode tokenids back to text\n",
        "    flat = token_ids.squeeze(0) # remove batch dimension\n",
        "    return tokenizer.decode(flat.tolist())"
      ],
      "metadata": {
        "id": "6aelryKogE_A"
      },
      "execution_count": 12,
      "outputs": []
    },
    {
      "cell_type": "code",
      "source": [
        "GPT2_CONFIG_124MP = {\n",
        "    \"vocab_size\": 50257,\n",
        "    \"context_length\": 256,\n",
        "    \"emb_dim\": 768,\n",
        "    \"n_layers\": 12,\n",
        "    \"n_heads\": 12,\n",
        "    \"drop_rate\": 0.1,\n",
        "    \"qkv_bias\": False\n",
        "}"
      ],
      "metadata": {
        "id": "ZxoTUvN3iZjQ"
      },
      "execution_count": 13,
      "outputs": []
    },
    {
      "cell_type": "code",
      "source": [
        "from torch.utils.data import Dataset, DataLoader\n",
        "\n",
        "\n",
        "class GPTDatasetV1(Dataset):\n",
        "    def __init__(self, txt, tokenizer, max_length, stride):\n",
        "        self.input_ids = []\n",
        "        self.target_ids = []\n",
        "\n",
        "        # Tokenize the entire text\n",
        "        token_ids = tokenizer.encode(txt, allowed_special={\"<|endoftext|>\"})\n",
        "\n",
        "        # Use a sliding window to chunk the book into overlapping sequences of max_length\n",
        "        for i in range(0, len(token_ids) - max_length, stride):\n",
        "            input_chunk = token_ids[i:i + max_length]\n",
        "            target_chunk = token_ids[i + 1: i + max_length + 1]\n",
        "            self.input_ids.append(torch.tensor(input_chunk))\n",
        "            self.target_ids.append(torch.tensor(target_chunk))\n",
        "\n",
        "    def __len__(self):\n",
        "        return len(self.input_ids)\n",
        "\n",
        "    def __getitem__(self, idx):\n",
        "        return self.input_ids[idx], self.target_ids[idx]"
      ],
      "metadata": {
        "id": "XVy1EbBjYx_4"
      },
      "execution_count": 14,
      "outputs": []
    },
    {
      "cell_type": "code",
      "source": [
        "def create_dataloader_v1(txt, batch_size=4, max_length=256,\n",
        "                         stride=128, shuffle=True, drop_last=True,\n",
        "                         num_workers=0):\n",
        "\n",
        "    # Initialize the tokenizer\n",
        "    tokenizer = tiktoken.get_encoding(\"gpt2\")\n",
        "\n",
        "    # Create dataset\n",
        "    dataset = GPTDatasetV1(txt, tokenizer, max_length, stride)\n",
        "\n",
        "    # Create dataloader\n",
        "    dataloader = DataLoader(\n",
        "        dataset,\n",
        "        batch_size=batch_size,\n",
        "        shuffle=shuffle,\n",
        "        drop_last=drop_last,\n",
        "        num_workers=num_workers\n",
        "    )\n",
        "\n",
        "    return dataloader"
      ],
      "metadata": {
        "id": "0MfEFtdYY0uX"
      },
      "execution_count": 15,
      "outputs": []
    },
    {
      "cell_type": "code",
      "source": [
        "import torch.nn as nn\n",
        "\n",
        "class MultiHeadAttention(nn.Module):\n",
        "    def __init__(self, d_in, d_out, context_length, dropout, num_heads, qkv_bias=False):\n",
        "        super().__init__()\n",
        "        assert (d_out % num_heads == 0), \\\n",
        "            \"d_out must be divisible by num_heads\"\n",
        "\n",
        "        self.d_out = d_out\n",
        "        self.num_heads = num_heads\n",
        "        self.head_dim = d_out // num_heads # Reduce the projection dim to match desired output dim\n",
        "\n",
        "        self.W_query = nn.Linear(d_in, d_out, bias=qkv_bias)\n",
        "        self.W_key = nn.Linear(d_in, d_out, bias=qkv_bias)\n",
        "        self.W_value = nn.Linear(d_in, d_out, bias=qkv_bias)\n",
        "        self.out_proj = nn.Linear(d_out, d_out)  # Linear layer to combine head outputs\n",
        "        self.dropout = nn.Dropout(dropout)\n",
        "        self.register_buffer(\n",
        "            \"mask\",\n",
        "            torch.triu(torch.ones(context_length, context_length),\n",
        "                       diagonal=1)\n",
        "        )\n",
        "\n",
        "    def forward(self, x):\n",
        "        b, num_tokens, d_in = x.shape\n",
        "\n",
        "        keys = self.W_key(x) # Shape: (b, num_tokens, d_out)\n",
        "        queries = self.W_query(x)\n",
        "        values = self.W_value(x)\n",
        "\n",
        "        # We implicitly split the matrix by adding a `num_heads` dimension\n",
        "        # Unroll last dim: (b, num_tokens, d_out) -> (b, num_tokens, num_heads, head_dim)\n",
        "        keys = keys.view(b, num_tokens, self.num_heads, self.head_dim)\n",
        "        values = values.view(b, num_tokens, self.num_heads, self.head_dim)\n",
        "        queries = queries.view(b, num_tokens, self.num_heads, self.head_dim)\n",
        "\n",
        "        # Transpose: (b, num_tokens, num_heads, head_dim) -> (b, num_heads, num_tokens, head_dim)\n",
        "        keys = keys.transpose(1, 2)\n",
        "        queries = queries.transpose(1, 2)\n",
        "        values = values.transpose(1, 2)\n",
        "\n",
        "        # Compute scaled dot-product attention (aka self-attention) with a causal mask\n",
        "        attn_scores = queries @ keys.transpose(2, 3)  # Dot product for each head\n",
        "\n",
        "        # Original mask truncated to the number of tokens and converted to boolean\n",
        "        mask_bool = self.mask.bool()[:num_tokens, :num_tokens]\n",
        "\n",
        "        # Use the mask to fill attention scores\n",
        "        attn_scores.masked_fill_(mask_bool, -torch.inf)\n",
        "\n",
        "        attn_weights = torch.softmax(attn_scores / keys.shape[-1]**0.5, dim=-1)\n",
        "        attn_weights = self.dropout(attn_weights)\n",
        "\n",
        "        # Shape: (b, num_tokens, num_heads, head_dim)\n",
        "        context_vec = (attn_weights @ values).transpose(1, 2)\n",
        "\n",
        "        # Combine heads, where self.d_out = self.num_heads * self.head_dim\n",
        "        context_vec = context_vec.contiguous().view(b, num_tokens, self.d_out)\n",
        "        context_vec = self.out_proj(context_vec) # optional projection\n",
        "\n",
        "        return context_vec"
      ],
      "metadata": {
        "id": "hpNJ7761Zh-4"
      },
      "execution_count": 16,
      "outputs": []
    },
    {
      "cell_type": "code",
      "source": [
        "class LayerNorm(nn.Module):\n",
        "    def __init__(self, emb_dim):\n",
        "        super().__init__()\n",
        "        self.eps = 1e-5\n",
        "        self.scale = nn.Parameter(torch.ones(emb_dim))\n",
        "        self.shift = nn.Parameter(torch.zeros(emb_dim))\n",
        "\n",
        "    def forward(self, x):\n",
        "        mean = x.mean(dim=-1, keepdim=True)\n",
        "        var = x.var(dim=-1, keepdim=True, unbiased=False)\n",
        "        norm_x = (x - mean) / torch.sqrt(var + self.eps)\n",
        "        return self.scale * norm_x + self.shift\n",
        "\n",
        "class GELU(nn.Module):\n",
        "    def __init__(self):\n",
        "        super().__init__()\n",
        "\n",
        "    def forward(self, x):\n",
        "        return 0.5 * x * (1 + torch.tanh(\n",
        "            torch.sqrt(torch.tensor(2.0 / torch.pi)) *\n",
        "            (x + 0.044715 * torch.pow(x, 3))\n",
        "        ))\n",
        "\n",
        "\n",
        "class FeedForward(nn.Module):\n",
        "    def __init__(self, cfg):\n",
        "        super().__init__()\n",
        "        self.layers = nn.Sequential(\n",
        "            nn.Linear(cfg[\"emb_dim\"], 4 * cfg[\"emb_dim\"]), ## Expansion\n",
        "            GELU(), ## Activation\n",
        "            nn.Linear(4 * cfg[\"emb_dim\"], cfg[\"emb_dim\"]), ## Contraction\n",
        "        )\n",
        "\n",
        "    def forward(self, x):\n",
        "        return self.layers(x)"
      ],
      "metadata": {
        "id": "HqgfoCt3a2Uy"
      },
      "execution_count": 17,
      "outputs": []
    },
    {
      "cell_type": "code",
      "source": [
        "class TransformerBlock(nn.Module):\n",
        "    def __init__(self, cfg):\n",
        "        super().__init__()\n",
        "        self.att = MultiHeadAttention(\n",
        "            d_in=cfg[\"emb_dim\"],\n",
        "            d_out=cfg[\"emb_dim\"],\n",
        "            context_length=cfg[\"context_length\"],\n",
        "            num_heads=cfg[\"n_heads\"],\n",
        "            dropout=cfg[\"drop_rate\"],\n",
        "            qkv_bias=cfg[\"qkv_bias\"])\n",
        "        self.ff = FeedForward(cfg)\n",
        "        self.norm1 = LayerNorm(cfg[\"emb_dim\"])\n",
        "        self.norm2 = LayerNorm(cfg[\"emb_dim\"])\n",
        "        self.drop_shortcut = nn.Dropout(cfg[\"drop_rate\"])\n",
        "\n",
        "    def forward(self, x):\n",
        "        # Shortcut connection for attention block\n",
        "        shortcut = x\n",
        "        x = self.norm1(x)\n",
        "        x = self.att(x)  # Shape [batch_size, num_tokens, emb_size]\n",
        "        x = self.drop_shortcut(x)\n",
        "        x = x + shortcut  # Add the original input back\n",
        "\n",
        "        # Shortcut connection for feed forward block\n",
        "        shortcut = x\n",
        "        x = self.norm2(x)\n",
        "        x = self.ff(x)\n",
        "        # 2*4*768\n",
        "        x = self.drop_shortcut(x)\n",
        "        x = x + shortcut  # Add the original input back\n",
        "\n",
        "        return x\n",
        "        # 2*4*768"
      ],
      "metadata": {
        "id": "CN4s2pIta3xq"
      },
      "execution_count": 18,
      "outputs": []
    },
    {
      "cell_type": "code",
      "source": [
        "import torch\n",
        "class GPTModel(nn.Module):\n",
        "    def __init__(self, cfg):\n",
        "        super().__init__()\n",
        "        self.tok_emb = nn.Embedding(cfg[\"vocab_size\"], cfg[\"emb_dim\"])\n",
        "        self.pos_emb = nn.Embedding(cfg[\"context_length\"], cfg[\"emb_dim\"])\n",
        "        self.drop_emb = nn.Dropout(cfg[\"drop_rate\"])\n",
        "\n",
        "        self.trf_blocks = nn.Sequential(\n",
        "            *[TransformerBlock(cfg) for _ in range(cfg[\"n_layers\"])])\n",
        "\n",
        "        self.final_norm = LayerNorm(cfg[\"emb_dim\"])\n",
        "        self.out_head = nn.Linear(\n",
        "            cfg[\"emb_dim\"], cfg[\"vocab_size\"], bias=False\n",
        "        )\n",
        "\n",
        "    def forward(self, in_idx):\n",
        "        batch_size, seq_len = in_idx.shape\n",
        "        tok_embeds = self.tok_emb(in_idx)\n",
        "        pos_embeds = self.pos_emb(torch.arange(seq_len, device=in_idx.device))\n",
        "        x = tok_embeds + pos_embeds  # Shape [batch_size, num_tokens, emb_size]\n",
        "        x = self.drop_emb(x)\n",
        "        x = self.trf_blocks(x)\n",
        "        x = self.final_norm(x)\n",
        "        logits = self.out_head(x)\n",
        "        return logits\n",
        "\n",
        "torch.manual_seed(123)\n",
        "model = GPTModel(GPT2_CONFIG_124MP)\n",
        "model.eval();  # Disable dropout during inference"
      ],
      "metadata": {
        "id": "GLyeq8VJbRk5"
      },
      "execution_count": 19,
      "outputs": []
    },
    {
      "cell_type": "code",
      "source": [
        "def generate_text_simple(model, idx, max_new_tokens, context_size):\n",
        "    # idx is (batch, n_tokens) array of indices in the current context\n",
        "\n",
        "    ###Input batch eg:\n",
        " ###tensor([[6109, 3626, 6100,  345],\n",
        "        ##[6109, 1110, 6622,  257]])\n",
        "\n",
        "    for _ in range(max_new_tokens):\n",
        "\n",
        "        # Crop current context if it exceeds the supported context size\n",
        "        # E.g., if LLM supports only 5 tokens, and the context size is 10\n",
        "        # then only the last 5 tokens are used as context\n",
        "        idx_cond = idx[:, -context_size:]\n",
        "\n",
        "        # Get the predictions\n",
        "        with torch.no_grad():\n",
        "            logits = model(idx_cond) ### batch, n_tokens, vocab_size\n",
        "\n",
        "        # Focus only on the last time step\n",
        "        # (batch, n_tokens, vocab_size) becomes (batch, vocab_size)\n",
        "        logits = logits[:, -1, :]\n",
        "\n",
        "        # Apply softmax to get probabilities\n",
        "        probas = torch.softmax(logits, dim=-1)  # (batch, vocab_size)\n",
        "\n",
        "        # Get the idx of the vocab entry with the highest probability value\n",
        "        idx_next = torch.argmax(probas, dim=-1, keepdim=True)  # (batch, 1)\n",
        "\n",
        "        # Append sampled index to the running sequence\n",
        "        idx = torch.cat((idx, idx_next), dim=1)  # (batch, n_tokens+1)\n",
        "\n",
        "    return idx"
      ],
      "metadata": {
        "id": "stU1BmUkbkGR"
      },
      "execution_count": 20,
      "outputs": []
    },
    {
      "cell_type": "code",
      "source": [
        "train_ratio = 0.90\n",
        "split_idx = int(train_ratio * len(text_data))\n",
        "train_data = text_data[:split_idx]\n",
        "val_data = text_data[split_idx:]\n",
        "\n",
        "\n",
        "torch.manual_seed(123)\n",
        "\n",
        "train_loader = create_dataloader_v1(\n",
        "    train_data,\n",
        "    batch_size=2,\n",
        "    max_length=GPT2_CONFIG_124MP[\"context_length\"],\n",
        "    stride=GPT2_CONFIG_124MP[\"context_length\"],\n",
        "    drop_last=True,\n",
        "    shuffle=True,\n",
        "    num_workers=0\n",
        ")\n",
        "\n",
        "val_loader = create_dataloader_v1(\n",
        "    val_data,\n",
        "    batch_size=2,\n",
        "    max_length=GPT2_CONFIG_124MP[\"context_length\"],\n",
        "    stride=GPT2_CONFIG_124MP[\"context_length\"],\n",
        "    drop_last=False,\n",
        "    shuffle=False,\n",
        "    num_workers=0\n",
        ")"
      ],
      "metadata": {
        "id": "Igzps4l-cY2F"
      },
      "execution_count": 21,
      "outputs": []
    },
    {
      "cell_type": "code",
      "source": [
        "print(\"Train loader:\")\n",
        "for x, y in train_loader:\n",
        "    print(x.shape, y.shape)\n",
        "\n",
        "print(\"\\nValidation loader:\")\n",
        "for x, y in val_loader:\n",
        "    print(x.shape, y.shape)\n",
        "\n",
        "print(len(train_loader))\n",
        "print(len(val_loader))"
      ],
      "metadata": {
        "colab": {
          "base_uri": "https://localhost:8080/"
        },
        "id": "g25giRELc7j-",
        "outputId": "f4b64dd2-6b30-43e9-a6a0-afeca6e7718c"
      },
      "execution_count": 22,
      "outputs": [
        {
          "output_type": "stream",
          "name": "stdout",
          "text": [
            "Train loader:\n",
            "torch.Size([2, 256]) torch.Size([2, 256])\n",
            "torch.Size([2, 256]) torch.Size([2, 256])\n",
            "torch.Size([2, 256]) torch.Size([2, 256])\n",
            "torch.Size([2, 256]) torch.Size([2, 256])\n",
            "torch.Size([2, 256]) torch.Size([2, 256])\n",
            "torch.Size([2, 256]) torch.Size([2, 256])\n",
            "torch.Size([2, 256]) torch.Size([2, 256])\n",
            "torch.Size([2, 256]) torch.Size([2, 256])\n",
            "torch.Size([2, 256]) torch.Size([2, 256])\n",
            "\n",
            "Validation loader:\n",
            "torch.Size([2, 256]) torch.Size([2, 256])\n",
            "9\n",
            "1\n"
          ]
        }
      ]
    },
    {
      "cell_type": "code",
      "source": [
        "train_tokens = 0\n",
        "for input_batch, target_batch in train_loader:\n",
        "    train_tokens += input_batch.numel()\n",
        "\n",
        "val_tokens = 0\n",
        "for input_batch, target_batch in val_loader:\n",
        "    val_tokens += input_batch.numel()\n",
        "\n",
        "print(\"Training tokens:\", train_tokens)\n",
        "print(\"Validation tokens:\", val_tokens)\n",
        "print(\"All tokens:\", train_tokens + val_tokens)"
      ],
      "metadata": {
        "colab": {
          "base_uri": "https://localhost:8080/"
        },
        "id": "LO6WTqphdAo4",
        "outputId": "49363053-7e02-49b1-f05e-3e18ecd95c9b"
      },
      "execution_count": 23,
      "outputs": [
        {
          "output_type": "stream",
          "name": "stdout",
          "text": [
            "Training tokens: 4608\n",
            "Validation tokens: 512\n",
            "All tokens: 5120\n"
          ]
        }
      ]
    },
    {
      "cell_type": "markdown",
      "source": [
        "We consider and calculate cross entropy loss instead of normal loss because cross entropy loss takes the negative average of log of probabilities (which has wider range and transform small probabilities into large negative values, making it easier for the optimizer to distinguish between wrong and right predictions). This is better than just calculating loss over raw probabilities (which are bound from 0 to 1 and the gradients would be small and as a result, slow down learning.).\n",
        "\n",
        "However, instead of using the whole holistic process above, we can us a pytorch function torch.nn.fucntional.cross_entropy() to calculate cross entroy loss for both training and validation batches of tensors."
      ],
      "metadata": {
        "id": "WkxPBht8e8i7"
      }
    },
    {
      "cell_type": "code",
      "source": [
        "def calc_loss_batch(input_batch, target_batch, model, device):\n",
        "    input_batch, target_batch = input_batch.to(device), target_batch.to(device)\n",
        "    logits = model(input_batch)\n",
        "    loss = torch.nn.functional.cross_entropy(logits.flatten(0, 1), target_batch.flatten())\n",
        "    return loss\n",
        "\n",
        "\n",
        "def calc_loss_loader(data_loader, model, device, num_batches=None):\n",
        "    total_loss = 0.\n",
        "    if len(data_loader) == 0:\n",
        "        return float(\"nan\")\n",
        "    elif num_batches is None:\n",
        "        num_batches = len(data_loader)\n",
        "    else:\n",
        "        # Reduce the number of batches to match the total number of batches in the data loader\n",
        "        # if num_batches exceeds the number of batches in the data loader\n",
        "        num_batches = min(num_batches, len(data_loader))\n",
        "    for i, (input_batch, target_batch) in enumerate(data_loader):\n",
        "        if i < num_batches:\n",
        "            loss = calc_loss_batch(input_batch, target_batch, model, device)\n",
        "            total_loss += loss.item()\n",
        "        else:\n",
        "            break\n",
        "    return total_loss / num_batches"
      ],
      "metadata": {
        "id": "SbyfGCe0dpVE"
      },
      "execution_count": 24,
      "outputs": []
    },
    {
      "cell_type": "code",
      "source": [
        "import torch\n",
        "\n",
        "# Select device (Ensure compatibility with Google Colab, Apple MPS, or CPU)\n",
        "if torch.cuda.is_available():\n",
        "    device = torch.device(\"cuda\")  # Use CUDA if available\n",
        "elif torch.backends.mps.is_available():\n",
        "    device = torch.device(\"mps\")  # Use Apple Metal Performance Shader (for Apple Silicon)\n",
        "else:\n",
        "    device = torch.device(\"cpu\")  # Default to CPU\n",
        "\n",
        "print(f\"Using {device} device.\")\n",
        "\n",
        "# Move the model to the selected device\n",
        "model.to(device)  # No assignment needed\n",
        "\n",
        "# Set manual seed for reproducibility\n",
        "torch.manual_seed(123)\n",
        "\n",
        "# Ensure loss computation is done on the same device\n",
        "with torch.no_grad():  # Disable gradient tracking for efficiency\n",
        "    train_loss = calc_loss_loader(train_loader, model, device)  # Ensure train_loader is on the correct device\n",
        "    val_loss = calc_loss_loader(val_loader, model, device)  # Ensure val_loader is on the correct device\n",
        "\n",
        "print(\"Training loss:\", train_loss)\n",
        "print(\"Validation loss:\", val_loss)"
      ],
      "metadata": {
        "colab": {
          "base_uri": "https://localhost:8080/"
        },
        "id": "QdUWPN9Qdvwg",
        "outputId": "65dc8e35-96c9-406f-88d2-438955d99cf6"
      },
      "execution_count": 25,
      "outputs": [
        {
          "output_type": "stream",
          "name": "stdout",
          "text": [
            "Using cuda device.\n",
            "Training loss: 10.987583266364204\n",
            "Validation loss: 10.981104850769043\n"
          ]
        }
      ]
    },
    {
      "cell_type": "code",
      "source": [
        "def train_model_simple(model, train_loader, val_loader, optimizer, device, num_epochs,\n",
        "                       eval_freq, eval_iter, start_context, tokenizer):\n",
        "    # Initialize lists to track losses and tokens seen\n",
        "    train_losses, val_losses, track_tokens_seen = [], [], []\n",
        "    tokens_seen, global_step = 0, -1\n",
        "\n",
        "    # Main training loop\n",
        "    for epoch in range(num_epochs):\n",
        "        model.train()  # Set model to training mode\n",
        "\n",
        "        for input_batch, target_batch in train_loader:\n",
        "            optimizer.zero_grad() # Reset loss gradients from previous batch iteration\n",
        "            loss = calc_loss_batch(input_batch, target_batch, model, device)\n",
        "\n",
        "            loss.backward() # Calculates loss gradients using backproparation. MOST IMPORTANT step in order to update weights.\n",
        "\n",
        "            optimizer.step() # Update model weights using loss gradients\n",
        "            tokens_seen += input_batch.numel() # Returns the total number of elements (or tokens) in the input_batch.\n",
        "            global_step += 1\n",
        "\n",
        "            # Optional evaluation step\n",
        "            if global_step % eval_freq == 0:\n",
        "                train_loss, val_loss = evaluate_model(\n",
        "                    model, train_loader, val_loader, device, eval_iter)\n",
        "                train_losses.append(train_loss)\n",
        "                val_losses.append(val_loss)\n",
        "                track_tokens_seen.append(tokens_seen)\n",
        "                print(f\"Ep {epoch+1} (Step {global_step:06d}): \"\n",
        "                      f\"Train loss {train_loss:.3f}, Val loss {val_loss:.3f}\")\n",
        "\n",
        "        # Print a sample text after each epoch\n",
        "        generate_and_print_sample(\n",
        "            model, tokenizer, device, start_context\n",
        "        )\n",
        "\n",
        "    return train_losses, val_losses, track_tokens_seen"
      ],
      "metadata": {
        "id": "hz2aCxkkp57q"
      },
      "execution_count": 26,
      "outputs": []
    },
    {
      "cell_type": "code",
      "source": [
        "def evaluate_model(model, train_loader, val_loader, device, eval_iter): # Function to return train_loss and val_loss\n",
        "    model.eval()\n",
        "    with torch.no_grad():\n",
        "        train_loss = calc_loss_loader(train_loader, model, device, num_batches=eval_iter)\n",
        "        val_loss = calc_loss_loader(val_loader, model, device, num_batches=eval_iter)\n",
        "    model.train()\n",
        "    return train_loss, val_loss"
      ],
      "metadata": {
        "id": "fDvWNy54eP8x"
      },
      "execution_count": 27,
      "outputs": []
    },
    {
      "cell_type": "code",
      "source": [
        "def generate_and_print_sample(model, tokenizer, device, start_context): #Function which prints the output after each epoch\n",
        "    model.eval()\n",
        "    context_size = model.pos_emb.weight.shape[0]\n",
        "    encoded = text_to_token_ids(start_context, tokenizer).to(device)\n",
        "    with torch.no_grad():\n",
        "        token_ids = generate_text_simple(\n",
        "            model=model, idx=encoded,\n",
        "            max_new_tokens=50, context_size=context_size\n",
        "        )\n",
        "    decoded_text = token_ids_to_text(token_ids, tokenizer)\n",
        "    print(decoded_text.replace(\"\\n\", \" \"))  # Compact print format\n",
        "    model.train()"
      ],
      "metadata": {
        "id": "5tnm37YBeGPW"
      },
      "execution_count": 28,
      "outputs": []
    },
    {
      "cell_type": "markdown",
      "source": [
        "Creating an instance to run our pre-trained LLM loop."
      ],
      "metadata": {
        "id": "Un8xg9_HJPsp"
      }
    },
    {
      "cell_type": "code",
      "source": [
        "import time\n",
        "start_time = time.time()\n",
        "\n",
        "torch.manual_seed(123)\n",
        "model = GPTModel(GPT2_CONFIG_124MP)\n",
        "model.to(device)\n",
        "optimizer = torch.optim.AdamW(model.parameters(), lr=0.0004, weight_decay=0.1)\n",
        "\n",
        "num_epochs = 10\n",
        "train_losses, val_losses, tokens_seen = train_model_simple(\n",
        "    model, train_loader, val_loader, optimizer, device,\n",
        "    num_epochs=num_epochs, eval_freq=5, eval_iter=5,\n",
        "    start_context=\"Every effort moves you\", tokenizer=tokenizer)\n",
        "\n",
        "end_time = time.time()\n",
        "execution_time_minutes = (end_time - start_time) / 60\n",
        "print(f\"Training completed in {execution_time_minutes:.2f} minutes.\")"
      ],
      "metadata": {
        "id": "ao0Sxk3h6e7d",
        "colab": {
          "base_uri": "https://localhost:8080/"
        },
        "outputId": "627f4cfc-0e4b-466d-d4e3-6166a223b481"
      },
      "execution_count": 29,
      "outputs": [
        {
          "output_type": "stream",
          "name": "stdout",
          "text": [
            "Ep 1 (Step 000000): Train loss 9.818, Val loss 9.930\n",
            "Ep 1 (Step 000005): Train loss 8.066, Val loss 8.336\n",
            "Every effort moves you,,,,,,,,,,,,.                                     \n",
            "Ep 2 (Step 000010): Train loss 6.623, Val loss 7.053\n",
            "Ep 2 (Step 000015): Train loss 6.047, Val loss 6.605\n",
            "Every effort moves you, and,, and,,,,,,, and,.                                   \n",
            "Ep 3 (Step 000020): Train loss 5.532, Val loss 6.507\n",
            "Ep 3 (Step 000025): Train loss 5.399, Val loss 6.389\n",
            "Every effort moves you, and to the to the of the to the, and I had. Gis, and, and, and, and, and, and I had the, and, and, and, and, and, and, and, and, and\n",
            "Ep 4 (Step 000030): Train loss 4.895, Val loss 6.280\n",
            "Ep 4 (Step 000035): Train loss 4.648, Val loss 6.304\n",
            "Every effort moves you.  \"I the picture.                    \"I\"I the picture\"I had the the honour of the picture and I had been the picture of\n",
            "Ep 5 (Step 000040): Train loss 4.023, Val loss 6.165\n",
            "Every effort moves you know                                                 \n",
            "Ep 6 (Step 000045): Train loss 3.625, Val loss 6.172\n",
            "Ep 6 (Step 000050): Train loss 3.045, Val loss 6.144\n",
            "Every effort moves you know the was his a little the.  \"I had the last word.           \"Oh, and I had a little.   \"I looked, and I had a little of\n",
            "Ep 7 (Step 000055): Train loss 2.948, Val loss 6.183\n",
            "Ep 7 (Step 000060): Train loss 2.230, Val loss 6.128\n",
            "Every effort moves you know the picture to have been too--I felt, and Mrs.  \"I was no--and the fact, and that, and I was his pictures.  \"I looked up his pictures--and--because he was a little\n",
            "Ep 8 (Step 000065): Train loss 1.774, Val loss 6.162\n",
            "Ep 8 (Step 000070): Train loss 1.475, Val loss 6.229\n",
            "Every effort moves you?\"  \"Yes--I glanced after him, and uncertain.  \"I looked up, and the fact, and to see a smile behind his close grayish beard--as if he had the donkey. \"There were days when I\n",
            "Ep 9 (Step 000075): Train loss 1.135, Val loss 6.268\n",
            "Ep 9 (Step 000080): Train loss 0.858, Val loss 6.298\n",
            "Every effort moves you?\"  \"Yes--quite insensible to the fact with the last word.    \"I looked, and that, and I remember getting off a prodigious phrase about the honour being _mine_--because he's the first\n",
            "Ep 10 (Step 000085): Train loss 0.627, Val loss 6.382\n",
            "Every effort moves you?\"  \"Yes--quite insensible to the irony. She wanted him vindicated--and by me!\"  He laughed again, and threw back his head to look up at the sketch of the donkey. \"There were days when I\n",
            "Training completed in 0.61 minutes.\n"
          ]
        }
      ]
    },
    {
      "cell_type": "markdown",
      "source": [
        "We can see from the above text that the loss is getting minimized which is good. But the generated words still dont fit the context as it's trained using only one file having around 50000 tokens. We can also see that the model is straight up copying(memorizing) from the txt.file. This is the clssic case of overfitting. Finally, we can see that the validation loss after 2nd epoch is almost constant with very little change compared to the training loss which is going down after every epoch. This is again an example of overfitting and that the model is capable of only learning the specific patterns(training) only and not generalizable patterns (validation). So, even though our training loss is very less, doesn't mean the model is capable of recognizing new patterns which it hasn't seen before."
      ],
      "metadata": {
        "id": "nCNGlzV3jfhZ"
      }
    },
    {
      "cell_type": "code",
      "source": [
        "import matplotlib.pyplot as plt\n",
        "from matplotlib.ticker import MaxNLocator\n",
        "\n",
        "\n",
        "def plot_losses(epochs_seen, tokens_seen, train_losses, val_losses):\n",
        "    fig, ax1 = plt.subplots(figsize=(5, 3))\n",
        "\n",
        "    # Plot training and validation loss against epochs\n",
        "    ax1.plot(epochs_seen, train_losses, label=\"Training loss\")\n",
        "    ax1.plot(epochs_seen, val_losses, linestyle=\"-.\", label=\"Validation loss\")\n",
        "    ax1.set_xlabel(\"Epochs\")\n",
        "    ax1.set_ylabel(\"Loss\")\n",
        "    ax1.legend(loc=\"upper right\")\n",
        "    ax1.xaxis.set_major_locator(MaxNLocator(integer=True))  # only show integer labels on x-axis\n",
        "\n",
        "    # Create a second x-axis for tokens seen\n",
        "    ax2 = ax1.twiny()  # Create a second x-axis that shares the same y-axis\n",
        "    ax2.plot(tokens_seen, train_losses, alpha=0)  # Invisible plot for aligning ticks\n",
        "    ax2.set_xlabel(\"Tokens seen\")\n",
        "\n",
        "    fig.tight_layout()  # Adjust layout to make room\n",
        "    plt.savefig(\"loss-plot.pdf\")\n",
        "    plt.show()\n",
        "\n",
        "epochs_tensor = torch.linspace(0, num_epochs, len(train_losses))\n",
        "plot_losses(epochs_tensor, tokens_seen, train_losses, val_losses)"
      ],
      "metadata": {
        "id": "w66ImvtH_CA4",
        "colab": {
          "base_uri": "https://localhost:8080/",
          "height": 307
        },
        "outputId": "4c09aad3-6641-432d-abdd-bdecd6c3ba5c"
      },
      "execution_count": 30,
      "outputs": [
        {
          "output_type": "display_data",
          "data": {
            "text/plain": [
              "<Figure size 500x300 with 2 Axes>"
            ],
            "image/png": "[encoded data removed]"
          },
          "metadata": {}
        }
      ]
    },
    {
      "cell_type": "markdown",
      "source": [
        "# Decoding strategies (temperature scaling and k-sampling)\n"
      ],
      "metadata": {
        "id": "co5CnNUanF-r"
      }
    },
    {
      "cell_type": "markdown",
      "source": [
        "**Temperature Scaling**:\n",
        "In order for the model to perform better, we introduce temperature scaling which is basically a constant value (T>0) that's added into to the softmax function and this value divides all the output logits. There are 3 possible outcomes based on the value of T:\n",
        "If T>0 and <1 , this means that the difference between the largest output logit and all other small output logits will be huge.\n",
        "If T>>>>1, then there wont be much difference between the correct output logits with the other ones.\n",
        "So, one of the main goals for generating useful and creative text and not just a bunch of gibberish is actually selecting the right value for T.\n"
      ],
      "metadata": {
        "id": "hHX8WwEq_8eX"
      }
    },
    {
      "cell_type": "markdown",
      "source": [
        "**Multinomial Distribution**: We also utilize the multinomial distribuion function from the pytorch library which bsaically doesn't just select the highest valued logit but it will select the logits from a multnomial distribution curve. So, chances are, every now and then it will also select unlikely values from the curve."
      ],
      "metadata": {
        "id": "n7dzzZgtCuPV"
      }
    },
    {
      "cell_type": "markdown",
      "source": [
        "**K-sampling**: Very rarely, the multinomial fucntion can also select a few outputs which are super unlikely and have no relevance to the context whatsoever. To avoid this, we can use K-sampling where we can provide 'K' value (integer) and the model considers only those many logits from the top. Rest of them are set to -inf so that after passing them through softmax, they become zero.\n",
        "Example: Lets assume our ouput logits are: [4.51, 0.89, -1.90, 6.75, 1.63, -1.62, -1.89, 6.28, 1.79]. Lets say k=3\n",
        "After applying the k-sampling, the top-k (3 in this case) logits that will be displayed are: ([6.7500, 6.2800, 4.5100]). Rest are 0."
      ],
      "metadata": {
        "id": "Sum2EYlbCJQc"
      }
    },
    {
      "cell_type": "code",
      "source": [
        "def generate(model, idx, max_new_tokens, context_size, temperature=0.0, top_k=None, eos_id=None):\n",
        "\n",
        "    # For-loop is the same as before: Get logits, and only focus on last time step\n",
        "    for _ in range(max_new_tokens):\n",
        "        idx_cond = idx[:, -context_size:]\n",
        "        with torch.no_grad():\n",
        "            logits = model(idx_cond)\n",
        "        logits = logits[:, -1, :]\n",
        "\n",
        "        # New: Filter logits with top_k sampling\n",
        "        if top_k is not None:\n",
        "            # Keep only top_k values\n",
        "            top_logits, _ = torch.topk(logits, top_k)\n",
        "            min_val = top_logits[:, -1]\n",
        "            logits = torch.where(logits < min_val, torch.tensor(float(\"-inf\")).to(logits.device), logits)\n",
        "\n",
        "        # New: Apply temperature scaling\n",
        "        if temperature > 0.0:\n",
        "            logits = logits / temperature\n",
        "\n",
        "            # Apply softmax to get probabilities\n",
        "            probs = torch.softmax(logits, dim=-1)  # (batch_size, context_len)\n",
        "\n",
        "            # Sample from the distribution\n",
        "            idx_next = torch.multinomial(probs, num_samples=1)  # (batch_size, 1)\n",
        "\n",
        "        # Otherwise same as before: get idx of the vocab entry with the highest logits value\n",
        "        else:\n",
        "            idx_next = torch.argmax(logits, dim=-1, keepdim=True)  # (batch_size, 1)\n",
        "\n",
        "        if idx_next == eos_id:  # Stop generating early if end-of-sequence token is encountered and eos_id is specified\n",
        "            break\n",
        "\n",
        "        # Same as before: append sampled index to the running sequence\n",
        "        idx = torch.cat((idx, idx_next), dim=1)  # (batch_size, num_tokens+1)\n",
        "\n",
        "    return idx"
      ],
      "metadata": {
        "id": "sZEp-oqoFu-S"
      },
      "execution_count": 31,
      "outputs": []
    },
    {
      "cell_type": "code",
      "source": [
        "import torch\n",
        "\n",
        "# Ensure device selection\n",
        "device = torch.device(\"cuda\" if torch.cuda.is_available() else \"cpu\")\n",
        "\n",
        "# Move model to the correct device\n",
        "model.to(device)\n",
        "\n",
        "# Convert text to token IDs and move them to the same device\n",
        "idx = text_to_token_ids(\"Cristiano Ronaldo plays for\", tokenizer).to(device)\n",
        "\n",
        "# Generate output while ensuring all tensors are on the same device\n",
        "with torch.no_grad():  # Disable gradients for efficiency. Since we are not updating the weights, we can disable the gradients\n",
        "    token_ids = generate(\n",
        "        model=model,\n",
        "        idx=idx,  # Make sure idx is on the same device\n",
        "        max_new_tokens=15,\n",
        "        context_size=GPT2_CONFIG_124MP[\"context_length\"],\n",
        "        top_k=25,\n",
        "        temperature=1.4\n",
        "    )\n",
        "\n",
        "# Convert back to text\n",
        "print(\"Output text:\\n\", token_ids_to_text(token_ids, tokenizer))"
      ],
      "metadata": {
        "colab": {
          "base_uri": "https://localhost:8080/"
        },
        "id": "DOmmX9WdF3wY",
        "outputId": "0218ace1-4f52-408c-9090-316cfcc221fa"
      },
      "execution_count": 32,
      "outputs": [
        {
          "output_type": "stream",
          "name": "stdout",
          "text": [
            "Output text:\n",
            " Cristiano Ronaldo plays for, if a ' of it to face the end a single one could flash\n"
          ]
        }
      ]
    },
    {
      "cell_type": "markdown",
      "source": [
        "We can see that our model has produced more coherent text but it still is not enough to generate super meaningful text as it's trained only on 50000 tokens from 1 single source (the verdict)."
      ],
      "metadata": {
        "id": "n3JHZjzmdQ-v"
      }
    },
    {
      "cell_type": "markdown",
      "source": [
        "To save our model (containing parameters + optimizer-AdamW), we can use torch.save() function where we can further use model.state_dict() to store them in a dictionary format. This makes our model easily sharable with all the trained parameters and optimizer. The reason behind saving even the optimizer is because they contain information about hyperparameters and historical data such as past gradients."
      ],
      "metadata": {
        "id": "_2eMyqRmRIn1"
      }
    },
    {
      "cell_type": "code",
      "source": [
        "model = GPTModel(GPT2_CONFIG_124MP)\n",
        "optimizer = torch.optim.AdamW(model.parameters(), lr=0.0004, weight_decay=0.1)\n",
        "\n",
        "torch.save({\n",
        "    \"model_state_dict\": model.state_dict(),\n",
        "    \"optimizer_state_dict\": optimizer.state_dict(),\n",
        "    },\n",
        "    \"model_and_optimizer.pth\" # Where the model will be saved (.pth is a extension convention given for storing pytorch files. Alternatively, we can use any extension nomenclature).\n",
        ")"
      ],
      "metadata": {
        "id": "Ld0OcQslRGQF"
      },
      "execution_count": 33,
      "outputs": []
    },
    {
      "cell_type": "markdown",
      "source": [
        "To load the weights and optimizer from our local system, we can use torch.load() and mention the path as a paramenter."
      ],
      "metadata": {
        "id": "p1ZL6kFBalAD"
      }
    },
    {
      "cell_type": "code",
      "source": [
        "checkpoint = torch.load(\"model_and_optimizer.pth\")\n",
        "model = GPTModel(GPT2_CONFIG_124MP)\n",
        "model.load_state_dict(checkpoint[\"model_state_dict\"])\n",
        "optimizer = torch.optim.AdamW(model.parameters(), lr=5e-4, weight_decay=0.1)\n",
        "optimizer.load_state_dict(checkpoint[\"optimizer_state_dict\"])\n",
        "model.train(); #Opening in training mode"
      ],
      "metadata": {
        "colab": {
          "base_uri": "https://localhost:8080/"
        },
        "id": "-OcMqAe8RDRx",
        "outputId": "383fc356-fdcc-4b17-c638-4c7587ea22e1"
      },
      "execution_count": 34,
      "outputs": [
        {
          "output_type": "stream",
          "name": "stderr",
          "text": [
            "<ipython-input-34-06592c88d8b3>:1: FutureWarning: You are using `torch.load` with `weights_only=False` (the current default value), which uses the default pickle module implicitly. It is possible to construct malicious pickle data which will execute arbitrary code during unpickling (See https://github.com/pytorch/pytorch/blob/main/SECURITY.md#untrusted-models for more details). In a future release, the default value for `weights_only` will be flipped to `True`. This limits the functions that could be executed during unpickling. Arbitrary objects will no longer be allowed to be loaded via this mode unless they are explicitly allowlisted by the user via `torch.serialization.add_safe_globals`. We recommend you start setting `weights_only=True` for any use case where you don't have full control of the loaded file. Please open an issue on GitHub for any issues related to this experimental feature.\n",
            "  checkpoint = torch.load(\"model_and_optimizer.pth\")\n"
          ]
        }
      ]
    },
    {
      "cell_type": "markdown",
      "source": [
        "# Loading pre-trained weights of GPT-2 from OPEN AI"
      ],
      "metadata": {
        "id": "EYhMKJihVCB4"
      }
    },
    {
      "cell_type": "markdown",
      "source": [
        "Building good LLMs are directly proportional to their sheer size in parameters. The more tokens they've been trained on, the better performance and more meaning they can capture from our input tokens. Since, we dont possess these huge resources (I'm broke) and time, we will import GPT2's pretrained weights which are open-source and integrate it with our GPT architecture."
      ],
      "metadata": {
        "id": "OvH1pyH9LlgH"
      }
    },
    {
      "cell_type": "code",
      "source": [
        "!pip install tensorflow>=2.15.0 tqdm>=4.66"
      ],
      "metadata": {
        "id": "oaWZqzoQQ0Qn"
      },
      "execution_count": 35,
      "outputs": []
    },
    {
      "cell_type": "code",
      "source": [
        "import tensorflow as tf\n",
        "import tqdm\n",
        "\n",
        "print(\"TensorFlow version:\", tf.__version__)\n",
        "print(\"tqdm version:\", tqdm.__version__)"
      ],
      "metadata": {
        "colab": {
          "base_uri": "https://localhost:8080/"
        },
        "id": "TYH6haVoMtz4",
        "outputId": "373e992e-748e-4279-c85f-3c0cadcef364"
      },
      "execution_count": 36,
      "outputs": [
        {
          "output_type": "stream",
          "name": "stdout",
          "text": [
            "TensorFlow version: 2.18.0\n",
            "tqdm version: 4.67.1\n"
          ]
        }
      ]
    },
    {
      "cell_type": "code",
      "source": [
        "from gpt_download3 import download_and_load_gpt2"
      ],
      "metadata": {
        "id": "aL-2a6B2l7kI"
      },
      "execution_count": 37,
      "outputs": []
    },
    {
      "cell_type": "code",
      "source": [
        "settings, params = download_and_load_gpt2(model_size=\"124M\", models_dir=\"gpt2\")"
      ],
      "metadata": {
        "colab": {
          "base_uri": "https://localhost:8080/"
        },
        "id": "qUumnGwwml6J",
        "outputId": "716345ea-ab99-4879-ee60-56ff05e37df2"
      },
      "execution_count": 38,
      "outputs": [
        {
          "output_type": "stream",
          "name": "stderr",
          "text": [
            "/usr/local/lib/python3.11/dist-packages/urllib3/connectionpool.py:1097: InsecureRequestWarning: Unverified HTTPS request is being made to host 'openaipublic.blob.core.windows.net'. Adding certificate verification is strongly advised. See: https://urllib3.readthedocs.io/en/latest/advanced-usage.html#tls-warnings\n",
            "  warnings.warn(\n",
            "checkpoint: 100%|██████████| 77.0/77.0 [00:00<00:00, 169kiB/s]\n",
            "/usr/local/lib/python3.11/dist-packages/urllib3/connectionpool.py:1097: InsecureRequestWarning: Unverified HTTPS request is being made to host 'openaipublic.blob.core.windows.net'. Adding certificate verification is strongly advised. See: https://urllib3.readthedocs.io/en/latest/advanced-usage.html#tls-warnings\n",
            "  warnings.warn(\n",
            "encoder.json: 100%|██████████| 1.04M/1.04M [00:00<00:00, 1.19MiB/s]\n",
            "/usr/local/lib/python3.11/dist-packages/urllib3/connectionpool.py:1097: InsecureRequestWarning: Unverified HTTPS request is being made to host 'openaipublic.blob.core.windows.net'. Adding certificate verification is strongly advised. See: https://urllib3.readthedocs.io/en/latest/advanced-usage.html#tls-warnings\n",
            "  warnings.warn(\n",
            "hparams.json: 100%|██████████| 90.0/90.0 [00:00<00:00, 48.8kiB/s]\n",
            "/usr/local/lib/python3.11/dist-packages/urllib3/connectionpool.py:1097: InsecureRequestWarning: Unverified HTTPS request is being made to host 'openaipublic.blob.core.windows.net'. Adding certificate verification is strongly advised. See: https://urllib3.readthedocs.io/en/latest/advanced-usage.html#tls-warnings\n",
            "  warnings.warn(\n",
            "model.ckpt.data-00000-of-00001: 100%|██████████| 498M/498M [01:40<00:00, 4.96MiB/s]\n",
            "/usr/local/lib/python3.11/dist-packages/urllib3/connectionpool.py:1097: InsecureRequestWarning: Unverified HTTPS request is being made to host 'openaipublic.blob.core.windows.net'. Adding certificate verification is strongly advised. See: https://urllib3.readthedocs.io/en/latest/advanced-usage.html#tls-warnings\n",
            "  warnings.warn(\n",
            "model.ckpt.index: 100%|██████████| 5.21k/5.21k [00:00<00:00, 9.86MiB/s]\n",
            "/usr/local/lib/python3.11/dist-packages/urllib3/connectionpool.py:1097: InsecureRequestWarning: Unverified HTTPS request is being made to host 'openaipublic.blob.core.windows.net'. Adding certificate verification is strongly advised. See: https://urllib3.readthedocs.io/en/latest/advanced-usage.html#tls-warnings\n",
            "  warnings.warn(\n",
            "model.ckpt.meta: 100%|██████████| 471k/471k [00:00<00:00, 722kiB/s]\n",
            "/usr/local/lib/python3.11/dist-packages/urllib3/connectionpool.py:1097: InsecureRequestWarning: Unverified HTTPS request is being made to host 'openaipublic.blob.core.windows.net'. Adding certificate verification is strongly advised. See: https://urllib3.readthedocs.io/en/latest/advanced-usage.html#tls-warnings\n",
            "  warnings.warn(\n",
            "vocab.bpe: 100%|██████████| 456k/456k [00:00<00:00, 701kiB/s]\n"
          ]
        }
      ]
    },
    {
      "cell_type": "code",
      "source": [
        "print(\"Settings:\", settings)\n",
        "print(\"Parameter dictionary keys:\", params.keys())"
      ],
      "metadata": {
        "colab": {
          "base_uri": "https://localhost:8080/"
        },
        "id": "MClWYg-imrK0",
        "outputId": "99d1144c-5f6f-4803-9b7a-deece490374a"
      },
      "execution_count": 39,
      "outputs": [
        {
          "output_type": "stream",
          "name": "stdout",
          "text": [
            "Settings: {'n_vocab': 50257, 'n_ctx': 1024, 'n_embd': 768, 'n_head': 12, 'n_layer': 12}\n",
            "Parameter dictionary keys: dict_keys(['blocks', 'b', 'g', 'wpe', 'wte'])\n"
          ]
        }
      ]
    },
    {
      "cell_type": "markdown",
      "source": [
        "Here, 'blocks' refer to the weights of all the transformer blocks (multihead attention having keys, queries and value matrices, layer normalizations 1 and 2 each having both scale(multiply) and shift(add) parameters, feedfowrward network having fully connected layer(gets projected into a 4x dimensional hidden layer) and output_proj layers(dimensions are brought back matching the original)) ,\n",
        "\n",
        "'g' refers to scale parameters of the final layerNorm, 'b' refers to the shift parameters final layerNorm , 'wpe' refers to the weights of positional embedddings which have size of 1024 x 768 (equals to context_size x embedding_dim) and 'wte' refers to weights of the token embeddings of size 50257 x 768 (vocab_size x embedding_dim)."
      ],
      "metadata": {
        "id": "muG-E0NingkC"
      }
    },
    {
      "cell_type": "code",
      "source": [
        "print(params[\"wte\"])\n",
        "print(\"Token embedding weight tensor dimensions:\", params[\"wte\"].shape)"
      ],
      "metadata": {
        "colab": {
          "base_uri": "https://localhost:8080/"
        },
        "id": "Hv79d_zInZDo",
        "outputId": "efe847d1-011c-4078-c422-066894286c12"
      },
      "execution_count": 40,
      "outputs": [
        {
          "output_type": "stream",
          "name": "stdout",
          "text": [
            "[[-0.11010301 -0.03926672  0.03310751 ... -0.1363697   0.01506208\n",
            "   0.04531523]\n",
            " [ 0.04034033 -0.04861503  0.04624869 ...  0.08605453  0.00253983\n",
            "   0.04318958]\n",
            " [-0.12746179  0.04793796  0.18410145 ...  0.08991534 -0.12972379\n",
            "  -0.08785918]\n",
            " ...\n",
            " [-0.04453601 -0.05483596  0.01225674 ...  0.10435229  0.09783269\n",
            "  -0.06952604]\n",
            " [ 0.1860082   0.01665728  0.04611587 ... -0.09625227  0.07847701\n",
            "  -0.02245961]\n",
            " [ 0.05135201 -0.02768905  0.0499369  ...  0.00704835  0.15519823\n",
            "   0.12067825]]\n",
            "Token embedding weight tensor dimensions: (50257, 768)\n"
          ]
        }
      ]
    },
    {
      "cell_type": "markdown",
      "source": [
        "Creating a dictionay to store all the different model configs of GPT2"
      ],
      "metadata": {
        "id": "N9ypFBgdQzx_"
      }
    },
    {
      "cell_type": "code",
      "source": [
        "# Define model configurations in a dictionary for compactness\n",
        "model_configs = {\n",
        "    \"gpt2-small (124M)\": {\"emb_dim\": 768, \"n_layers\": 12, \"n_heads\": 12},\n",
        "    \"gpt2-medium (355M)\": {\"emb_dim\": 1024, \"n_layers\": 24, \"n_heads\": 16},\n",
        "    \"gpt2-large (774M)\": {\"emb_dim\": 1280, \"n_layers\": 36, \"n_heads\": 20},\n",
        "    \"gpt2-xl (1558M)\": {\"emb_dim\": 1600, \"n_layers\": 48, \"n_heads\": 25},\n",
        "}\n",
        "\n",
        "# Copy the base configuration and update with specific model settings\n",
        "model_name = \"gpt2-small (124M)\"  # Example model name\n",
        "NEW_CONFIG = GPT2_CONFIG_124MP.copy()\n",
        "NEW_CONFIG.update(model_configs[model_name])"
      ],
      "metadata": {
        "id": "X3SQ5r7GsYhr"
      },
      "execution_count": 41,
      "outputs": []
    },
    {
      "cell_type": "markdown",
      "source": [
        "Since our GPT architecture involved us taking context_length of only 256, while the actual GPT model was designed to take in context_length of 1024, we will update our architecture's context length accordingly."
      ],
      "metadata": {
        "id": "MhNb0bZ4RDQ1"
      }
    },
    {
      "cell_type": "code",
      "source": [
        "NEW_CONFIG.update({\"context_length\": 1024, \"qkv_bias\": True})\n",
        "gpt = GPTModel(NEW_CONFIG)\n",
        "gpt.eval();"
      ],
      "metadata": {
        "id": "trJISCF7QxIw"
      },
      "execution_count": 42,
      "outputs": []
    },
    {
      "cell_type": "markdown",
      "source": [
        "Since we had initialized our model with random weights previously, we will update them with the OPEN AI's weights which gets the weights from the 'params' dictionary. For this we will first define a small assign utility function that checks whether two tensors or arrays (left and right) have the same dimensions or shape and returns the right tensor as trainable PyTorch parameters"
      ],
      "metadata": {
        "id": "e0GgT3AvSNlN"
      }
    },
    {
      "cell_type": "code",
      "source": [
        "def assign(left, right):\n",
        "    if left.shape != right.shape:\n",
        "        raise ValueError(f\"Shape mismatch. Left: {left.shape}, Right: {right.shape}\")\n",
        "    return torch.nn.Parameter(torch.tensor(right))"
      ],
      "metadata": {
        "id": "u5aXfD-fRpeU"
      },
      "execution_count": 43,
      "outputs": []
    },
    {
      "cell_type": "markdown",
      "source": [
        "The actual updating of our model's inital random weights with OPEN AI's weights is done here where the load_weights_into_gpt function takes in our GPT model architecture and loads parameters from the OPEN AI to it. It also involves weight tying where the token embedding weights are themselves reused in the output layer thus reducing the overall parameter count from 162M to 124M."
      ],
      "metadata": {
        "id": "2SbmSml7S41I"
      }
    },
    {
      "cell_type": "code",
      "source": [
        "import numpy as np\n",
        "\n",
        "def load_weights_into_gpt(gpt, params):\n",
        "    gpt.pos_emb.weight = assign(gpt.pos_emb.weight, params['wpe'])\n",
        "    gpt.tok_emb.weight = assign(gpt.tok_emb.weight, params['wte'])\n",
        "\n",
        "    for b in range(len(params[\"blocks\"])):\n",
        "        q_w, k_w, v_w = np.split(\n",
        "            (params[\"blocks\"][b][\"attn\"][\"c_attn\"])[\"w\"], 3, axis=-1)\n",
        "        gpt.trf_blocks[b].att.W_query.weight = assign(\n",
        "            gpt.trf_blocks[b].att.W_query.weight, q_w.T)\n",
        "        gpt.trf_blocks[b].att.W_key.weight = assign(\n",
        "            gpt.trf_blocks[b].att.W_key.weight, k_w.T)\n",
        "        gpt.trf_blocks[b].att.W_value.weight = assign(\n",
        "            gpt.trf_blocks[b].att.W_value.weight, v_w.T)\n",
        "\n",
        "        q_b, k_b, v_b = np.split(\n",
        "            (params[\"blocks\"][b][\"attn\"][\"c_attn\"])[\"b\"], 3, axis=-1)\n",
        "        gpt.trf_blocks[b].att.W_query.bias = assign(\n",
        "            gpt.trf_blocks[b].att.W_query.bias, q_b)\n",
        "        gpt.trf_blocks[b].att.W_key.bias = assign(\n",
        "            gpt.trf_blocks[b].att.W_key.bias, k_b)\n",
        "        gpt.trf_blocks[b].att.W_value.bias = assign(\n",
        "            gpt.trf_blocks[b].att.W_value.bias, v_b)\n",
        "\n",
        "        gpt.trf_blocks[b].att.out_proj.weight = assign(\n",
        "            gpt.trf_blocks[b].att.out_proj.weight,\n",
        "            params[\"blocks\"][b][\"attn\"][\"c_proj\"][\"w\"].T)\n",
        "        gpt.trf_blocks[b].att.out_proj.bias = assign(\n",
        "            gpt.trf_blocks[b].att.out_proj.bias,\n",
        "            params[\"blocks\"][b][\"attn\"][\"c_proj\"][\"b\"])\n",
        "\n",
        "        gpt.trf_blocks[b].ff.layers[0].weight = assign(\n",
        "            gpt.trf_blocks[b].ff.layers[0].weight,\n",
        "            params[\"blocks\"][b][\"mlp\"][\"c_fc\"][\"w\"].T)\n",
        "        gpt.trf_blocks[b].ff.layers[0].bias = assign(\n",
        "            gpt.trf_blocks[b].ff.layers[0].bias,\n",
        "            params[\"blocks\"][b][\"mlp\"][\"c_fc\"][\"b\"])\n",
        "        gpt.trf_blocks[b].ff.layers[2].weight = assign(\n",
        "            gpt.trf_blocks[b].ff.layers[2].weight,\n",
        "            params[\"blocks\"][b][\"mlp\"][\"c_proj\"][\"w\"].T)\n",
        "        gpt.trf_blocks[b].ff.layers[2].bias = assign(\n",
        "            gpt.trf_blocks[b].ff.layers[2].bias,\n",
        "            params[\"blocks\"][b][\"mlp\"][\"c_proj\"][\"b\"])\n",
        "\n",
        "        gpt.trf_blocks[b].norm1.scale = assign(\n",
        "            gpt.trf_blocks[b].norm1.scale,\n",
        "            params[\"blocks\"][b][\"ln_1\"][\"g\"])\n",
        "        gpt.trf_blocks[b].norm1.shift = assign(\n",
        "            gpt.trf_blocks[b].norm1.shift,\n",
        "            params[\"blocks\"][b][\"ln_1\"][\"b\"])\n",
        "        gpt.trf_blocks[b].norm2.scale = assign(\n",
        "            gpt.trf_blocks[b].norm2.scale,\n",
        "            params[\"blocks\"][b][\"ln_2\"][\"g\"])\n",
        "        gpt.trf_blocks[b].norm2.shift = assign(\n",
        "            gpt.trf_blocks[b].norm2.shift,\n",
        "            params[\"blocks\"][b][\"ln_2\"][\"b\"])\n",
        "\n",
        "    gpt.final_norm.scale = assign(gpt.final_norm.scale, params[\"g\"])\n",
        "    gpt.final_norm.shift = assign(gpt.final_norm.shift, params[\"b\"])\n",
        "    gpt.out_head.weight = assign(gpt.out_head.weight, params[\"wte\"])"
      ],
      "metadata": {
        "id": "8I6pKKS3Rf9d"
      },
      "execution_count": 44,
      "outputs": []
    },
    {
      "cell_type": "markdown",
      "source": [
        "Demonstrating the model after loading the pre-trained weights from OPEN AI"
      ],
      "metadata": {
        "id": "WlGG59oHUBTI"
      }
    },
    {
      "cell_type": "code",
      "source": [
        "load_weights_into_gpt(gpt, params)\n",
        "gpt.to(device);"
      ],
      "metadata": {
        "id": "lBYq8VNSUJIq"
      },
      "execution_count": 45,
      "outputs": []
    },
    {
      "cell_type": "code",
      "source": [
        "torch.manual_seed(13)\n",
        "\n",
        "token_ids = generate(\n",
        "    model=gpt,\n",
        "    idx=text_to_token_ids(\"Cristiano Ronaldo plays for\", tokenizer).to(device),\n",
        "    max_new_tokens=25,\n",
        "    context_size=NEW_CONFIG[\"context_length\"],\n",
        "    top_k=50,\n",
        "    temperature=1.5\n",
        ")\n",
        "\n",
        "print(\"Output text:\\n\", token_ids_to_text(token_ids, tokenizer))"
      ],
      "metadata": {
        "colab": {
          "base_uri": "https://localhost:8080/"
        },
        "id": "gcI4atpIUKJA",
        "outputId": "a07a764c-7557-4217-c874-869005b93614"
      },
      "execution_count": 46,
      "outputs": [
        {
          "output_type": "stream",
          "name": "stdout",
          "text": [
            "Output text:\n",
            " Cristiano Ronaldo plays for Manchester United in his first Premier League game\n",
            "'His personality could see him becoming a player,' said Mourinho last week, adding\n"
          ]
        }
      ]
    },
    {
      "cell_type": "markdown",
      "source": [
        "Now we can see that the model is producing accurate and factual sentences since its been trained on millions of tokens across thousands of data sources."
      ],
      "metadata": {
        "id": "kdK_TDiNUYd5"
      }
    },
    {
      "cell_type": "markdown",
      "source": [
        "# Finetuning our model for Classification"
      ],
      "metadata": {
        "id": "7o0A56sTVKNH"
      }
    },
    {
      "cell_type": "markdown",
      "source": [
        "We can implement finetuning in 2 ways: Instruction based(requires user giving instructions or asking questions) and Classifcation based(no instructions are explicitly given and the model should just classify). We will implement the latter because they (Classification based fine-tuning) require computationally less memory and no explicit instructions and can be executed quickly."
      ],
      "metadata": {
        "id": "YxYY-0kKVTHv"
      }
    },
    {
      "cell_type": "markdown",
      "source": [
        "We are trying to build an email classifier which classifies any email as either Spam or No Spam (also called as Ham). We can import the dataset containing both Spam and Ham emails along with their labels from the UC Irvine ML repository."
      ],
      "metadata": {
        "id": "qOB8K7RfWDON"
      }
    },
    {
      "cell_type": "code",
      "source": [
        "import urllib.request\n",
        "import ssl\n",
        "import zipfile\n",
        "import os\n",
        "from pathlib import Path\n",
        "\n",
        "url = \"https://archive.ics.uci.edu/static/public/228/sms+spam+collection.zip\"\n",
        "zip_path = \"sms_spam_collection.zip\"\n",
        "extracted_path = \"sms_spam_collection\"\n",
        "data_file_path = Path(extracted_path) / \"SMSSpamCollection.tsv\"\n",
        "\n",
        "def download_and_unzip_spam_data(url, zip_path, extracted_path, data_file_path):\n",
        "    if data_file_path.exists():\n",
        "        print(f\"{data_file_path} already exists. Skipping download and extraction.\")\n",
        "        return\n",
        "\n",
        "    # Create an unverified SSL context\n",
        "    ssl_context = ssl._create_unverified_context()\n",
        "\n",
        "    # Downloading the file\n",
        "    with urllib.request.urlopen(url, context=ssl_context) as response:\n",
        "        with open(zip_path, \"wb\") as out_file:\n",
        "            out_file.write(response.read())\n",
        "\n",
        "    # Unzipping the file\n",
        "    with zipfile.ZipFile(zip_path, \"r\") as zip_ref:\n",
        "        zip_ref.extractall(extracted_path)\n",
        "\n",
        "    # Add .tsv file extension\n",
        "    original_file_path = Path(extracted_path) / \"SMSSpamCollection\"\n",
        "    os.rename(original_file_path, data_file_path)\n",
        "    print(f\"File downloaded and saved as {data_file_path}\")\n",
        "\n",
        "download_and_unzip_spam_data(url, zip_path, extracted_path, data_file_path)"
      ],
      "metadata": {
        "colab": {
          "base_uri": "https://localhost:8080/"
        },
        "id": "Vxb5m6_cVRAw",
        "outputId": "c8ec0293-0279-48f9-e59e-86abb4685050"
      },
      "execution_count": 47,
      "outputs": [
        {
          "output_type": "stream",
          "name": "stdout",
          "text": [
            "File downloaded and saved as sms_spam_collection/SMSSpamCollection.tsv\n"
          ]
        }
      ]
    },
    {
      "cell_type": "markdown",
      "source": [
        "Displaying a few rows to see if they are being loaded correctly."
      ],
      "metadata": {
        "id": "WNnPKcJ5W4jj"
      }
    },
    {
      "cell_type": "code",
      "source": [
        "import pandas as pd\n",
        "\n",
        "df = pd.read_csv(data_file_path, sep=\"\\t\", header=None, names=[\"Label\", \"Text\"])\n",
        "df"
      ],
      "metadata": {
        "colab": {
          "base_uri": "https://localhost:8080/",
          "height": 423
        },
        "id": "9LRiBOg3W9_p",
        "outputId": "c37a50dd-ba76-40a3-bacd-39a90a3fc374"
      },
      "execution_count": 48,
      "outputs": [
        {
          "output_type": "execute_result",
          "data": {
            "text/plain": [
              "     Label                                               Text\n",
              "0      ham  Go until jurong point, crazy.. Available only ...\n",
              "1      ham                      Ok lar... Joking wif u oni...\n",
              "2     spam  Free entry in 2 a wkly comp to win FA Cup fina...\n",
              "3      ham  U dun say so early hor... U c already then say...\n",
              "4      ham  Nah I don't think he goes to usf, he lives aro...\n",
              "...    ...                                                ...\n",
              "5567  spam  This is the 2nd time we have tried 2 contact u...\n",
              "5568   ham               Will ü b going to esplanade fr home?\n",
              "5569   ham  Pity, * was in mood for that. So...any other s...\n",
              "5570   ham  The guy did some bitching but I acted like i'd...\n",
              "5571   ham                         Rofl. Its true to its name\n",
              "\n",
              "[5572 rows x 2 columns]"
            ],
            "text/html": [
              "\n",
              "  <div id=\"df-defa0557-c7a9-4939-b098-430d7a4f29c6\" class=\"colab-df-container\">\n",
              "    <div>\n",
              "<style scoped>\n",
              "    .dataframe tbody tr th:only-of-type {\n",
              "        vertical-align: middle;\n",
              "    }\n",
              "\n",
              "    .dataframe tbody tr th {\n",
              "        vertical-align: top;\n",
              "    }\n",
              "\n",
              "    .dataframe thead th {\n",
              "        text-align: right;\n",
              "    }\n",
              "</style>\n",
              "<table border=\"1\" class=\"dataframe\">\n",
              "  <thead>\n",
              "    <tr style=\"text-align: right;\">\n",
              "      <th></th>\n",
              "      <th>Label</th>\n",
              "      <th>Text</th>\n",
              "    </tr>\n",
              "  </thead>\n",
              "  <tbody>\n",
              "    <tr>\n",
              "      <th>0</th>\n",
              "      <td>ham</td>\n",
              "      <td>Go until jurong point, crazy.. Available only ...</td>\n",
              "    </tr>\n",
              "    <tr>\n",
              "      <th>1</th>\n",
              "      <td>ham</td>\n",
              "      <td>Ok lar... Joking wif u oni...</td>\n",
              "    </tr>\n",
              "    <tr>\n",
              "      <th>2</th>\n",
              "      <td>spam</td>\n",
              "      <td>Free entry in 2 a wkly comp to win FA Cup fina...</td>\n",
              "    </tr>\n",
              "    <tr>\n",
              "      <th>3</th>\n",
              "      <td>ham</td>\n",
              "      <td>U dun say so early hor... U c already then say...</td>\n",
              "    </tr>\n",
              "    <tr>\n",
              "      <th>4</th>\n",
              "      <td>ham</td>\n",
              "      <td>Nah I don't think he goes to usf, he lives aro...</td>\n",
              "    </tr>\n",
              "    <tr>\n",
              "      <th>...</th>\n",
              "      <td>...</td>\n",
              "      <td>...</td>\n",
              "    </tr>\n",
              "    <tr>\n",
              "      <th>5567</th>\n",
              "      <td>spam</td>\n",
              "      <td>This is the 2nd time we have tried 2 contact u...</td>\n",
              "    </tr>\n",
              "    <tr>\n",
              "      <th>5568</th>\n",
              "      <td>ham</td>\n",
              "      <td>Will ü b going to esplanade fr home?</td>\n",
              "    </tr>\n",
              "    <tr>\n",
              "      <th>5569</th>\n",
              "      <td>ham</td>\n",
              "      <td>Pity, * was in mood for that. So...any other s...</td>\n",
              "    </tr>\n",
              "    <tr>\n",
              "      <th>5570</th>\n",
              "      <td>ham</td>\n",
              "      <td>The guy did some bitching but I acted like i'd...</td>\n",
              "    </tr>\n",
              "    <tr>\n",
              "      <th>5571</th>\n",
              "      <td>ham</td>\n",
              "      <td>Rofl. Its true to its name</td>\n",
              "    </tr>\n",
              "  </tbody>\n",
              "</table>\n",
              "<p>5572 rows × 2 columns</p>\n",
              "</div>\n",
              "    <div class=\"colab-df-buttons\">\n",
              "\n",
              "  <div class=\"colab-df-container\">\n",
              "    <button class=\"colab-df-convert\" onclick=\"convertToInteractive('df-defa0557-c7a9-4939-b098-430d7a4f29c6')\"\n",
              "            title=\"Convert this dataframe to an interactive table.\"\n",
              "            style=\"display:none;\">\n",
              "\n",
              "  <svg xmlns=\"http://www.w3.org/2000/svg\" height=\"24px\" viewBox=\"0 -960 960 960\">\n",
              "    <path d=\"M120-120v-720h720v720H120Zm60-500h600v-160H180v160Zm220 220h160v-160H400v160Zm0 220h160v-160H400v160ZM180-400h160v-160H180v160Zm440 0h160v-160H620v160ZM180-180h160v-160H180v160Zm440 0h160v-160H620v160Z\"/>\n",
              "  </svg>\n",
              "    </button>\n",
              "\n",
              "  <style>\n",
              "    .colab-df-container {\n",
              "      display:flex;\n",
              "      gap: 12px;\n",
              "    }\n",
              "\n",
              "    .colab-df-convert {\n",
              "      background-color: #E8F0FE;\n",
              "      border: none;\n",
              "      border-radius: 50%;\n",
              "      cursor: pointer;\n",
              "      display: none;\n",
              "      fill: #1967D2;\n",
              "      height: 32px;\n",
              "      padding: 0 0 0 0;\n",
              "      width: 32px;\n",
              "    }\n",
              "\n",
              "    .colab-df-convert:hover {\n",
              "      background-color: #E2EBFA;\n",
              "      box-shadow: 0px 1px 2px rgba(60, 64, 67, 0.3), 0px 1px 3px 1px rgba(60, 64, 67, 0.15);\n",
              "      fill: #174EA6;\n",
              "    }\n",
              "\n",
              "    .colab-df-buttons div {\n",
              "      margin-bottom: 4px;\n",
              "    }\n",
              "\n",
              "    [theme=dark] .colab-df-convert {\n",
              "      background-color: #3B4455;\n",
              "      fill: #D2E3FC;\n",
              "    }\n",
              "\n",
              "    [theme=dark] .colab-df-convert:hover {\n",
              "      background-color: #434B5C;\n",
              "      box-shadow: 0px 1px 3px 1px rgba(0, 0, 0, 0.15);\n",
              "      filter: drop-shadow(0px 1px 2px rgba(0, 0, 0, 0.3));\n",
              "      fill: #FFFFFF;\n",
              "    }\n",
              "  </style>\n",
              "\n",
              "    <script>\n",
              "      const buttonEl =\n",
              "        document.querySelector('#df-defa0557-c7a9-4939-b098-430d7a4f29c6 button.colab-df-convert');\n",
              "      buttonEl.style.display =\n",
              "        google.colab.kernel.accessAllowed ? 'block' : 'none';\n",
              "\n",
              "      async function convertToInteractive(key) {\n",
              "        const element = document.querySelector('#df-defa0557-c7a9-4939-b098-430d7a4f29c6');\n",
              "        const dataTable =\n",
              "          await google.colab.kernel.invokeFunction('convertToInteractive',\n",
              "                                                    [key], {});\n",
              "        if (!dataTable) return;\n",
              "\n",
              "        const docLinkHtml = 'Like what you see? Visit the ' +\n",
              "          '<a target=\"_blank\" href=https://colab.research.google.com/notebooks/data_table.ipynb>data table notebook</a>'\n",
              "          + ' to learn more about interactive tables.';\n",
              "        element.innerHTML = '';\n",
              "        dataTable['output_type'] = 'display_data';\n",
              "        await google.colab.output.renderOutput(dataTable, element);\n",
              "        const docLink = document.createElement('div');\n",
              "        docLink.innerHTML = docLinkHtml;\n",
              "        element.appendChild(docLink);\n",
              "      }\n",
              "    </script>\n",
              "  </div>\n",
              "\n",
              "\n",
              "<div id=\"df-8a7e2165-3660-4c86-bdef-b5ab7e983c09\">\n",
              "  <button class=\"colab-df-quickchart\" onclick=\"quickchart('df-8a7e2165-3660-4c86-bdef-b5ab7e983c09')\"\n",
              "            title=\"Suggest charts\"\n",
              "            style=\"display:none;\">\n",
              "\n",
              "<svg xmlns=\"http://www.w3.org/2000/svg\" height=\"24px\"viewBox=\"0 0 24 24\"\n",
              "     width=\"24px\">\n",
              "    <g>\n",
              "        <path d=\"M19 3H5c-1.1 0-2 .9-2 2v14c0 1.1.9 2 2 2h14c1.1 0 2-.9 2-2V5c0-1.1-.9-2-2-2zM9 17H7v-7h2v7zm4 0h-2V7h2v10zm4 0h-2v-4h2v4z\"/>\n",
              "    </g>\n",
              "</svg>\n",
              "  </button>\n",
              "\n",
              "<style>\n",
              "  .colab-df-quickchart {\n",
              "      --bg-color: #E8F0FE;\n",
              "      --fill-color: #1967D2;\n",
              "      --hover-bg-color: #E2EBFA;\n",
              "      --hover-fill-color: #174EA6;\n",
              "      --disabled-fill-color: #AAA;\n",
              "      --disabled-bg-color: #DDD;\n",
              "  }\n",
              "\n",
              "  [theme=dark] .colab-df-quickchart {\n",
              "      --bg-color: #3B4455;\n",
              "      --fill-color: #D2E3FC;\n",
              "      --hover-bg-color: #434B5C;\n",
              "      --hover-fill-color: #FFFFFF;\n",
              "      --disabled-bg-color: #3B4455;\n",
              "      --disabled-fill-color: #666;\n",
              "  }\n",
              "\n",
              "  .colab-df-quickchart {\n",
              "    background-color: var(--bg-color);\n",
              "    border: none;\n",
              "    border-radius: 50%;\n",
              "    cursor: pointer;\n",
              "    display: none;\n",
              "    fill: var(--fill-color);\n",
              "    height: 32px;\n",
              "    padding: 0;\n",
              "    width: 32px;\n",
              "  }\n",
              "\n",
              "  .colab-df-quickchart:hover {\n",
              "    background-color: var(--hover-bg-color);\n",
              "    box-shadow: 0 1px 2px rgba(60, 64, 67, 0.3), 0 1px 3px 1px rgba(60, 64, 67, 0.15);\n",
              "    fill: var(--button-hover-fill-color);\n",
              "  }\n",
              "\n",
              "  .colab-df-quickchart-complete:disabled,\n",
              "  .colab-df-quickchart-complete:disabled:hover {\n",
              "    background-color: var(--disabled-bg-color);\n",
              "    fill: var(--disabled-fill-color);\n",
              "    box-shadow: none;\n",
              "  }\n",
              "\n",
              "  .colab-df-spinner {\n",
              "    border: 2px solid var(--fill-color);\n",
              "    border-color: transparent;\n",
              "    border-bottom-color: var(--fill-color);\n",
              "    animation:\n",
              "      spin 1s steps(1) infinite;\n",
              "  }\n",
              "\n",
              "  @keyframes spin {\n",
              "    0% {\n",
              "      border-color: transparent;\n",
              "      border-bottom-color: var(--fill-color);\n",
              "      border-left-color: var(--fill-color);\n",
              "    }\n",
              "    20% {\n",
              "      border-color: transparent;\n",
              "      border-left-color: var(--fill-color);\n",
              "      border-top-color: var(--fill-color);\n",
              "    }\n",
              "    30% {\n",
              "      border-color: transparent;\n",
              "      border-left-color: var(--fill-color);\n",
              "      border-top-color: var(--fill-color);\n",
              "      border-right-color: var(--fill-color);\n",
              "    }\n",
              "    40% {\n",
              "      border-color: transparent;\n",
              "      border-right-color: var(--fill-color);\n",
              "      border-top-color: var(--fill-color);\n",
              "    }\n",
              "    60% {\n",
              "      border-color: transparent;\n",
              "      border-right-color: var(--fill-color);\n",
              "    }\n",
              "    80% {\n",
              "      border-color: transparent;\n",
              "      border-right-color: var(--fill-color);\n",
              "      border-bottom-color: var(--fill-color);\n",
              "    }\n",
              "    90% {\n",
              "      border-color: transparent;\n",
              "      border-bottom-color: var(--fill-color);\n",
              "    }\n",
              "  }\n",
              "</style>\n",
              "\n",
              "  <script>\n",
              "    async function quickchart(key) {\n",
              "      const quickchartButtonEl =\n",
              "        document.querySelector('#' + key + ' button');\n",
              "      quickchartButtonEl.disabled = true;  // To prevent multiple clicks.\n",
              "      quickchartButtonEl.classList.add('colab-df-spinner');\n",
              "      try {\n",
              "        const charts = await google.colab.kernel.invokeFunction(\n",
              "            'suggestCharts', [key], {});\n",
              "      } catch (error) {\n",
              "        console.error('Error during call to suggestCharts:', error);\n",
              "      }\n",
              "      quickchartButtonEl.classList.remove('colab-df-spinner');\n",
              "      quickchartButtonEl.classList.add('colab-df-quickchart-complete');\n",
              "    }\n",
              "    (() => {\n",
              "      let quickchartButtonEl =\n",
              "        document.querySelector('#df-8a7e2165-3660-4c86-bdef-b5ab7e983c09 button');\n",
              "      quickchartButtonEl.style.display =\n",
              "        google.colab.kernel.accessAllowed ? 'block' : 'none';\n",
              "    })();\n",
              "  </script>\n",
              "</div>\n",
              "\n",
              "  <div id=\"id_979fee37-1a0d-4240-ba8d-f0067afc3d53\">\n",
              "    <style>\n",
              "      .colab-df-generate {\n",
              "        background-color: #E8F0FE;\n",
              "        border: none;\n",
              "        border-radius: 50%;\n",
              "        cursor: pointer;\n",
              "        display: none;\n",
              "        fill: #1967D2;\n",
              "        height: 32px;\n",
              "        padding: 0 0 0 0;\n",
              "        width: 32px;\n",
              "      }\n",
              "\n",
              "      .colab-df-generate:hover {\n",
              "        background-color: #E2EBFA;\n",
              "        box-shadow: 0px 1px 2px rgba(60, 64, 67, 0.3), 0px 1px 3px 1px rgba(60, 64, 67, 0.15);\n",
              "        fill: #174EA6;\n",
              "      }\n",
              "\n",
              "      [theme=dark] .colab-df-generate {\n",
              "        background-color: #3B4455;\n",
              "        fill: #D2E3FC;\n",
              "      }\n",
              "\n",
              "      [theme=dark] .colab-df-generate:hover {\n",
              "        background-color: #434B5C;\n",
              "        box-shadow: 0px 1px 3px 1px rgba(0, 0, 0, 0.15);\n",
              "        filter: drop-shadow(0px 1px 2px rgba(0, 0, 0, 0.3));\n",
              "        fill: #FFFFFF;\n",
              "      }\n",
              "    </style>\n",
              "    <button class=\"colab-df-generate\" onclick=\"generateWithVariable('df')\"\n",
              "            title=\"Generate code using this dataframe.\"\n",
              "            style=\"display:none;\">\n",
              "\n",
              "  <svg xmlns=\"http://www.w3.org/2000/svg\" height=\"24px\"viewBox=\"0 0 24 24\"\n",
              "       width=\"24px\">\n",
              "    <path d=\"M7,19H8.4L18.45,9,17,7.55,7,17.6ZM5,21V16.75L18.45,3.32a2,2,0,0,1,2.83,0l1.4,1.43a1.91,1.91,0,0,1,.58,1.4,1.91,1.91,0,0,1-.58,1.4L9.25,21ZM18.45,9,17,7.55Zm-12,3A5.31,5.31,0,0,0,4.9,8.1,5.31,5.31,0,0,0,1,6.5,5.31,5.31,0,0,0,4.9,4.9,5.31,5.31,0,0,0,6.5,1,5.31,5.31,0,0,0,8.1,4.9,5.31,5.31,0,0,0,12,6.5,5.46,5.46,0,0,0,6.5,12Z\"/>\n",
              "  </svg>\n",
              "    </button>\n",
              "    <script>\n",
              "      (() => {\n",
              "      const buttonEl =\n",
              "        document.querySelector('#id_979fee37-1a0d-4240-ba8d-f0067afc3d53 button.colab-df-generate');\n",
              "      buttonEl.style.display =\n",
              "        google.colab.kernel.accessAllowed ? 'block' : 'none';\n",
              "\n",
              "      buttonEl.onclick = () => {\n",
              "        google.colab.notebook.generateWithVariable('df');\n",
              "      }\n",
              "      })();\n",
              "    </script>\n",
              "  </div>\n",
              "\n",
              "    </div>\n",
              "  </div>\n"
            ],
            "application/vnd.google.colaboratory.intrinsic+json": {
              "type": "dataframe",
              "variable_name": "df",
              "summary": "{\n  \"name\": \"df\",\n  \"rows\": 5572,\n  \"fields\": [\n    {\n      \"column\": \"Label\",\n      \"properties\": {\n        \"dtype\": \"category\",\n        \"num_unique_values\": 2,\n        \"samples\": [\n          \"spam\",\n          \"ham\"\n        ],\n        \"semantic_type\": \"\",\n        \"description\": \"\"\n      }\n    },\n    {\n      \"column\": \"Text\",\n      \"properties\": {\n        \"dtype\": \"string\",\n        \"num_unique_values\": 5169,\n        \"samples\": [\n          \"K, makes sense, btw carlos is being difficult so you guys are gonna smoke while I go pick up the second batch and get gas\",\n          \"URGENT! Your mobile No *********** WON a \\u00a32,000 Bonus Caller Prize on 02/06/03! This is the 2nd attempt to reach YOU! Call 09066362220 ASAP! BOX97N7QP, 150ppm\"\n        ],\n        \"semantic_type\": \"\",\n        \"description\": \"\"\n      }\n    }\n  ]\n}"
            }
          },
          "metadata": {},
          "execution_count": 48
        }
      ]
    },
    {
      "cell_type": "code",
      "source": [
        "print(df[\"Label\"].value_counts())"
      ],
      "metadata": {
        "colab": {
          "base_uri": "https://localhost:8080/"
        },
        "id": "wIASqjHcXCBL",
        "outputId": "39158db9-237f-4b15-ae05-e4e691799742"
      },
      "execution_count": 49,
      "outputs": [
        {
          "output_type": "stream",
          "name": "stdout",
          "text": [
            "Label\n",
            "ham     4825\n",
            "spam     747\n",
            "Name: count, dtype: int64\n"
          ]
        }
      ]
    },
    {
      "cell_type": "markdown",
      "source": [
        "We can see that this dataset has more ham (4825) emails than spam (747) emails. For simplicity and the fact that we can fine-tune our LLM faster, we are going to make the count of both spam and ham, the same = 747"
      ],
      "metadata": {
        "id": "DowX3JxpXKd8"
      }
    },
    {
      "cell_type": "code",
      "source": [
        "def create_balanced_dataset(df):\n",
        "\n",
        "    # Count the instances of \"spam\"\n",
        "    num_spam = df[df[\"Label\"] == \"spam\"].shape[0]\n",
        "\n",
        "    # Randomly sample \"ham\" instances to match the number of \"spam\" instances\n",
        "    ham_subset = df[df[\"Label\"] == \"ham\"].sample(num_spam, random_state=123)\n",
        "\n",
        "    # Combine ham \"subset\" with \"spam\"\n",
        "    balanced_df = pd.concat([ham_subset, df[df[\"Label\"] == \"spam\"]])\n",
        "\n",
        "    return balanced_df\n",
        "\n",
        "balanced_df = create_balanced_dataset(df)\n",
        "print(balanced_df[\"Label\"].value_counts())"
      ],
      "metadata": {
        "colab": {
          "base_uri": "https://localhost:8080/"
        },
        "id": "HQ1cSqhhXJzS",
        "outputId": "0b09640b-d94b-4808-9f03-ad9b2a9f255e"
      },
      "execution_count": 50,
      "outputs": [
        {
          "output_type": "stream",
          "name": "stdout",
          "text": [
            "Label\n",
            "ham     747\n",
            "spam    747\n",
            "Name: count, dtype: int64\n"
          ]
        }
      ]
    },
    {
      "cell_type": "markdown",
      "source": [
        "We will also convert the string labels 'ham' to 0 and 'spam' to 1. This is similar to converting tokens to token_ids except here we only have 2 tokens (spam and ham)."
      ],
      "metadata": {
        "id": "aXpF-on5fsjF"
      }
    },
    {
      "cell_type": "code",
      "source": [
        "balanced_df[\"Label\"] = balanced_df[\"Label\"].map({\"ham\": 0, \"spam\": 1})"
      ],
      "metadata": {
        "id": "hN_iRywxfraS"
      },
      "execution_count": 51,
      "outputs": []
    },
    {
      "cell_type": "markdown",
      "source": [
        "We will now split the whole balanced_df (747+747) into train_df(70%), validation_df(10%) and the remaining as test_df(20%)."
      ],
      "metadata": {
        "id": "pHGZv04LgL6W"
      }
    },
    {
      "cell_type": "code",
      "source": [
        "def random_split(df, train_frac, validation_frac):\n",
        "    # Shuffle the entire DataFrame\n",
        "    df = df.sample(frac=1, random_state=123).reset_index(drop=True)\n",
        "\n",
        "    # Calculate split indices\n",
        "    train_end = int(len(df) * train_frac)\n",
        "    validation_end = train_end + int(len(df) * validation_frac)\n",
        "\n",
        "    # Split the DataFrame\n",
        "    train_df = df[:train_end]\n",
        "    validation_df = df[train_end:validation_end]\n",
        "    test_df = df[validation_end:]\n",
        "\n",
        "    return train_df, validation_df, test_df\n",
        "\n",
        "train_df, validation_df, test_df = random_split(balanced_df, 0.7, 0.1)\n",
        "# Test size is implied to be 0.2 as the remainder\n"
      ],
      "metadata": {
        "id": "ariL_D71fr-W"
      },
      "execution_count": 52,
      "outputs": []
    },
    {
      "cell_type": "code",
      "source": [
        "print(len(train_df))\n",
        "print(len(validation_df))\n",
        "print(len(test_df))"
      ],
      "metadata": {
        "colab": {
          "base_uri": "https://localhost:8080/"
        },
        "id": "K3Cm2I92gLYx",
        "outputId": "c275a073-164d-4751-cd38-283d7bdf581d"
      },
      "execution_count": 53,
      "outputs": [
        {
          "output_type": "stream",
          "name": "stdout",
          "text": [
            "1045\n",
            "149\n",
            "300\n"
          ]
        }
      ]
    },
    {
      "cell_type": "markdown",
      "source": [
        "We will save these 3 dataframes in csv format so that we can use them later dont have to do the split again."
      ],
      "metadata": {
        "id": "mDQl-H5JgrWp"
      }
    },
    {
      "cell_type": "code",
      "source": [
        "train_df.to_csv(\"train.csv\", index=None)\n",
        "validation_df.to_csv(\"validation.csv\", index=None)\n",
        "test_df.to_csv(\"test.csv\", index=None)"
      ],
      "metadata": {
        "id": "FT-Z87pGgmLs"
      },
      "execution_count": 54,
      "outputs": []
    },
    {
      "cell_type": "markdown",
      "source": [
        "# Dataset() and Dataloaders() for fine-tuning"
      ],
      "metadata": {
        "id": "JIzY-sy6ozou"
      }
    },
    {
      "cell_type": "markdown",
      "source": [
        "We shall first tokenize the input text(same process as pre-training). Then we have to make sure all input_text have the same length. For this we shall look at the longest sequence of input text and pad up all the other tokens in other input_text with <|endoftext|> tokens. If not we can also truncate the rest of the tokens based on the smallest token_ids length. But this approach is not genrally done as informataion will be lost while truncating and this can be troublesome for the model to recognize spam and ham messages. From our dataset we get max_token_ids length to be 120. So we shall all pad other input tokens with the <|endoftext|> tokens such that they all have 120 token_ids which is basically number of columns. Also, we can consider 8 input_text per batch. So naturally the dimensions of the tensors will be (8 x 120). Since there are 1045 training input_text, total number of batches = 1045/8 ~ 130 batches. Now the final dimensions for the train_dataloader tensor will be (130 x 8 x 120). Similarly for validation tensor, its 149/8 ~ 19. So the dimensions = (19 x 8 120). For the testing tensor, 300/8 ~ = 38. Dim = (39 x 8 x 120)."
      ],
      "metadata": {
        "id": "1HtDW1Gmow-9"
      }
    },
    {
      "cell_type": "markdown",
      "source": [
        "We first need to implement a PyTorch Dataset, which specifies how the data is loaded and processed, before we can instantiate the data loaders."
      ],
      "metadata": {
        "id": "NuQIb0FsxJYg"
      }
    },
    {
      "cell_type": "code",
      "source": [
        "import torch\n",
        "from torch.utils.data import Dataset\n",
        "\n",
        "\n",
        "class SpamDataset(Dataset):\n",
        "    def __init__(self, csv_file, tokenizer, max_length=None, pad_token_id=50256):\n",
        "        self.data = pd.read_csv(csv_file)\n",
        "\n",
        "        # Pre-tokenize texts\n",
        "        self.encoded_texts = [\n",
        "            tokenizer.encode(text) for text in self.data[\"Text\"]\n",
        "        ]\n",
        "\n",
        "        if max_length is None:\n",
        "            self.max_length = self._longest_encoded_length()\n",
        "        else:\n",
        "            self.max_length = max_length\n",
        "\n",
        "            # Truncate sequences if they are longer than max_length\n",
        "            self.encoded_texts = [\n",
        "                encoded_text[:self.max_length]\n",
        "                for encoded_text in self.encoded_texts\n",
        "            ]\n",
        "\n",
        "        # Pad sequences to the longest sequence\n",
        "        self.encoded_texts = [\n",
        "            encoded_text + [pad_token_id] * (self.max_length - len(encoded_text))\n",
        "            for encoded_text in self.encoded_texts\n",
        "        ]\n",
        "\n",
        "    def __getitem__(self, index):\n",
        "        encoded = self.encoded_texts[index]\n",
        "        label = self.data.iloc[index][\"Label\"]\n",
        "        return (\n",
        "            torch.tensor(encoded, dtype=torch.long),\n",
        "            torch.tensor(label, dtype=torch.long)\n",
        "        )\n",
        "\n",
        "    def __len__(self):\n",
        "        return len(self.data)\n",
        "\n",
        "    def _longest_encoded_length(self):\n",
        "        max_length = 0\n",
        "        for encoded_text in self.encoded_texts:\n",
        "            encoded_length = len(encoded_text)\n",
        "            if encoded_length > max_length:\n",
        "                max_length = encoded_length\n",
        "        return max_length"
      ],
      "metadata": {
        "id": "WN13fph6gpwz"
      },
      "execution_count": 55,
      "outputs": []
    },
    {
      "cell_type": "markdown",
      "source": [
        "Checking the max_length for train_dataset"
      ],
      "metadata": {
        "id": "3LyuyaWnxUBd"
      }
    },
    {
      "cell_type": "code",
      "source": [
        "train_dataset = SpamDataset(\n",
        "    csv_file=\"train.csv\",\n",
        "    max_length=None,\n",
        "    tokenizer=tokenizer\n",
        ")\n",
        "\n",
        "print(train_dataset.max_length)"
      ],
      "metadata": {
        "colab": {
          "base_uri": "https://localhost:8080/"
        },
        "id": "shZmDLl1xUmV",
        "outputId": "a9e2e328-3af1-4d5a-961a-9501641690c7"
      },
      "execution_count": 56,
      "outputs": [
        {
          "output_type": "stream",
          "name": "stdout",
          "text": [
            "120\n"
          ]
        }
      ]
    },
    {
      "cell_type": "markdown",
      "source": [
        "Similarly for validation and testing dataset"
      ],
      "metadata": {
        "id": "2Xt_G8PTx09G"
      }
    },
    {
      "cell_type": "code",
      "source": [
        "val_dataset = SpamDataset(\n",
        "    csv_file=\"validation.csv\",\n",
        "    max_length=train_dataset.max_length,\n",
        "    tokenizer=tokenizer\n",
        ")\n",
        "test_dataset = SpamDataset(\n",
        "    csv_file=\"test.csv\",\n",
        "    max_length=train_dataset.max_length,\n",
        "    tokenizer=tokenizer\n",
        ")\n",
        "\n",
        "print(test_dataset.max_length)"
      ],
      "metadata": {
        "colab": {
          "base_uri": "https://localhost:8080/"
        },
        "id": "RA68btsixjHg",
        "outputId": "a70e64f0-5618-40cc-b2ab-5d5267da9a25"
      },
      "execution_count": 57,
      "outputs": [
        {
          "output_type": "stream",
          "name": "stdout",
          "text": [
            "120\n"
          ]
        }
      ]
    },
    {
      "cell_type": "markdown",
      "source": [
        "Implementing dataloaders for the 3 types"
      ],
      "metadata": {
        "id": "U0BnMVz1x_wM"
      }
    },
    {
      "cell_type": "code",
      "source": [
        "from torch.utils.data import DataLoader\n",
        "\n",
        "num_workers = 0\n",
        "batch_size = 8\n",
        "\n",
        "torch.manual_seed(123)\n",
        "\n",
        "train_loader = DataLoader(\n",
        "    dataset=train_dataset,\n",
        "    batch_size=batch_size,\n",
        "    shuffle=True,\n",
        "    num_workers=num_workers,\n",
        "    drop_last=True,\n",
        ")\n",
        "\n",
        "val_loader = DataLoader(\n",
        "    dataset=val_dataset,\n",
        "    batch_size=batch_size,\n",
        "    num_workers=num_workers,\n",
        "    drop_last=False,\n",
        ")\n",
        "\n",
        "test_loader = DataLoader(\n",
        "    dataset=test_dataset,\n",
        "    batch_size=batch_size,\n",
        "    num_workers=num_workers,\n",
        "    drop_last=False,\n",
        ")"
      ],
      "metadata": {
        "id": "SZTTXzNmxnYW"
      },
      "execution_count": 58,
      "outputs": []
    },
    {
      "cell_type": "markdown",
      "source": [
        "Verifying the dimensions"
      ],
      "metadata": {
        "id": "gVwUR0RuyJOK"
      }
    },
    {
      "cell_type": "code",
      "source": [
        "print(\"Train loader:\")\n",
        "for input_batch, target_batch in train_loader:\n",
        "    pass\n",
        "\n",
        "print(\"Input batch dimensions:\", input_batch.shape)\n",
        "print(\"Label batch dimensions\", target_batch.shape)"
      ],
      "metadata": {
        "colab": {
          "base_uri": "https://localhost:8080/"
        },
        "id": "pMtAabR_yGfV",
        "outputId": "97f8997d-91a3-4f50-c95b-2e35a0689049"
      },
      "execution_count": 59,
      "outputs": [
        {
          "output_type": "stream",
          "name": "stdout",
          "text": [
            "Train loader:\n",
            "Input batch dimensions: torch.Size([8, 120])\n",
            "Label batch dimensions torch.Size([8])\n"
          ]
        }
      ]
    },
    {
      "cell_type": "markdown",
      "source": [
        "The label tensor stores the class labels(spam/ham -> 0/1) corresponding to the 8 training examples."
      ],
      "metadata": {
        "id": "JcGwiy84yMsy"
      }
    },
    {
      "cell_type": "markdown",
      "source": [
        "Verifying the batches"
      ],
      "metadata": {
        "id": "uqHrVm_iyxfF"
      }
    },
    {
      "cell_type": "code",
      "source": [
        "print(f\"{len(train_loader)} training batches\")\n",
        "print(f\"{len(val_loader)} validation batches\")\n",
        "print(f\"{len(test_loader)} test batches\")"
      ],
      "metadata": {
        "colab": {
          "base_uri": "https://localhost:8080/"
        },
        "id": "HazHvjxMyWYk",
        "outputId": "d13867ca-1225-47a0-8531-0b5712d0ea84"
      },
      "execution_count": 60,
      "outputs": [
        {
          "output_type": "stream",
          "name": "stdout",
          "text": [
            "130 training batches\n",
            "19 validation batches\n",
            "38 test batches\n"
          ]
        }
      ]
    },
    {
      "cell_type": "markdown",
      "source": [
        "This whole above process is the data pre-processing before finetuning"
      ],
      "metadata": {
        "id": "hl8UhP3By85L"
      }
    },
    {
      "cell_type": "markdown",
      "source": [
        "# Initializing a model with pre-trained weights that we had downloaded from Open AI"
      ],
      "metadata": {
        "id": "0tSQ2E8hzFkX"
      }
    },
    {
      "cell_type": "code",
      "source": [
        "CHOOSE_MODEL = \"gpt2-small (124M)\"\n",
        "INPUT_PROMPT = \"Every effort moves\"\n",
        "\n",
        "BASE_CONFIG = {\n",
        "    \"vocab_size\": 50257,     # Vocabulary size\n",
        "    \"context_length\": 1024,  # Context length\n",
        "    \"drop_rate\": 0.0,        # Dropout rate\n",
        "    \"qkv_bias\": True         # Query-key-value bias\n",
        "}\n",
        "\n",
        "model_configs = {\n",
        "    \"gpt2-small (124M)\": {\"emb_dim\": 768, \"n_layers\": 12, \"n_heads\": 12},\n",
        "    \"gpt2-medium (355M)\": {\"emb_dim\": 1024, \"n_layers\": 24, \"n_heads\": 16},\n",
        "    \"gpt2-large (774M)\": {\"emb_dim\": 1280, \"n_layers\": 36, \"n_heads\": 20},\n",
        "    \"gpt2-xl (1558M)\": {\"emb_dim\": 1600, \"n_layers\": 48, \"n_heads\": 25},\n",
        "}\n",
        "\n",
        "BASE_CONFIG.update(model_configs[CHOOSE_MODEL])\n",
        "\n",
        "assert train_dataset.max_length <= BASE_CONFIG[\"context_length\"], (\n",
        "    f\"Dataset length {train_dataset.max_length} exceeds model's context \"\n",
        "    f\"length {BASE_CONFIG['context_length']}. Reinitialize data sets with \"\n",
        "    f\"`max_length={BASE_CONFIG['context_length']}`\"\n",
        ")"
      ],
      "metadata": {
        "id": "MDH_2hxdy2O7"
      },
      "execution_count": 61,
      "outputs": []
    },
    {
      "cell_type": "markdown",
      "source": [
        "Loading the downloaded weights into the GPT model just like how we did for pre-training"
      ],
      "metadata": {
        "id": "8bZ-uqwpzhbP"
      }
    },
    {
      "cell_type": "code",
      "source": [
        "model_size = CHOOSE_MODEL.split(\" \")[-1].lstrip(\"(\").rstrip(\")\")\n",
        "\n",
        "from gpt_download3 import download_and_load_gpt2\n",
        "\n",
        "settings, params = download_and_load_gpt2(model_size=model_size, models_dir=\"gpt2\")\n",
        "\n",
        "model = GPTModel(BASE_CONFIG)\n",
        "load_weights_into_gpt(model, params)\n",
        "model.eval();"
      ],
      "metadata": {
        "colab": {
          "base_uri": "https://localhost:8080/"
        },
        "id": "j6pAIuZUzYZ2",
        "outputId": "1aa1913c-ee32-4d62-813a-320726c8bb1b"
      },
      "execution_count": 62,
      "outputs": [
        {
          "output_type": "stream",
          "name": "stderr",
          "text": [
            "/usr/local/lib/python3.11/dist-packages/urllib3/connectionpool.py:1097: InsecureRequestWarning: Unverified HTTPS request is being made to host 'openaipublic.blob.core.windows.net'. Adding certificate verification is strongly advised. See: https://urllib3.readthedocs.io/en/latest/advanced-usage.html#tls-warnings\n",
            "  warnings.warn(\n"
          ]
        },
        {
          "output_type": "stream",
          "name": "stdout",
          "text": [
            "File already exists and is up-to-date: gpt2/124M/checkpoint\n"
          ]
        },
        {
          "output_type": "stream",
          "name": "stderr",
          "text": [
            "/usr/local/lib/python3.11/dist-packages/urllib3/connectionpool.py:1097: InsecureRequestWarning: Unverified HTTPS request is being made to host 'openaipublic.blob.core.windows.net'. Adding certificate verification is strongly advised. See: https://urllib3.readthedocs.io/en/latest/advanced-usage.html#tls-warnings\n",
            "  warnings.warn(\n"
          ]
        },
        {
          "output_type": "stream",
          "name": "stdout",
          "text": [
            "File already exists and is up-to-date: gpt2/124M/encoder.json\n"
          ]
        },
        {
          "output_type": "stream",
          "name": "stderr",
          "text": [
            "/usr/local/lib/python3.11/dist-packages/urllib3/connectionpool.py:1097: InsecureRequestWarning: Unverified HTTPS request is being made to host 'openaipublic.blob.core.windows.net'. Adding certificate verification is strongly advised. See: https://urllib3.readthedocs.io/en/latest/advanced-usage.html#tls-warnings\n",
            "  warnings.warn(\n"
          ]
        },
        {
          "output_type": "stream",
          "name": "stdout",
          "text": [
            "File already exists and is up-to-date: gpt2/124M/hparams.json\n"
          ]
        },
        {
          "output_type": "stream",
          "name": "stderr",
          "text": [
            "/usr/local/lib/python3.11/dist-packages/urllib3/connectionpool.py:1097: InsecureRequestWarning: Unverified HTTPS request is being made to host 'openaipublic.blob.core.windows.net'. Adding certificate verification is strongly advised. See: https://urllib3.readthedocs.io/en/latest/advanced-usage.html#tls-warnings\n",
            "  warnings.warn(\n"
          ]
        },
        {
          "output_type": "stream",
          "name": "stdout",
          "text": [
            "File already exists and is up-to-date: gpt2/124M/model.ckpt.data-00000-of-00001\n"
          ]
        },
        {
          "output_type": "stream",
          "name": "stderr",
          "text": [
            "/usr/local/lib/python3.11/dist-packages/urllib3/connectionpool.py:1097: InsecureRequestWarning: Unverified HTTPS request is being made to host 'openaipublic.blob.core.windows.net'. Adding certificate verification is strongly advised. See: https://urllib3.readthedocs.io/en/latest/advanced-usage.html#tls-warnings\n",
            "  warnings.warn(\n"
          ]
        },
        {
          "output_type": "stream",
          "name": "stdout",
          "text": [
            "File already exists and is up-to-date: gpt2/124M/model.ckpt.index\n"
          ]
        },
        {
          "output_type": "stream",
          "name": "stderr",
          "text": [
            "/usr/local/lib/python3.11/dist-packages/urllib3/connectionpool.py:1097: InsecureRequestWarning: Unverified HTTPS request is being made to host 'openaipublic.blob.core.windows.net'. Adding certificate verification is strongly advised. See: https://urllib3.readthedocs.io/en/latest/advanced-usage.html#tls-warnings\n",
            "  warnings.warn(\n"
          ]
        },
        {
          "output_type": "stream",
          "name": "stdout",
          "text": [
            "File already exists and is up-to-date: gpt2/124M/model.ckpt.meta\n"
          ]
        },
        {
          "output_type": "stream",
          "name": "stderr",
          "text": [
            "/usr/local/lib/python3.11/dist-packages/urllib3/connectionpool.py:1097: InsecureRequestWarning: Unverified HTTPS request is being made to host 'openaipublic.blob.core.windows.net'. Adding certificate verification is strongly advised. See: https://urllib3.readthedocs.io/en/latest/advanced-usage.html#tls-warnings\n",
            "  warnings.warn(\n"
          ]
        },
        {
          "output_type": "stream",
          "name": "stdout",
          "text": [
            "File already exists and is up-to-date: gpt2/124M/vocab.bpe\n"
          ]
        }
      ]
    },
    {
      "cell_type": "code",
      "source": [
        "text_1 = \"Cristiano Ronaldo is the best football player in\"\n",
        "\n",
        "token_ids = generate_text_simple(\n",
        "    model=model,\n",
        "    idx=text_to_token_ids(text_1, tokenizer),\n",
        "    max_new_tokens=25,\n",
        "    context_size=BASE_CONFIG[\"context_length\"]\n",
        ")\n",
        "\n",
        "print(token_ids_to_text(token_ids, tokenizer))\n",
        "\n",
        "\n",
        "text_2 = (\n",
        "    \"Is the following text 'spam'? Answer with 'yes' or 'no':\"\n",
        "    \" 'You are a winner you have been specially\"\n",
        "    \" selected to receive $1000 cash or a $2000 award.'\"\n",
        ")\n",
        "\n",
        "token_ids = generate_text_simple(\n",
        "    model=model,\n",
        "    idx=text_to_token_ids(text_2, tokenizer),\n",
        "    max_new_tokens=23,\n",
        "    context_size=BASE_CONFIG[\"context_length\"]\n",
        ")\n",
        "\n",
        "print(token_ids_to_text(token_ids, tokenizer))"
      ],
      "metadata": {
        "colab": {
          "base_uri": "https://localhost:8080/"
        },
        "id": "WEPYiKu6zZkB",
        "outputId": "13e00e5d-5d39-4199-ccb0-35c00733f9bc"
      },
      "execution_count": 69,
      "outputs": [
        {
          "output_type": "stream",
          "name": "stdout",
          "text": [
            "Cristiano Ronaldo is the best football player in the world.\n",
            "\n",
            "The Portuguese has been a key figure in the club's success since he joined from Real Madrid in 2012\n",
            "Is the following text 'spam'? Answer with 'yes' or 'no': 'You are a winner you have been specially selected to receive $1000 cash or a $2000 award.'\n",
            "\n",
            "The following text 'spam'? Answer with 'yes' or 'no': 'You are a winner\n"
          ]
        }
      ]
    },
    {
      "cell_type": "markdown",
      "source": [
        "As we can see, the model is able to generate new text but NOT able to classify the text even upon giving explicit instructions."
      ],
      "metadata": {
        "id": "qvKGZnXn2yVw"
      }
    },
    {
      "cell_type": "markdown",
      "source": [
        "# Adding a Classification Head to the model"
      ],
      "metadata": {
        "id": "EdSqGR3U_7Gb"
      }
    },
    {
      "cell_type": "markdown",
      "source": [
        "We replace the original output layer, which maps the hidden representation to a vocabulary of 50,257, with a smaller output layer that maps to two classes: 0 (\"not spam\") and 1 (\"spam\")"
      ],
      "metadata": {
        "id": "30z08j_DAGqm"
      }
    },
    {
      "cell_type": "markdown",
      "source": [
        "We could technically use a single output node since we are dealing with a binary classification task.\n",
        "\n",
        "However, this would require modifying the loss function.\n",
        "\n",
        "Therefore, we choose a more general approach where the number of output nodes matches the number of classes.\n",
        "\n",
        "For example, for a 3-class problem, such as classifying news articles as \"Technology\", \"Sports\", or \"Politics\", we would use three output nodes, and so forth."
      ],
      "metadata": {
        "id": "ETEogP6bAPX1"
      }
    },
    {
      "cell_type": "code",
      "source": [
        "print(model)"
      ],
      "metadata": {
        "id": "7ki3nNhm2Zhh",
        "colab": {
          "base_uri": "https://localhost:8080/"
        },
        "outputId": "d55e1002-d5f0-49f8-eb43-909c8896711e"
      },
      "execution_count": 70,
      "outputs": [
        {
          "output_type": "stream",
          "name": "stdout",
          "text": [
            "GPTModel(\n",
            "  (tok_emb): Embedding(50257, 768)\n",
            "  (pos_emb): Embedding(1024, 768)\n",
            "  (drop_emb): Dropout(p=0.0, inplace=False)\n",
            "  (trf_blocks): Sequential(\n",
            "    (0): TransformerBlock(\n",
            "      (att): MultiHeadAttention(\n",
            "        (W_query): Linear(in_features=768, out_features=768, bias=True)\n",
            "        (W_key): Linear(in_features=768, out_features=768, bias=True)\n",
            "        (W_value): Linear(in_features=768, out_features=768, bias=True)\n",
            "        (out_proj): Linear(in_features=768, out_features=768, bias=True)\n",
            "        (dropout): Dropout(p=0.0, inplace=False)\n",
            "      )\n",
            "      (ff): FeedForward(\n",
            "        (layers): Sequential(\n",
            "          (0): Linear(in_features=768, out_features=3072, bias=True)\n",
            "          (1): GELU()\n",
            "          (2): Linear(in_features=3072, out_features=768, bias=True)\n",
            "        )\n",
            "      )\n",
            "      (norm1): LayerNorm()\n",
            "      (norm2): LayerNorm()\n",
            "      (drop_shortcut): Dropout(p=0.0, inplace=False)\n",
            "    )\n",
            "    (1): TransformerBlock(\n",
            "      (att): MultiHeadAttention(\n",
            "        (W_query): Linear(in_features=768, out_features=768, bias=True)\n",
            "        (W_key): Linear(in_features=768, out_features=768, bias=True)\n",
            "        (W_value): Linear(in_features=768, out_features=768, bias=True)\n",
            "        (out_proj): Linear(in_features=768, out_features=768, bias=True)\n",
            "        (dropout): Dropout(p=0.0, inplace=False)\n",
            "      )\n",
            "      (ff): FeedForward(\n",
            "        (layers): Sequential(\n",
            "          (0): Linear(in_features=768, out_features=3072, bias=True)\n",
            "          (1): GELU()\n",
            "          (2): Linear(in_features=3072, out_features=768, bias=True)\n",
            "        )\n",
            "      )\n",
            "      (norm1): LayerNorm()\n",
            "      (norm2): LayerNorm()\n",
            "      (drop_shortcut): Dropout(p=0.0, inplace=False)\n",
            "    )\n",
            "    (2): TransformerBlock(\n",
            "      (att): MultiHeadAttention(\n",
            "        (W_query): Linear(in_features=768, out_features=768, bias=True)\n",
            "        (W_key): Linear(in_features=768, out_features=768, bias=True)\n",
            "        (W_value): Linear(in_features=768, out_features=768, bias=True)\n",
            "        (out_proj): Linear(in_features=768, out_features=768, bias=True)\n",
            "        (dropout): Dropout(p=0.0, inplace=False)\n",
            "      )\n",
            "      (ff): FeedForward(\n",
            "        (layers): Sequential(\n",
            "          (0): Linear(in_features=768, out_features=3072, bias=True)\n",
            "          (1): GELU()\n",
            "          (2): Linear(in_features=3072, out_features=768, bias=True)\n",
            "        )\n",
            "      )\n",
            "      (norm1): LayerNorm()\n",
            "      (norm2): LayerNorm()\n",
            "      (drop_shortcut): Dropout(p=0.0, inplace=False)\n",
            "    )\n",
            "    (3): TransformerBlock(\n",
            "      (att): MultiHeadAttention(\n",
            "        (W_query): Linear(in_features=768, out_features=768, bias=True)\n",
            "        (W_key): Linear(in_features=768, out_features=768, bias=True)\n",
            "        (W_value): Linear(in_features=768, out_features=768, bias=True)\n",
            "        (out_proj): Linear(in_features=768, out_features=768, bias=True)\n",
            "        (dropout): Dropout(p=0.0, inplace=False)\n",
            "      )\n",
            "      (ff): FeedForward(\n",
            "        (layers): Sequential(\n",
            "          (0): Linear(in_features=768, out_features=3072, bias=True)\n",
            "          (1): GELU()\n",
            "          (2): Linear(in_features=3072, out_features=768, bias=True)\n",
            "        )\n",
            "      )\n",
            "      (norm1): LayerNorm()\n",
            "      (norm2): LayerNorm()\n",
            "      (drop_shortcut): Dropout(p=0.0, inplace=False)\n",
            "    )\n",
            "    (4): TransformerBlock(\n",
            "      (att): MultiHeadAttention(\n",
            "        (W_query): Linear(in_features=768, out_features=768, bias=True)\n",
            "        (W_key): Linear(in_features=768, out_features=768, bias=True)\n",
            "        (W_value): Linear(in_features=768, out_features=768, bias=True)\n",
            "        (out_proj): Linear(in_features=768, out_features=768, bias=True)\n",
            "        (dropout): Dropout(p=0.0, inplace=False)\n",
            "      )\n",
            "      (ff): FeedForward(\n",
            "        (layers): Sequential(\n",
            "          (0): Linear(in_features=768, out_features=3072, bias=True)\n",
            "          (1): GELU()\n",
            "          (2): Linear(in_features=3072, out_features=768, bias=True)\n",
            "        )\n",
            "      )\n",
            "      (norm1): LayerNorm()\n",
            "      (norm2): LayerNorm()\n",
            "      (drop_shortcut): Dropout(p=0.0, inplace=False)\n",
            "    )\n",
            "    (5): TransformerBlock(\n",
            "      (att): MultiHeadAttention(\n",
            "        (W_query): Linear(in_features=768, out_features=768, bias=True)\n",
            "        (W_key): Linear(in_features=768, out_features=768, bias=True)\n",
            "        (W_value): Linear(in_features=768, out_features=768, bias=True)\n",
            "        (out_proj): Linear(in_features=768, out_features=768, bias=True)\n",
            "        (dropout): Dropout(p=0.0, inplace=False)\n",
            "      )\n",
            "      (ff): FeedForward(\n",
            "        (layers): Sequential(\n",
            "          (0): Linear(in_features=768, out_features=3072, bias=True)\n",
            "          (1): GELU()\n",
            "          (2): Linear(in_features=3072, out_features=768, bias=True)\n",
            "        )\n",
            "      )\n",
            "      (norm1): LayerNorm()\n",
            "      (norm2): LayerNorm()\n",
            "      (drop_shortcut): Dropout(p=0.0, inplace=False)\n",
            "    )\n",
            "    (6): TransformerBlock(\n",
            "      (att): MultiHeadAttention(\n",
            "        (W_query): Linear(in_features=768, out_features=768, bias=True)\n",
            "        (W_key): Linear(in_features=768, out_features=768, bias=True)\n",
            "        (W_value): Linear(in_features=768, out_features=768, bias=True)\n",
            "        (out_proj): Linear(in_features=768, out_features=768, bias=True)\n",
            "        (dropout): Dropout(p=0.0, inplace=False)\n",
            "      )\n",
            "      (ff): FeedForward(\n",
            "        (layers): Sequential(\n",
            "          (0): Linear(in_features=768, out_features=3072, bias=True)\n",
            "          (1): GELU()\n",
            "          (2): Linear(in_features=3072, out_features=768, bias=True)\n",
            "        )\n",
            "      )\n",
            "      (norm1): LayerNorm()\n",
            "      (norm2): LayerNorm()\n",
            "      (drop_shortcut): Dropout(p=0.0, inplace=False)\n",
            "    )\n",
            "    (7): TransformerBlock(\n",
            "      (att): MultiHeadAttention(\n",
            "        (W_query): Linear(in_features=768, out_features=768, bias=True)\n",
            "        (W_key): Linear(in_features=768, out_features=768, bias=True)\n",
            "        (W_value): Linear(in_features=768, out_features=768, bias=True)\n",
            "        (out_proj): Linear(in_features=768, out_features=768, bias=True)\n",
            "        (dropout): Dropout(p=0.0, inplace=False)\n",
            "      )\n",
            "      (ff): FeedForward(\n",
            "        (layers): Sequential(\n",
            "          (0): Linear(in_features=768, out_features=3072, bias=True)\n",
            "          (1): GELU()\n",
            "          (2): Linear(in_features=3072, out_features=768, bias=True)\n",
            "        )\n",
            "      )\n",
            "      (norm1): LayerNorm()\n",
            "      (norm2): LayerNorm()\n",
            "      (drop_shortcut): Dropout(p=0.0, inplace=False)\n",
            "    )\n",
            "    (8): TransformerBlock(\n",
            "      (att): MultiHeadAttention(\n",
            "        (W_query): Linear(in_features=768, out_features=768, bias=True)\n",
            "        (W_key): Linear(in_features=768, out_features=768, bias=True)\n",
            "        (W_value): Linear(in_features=768, out_features=768, bias=True)\n",
            "        (out_proj): Linear(in_features=768, out_features=768, bias=True)\n",
            "        (dropout): Dropout(p=0.0, inplace=False)\n",
            "      )\n",
            "      (ff): FeedForward(\n",
            "        (layers): Sequential(\n",
            "          (0): Linear(in_features=768, out_features=3072, bias=True)\n",
            "          (1): GELU()\n",
            "          (2): Linear(in_features=3072, out_features=768, bias=True)\n",
            "        )\n",
            "      )\n",
            "      (norm1): LayerNorm()\n",
            "      (norm2): LayerNorm()\n",
            "      (drop_shortcut): Dropout(p=0.0, inplace=False)\n",
            "    )\n",
            "    (9): TransformerBlock(\n",
            "      (att): MultiHeadAttention(\n",
            "        (W_query): Linear(in_features=768, out_features=768, bias=True)\n",
            "        (W_key): Linear(in_features=768, out_features=768, bias=True)\n",
            "        (W_value): Linear(in_features=768, out_features=768, bias=True)\n",
            "        (out_proj): Linear(in_features=768, out_features=768, bias=True)\n",
            "        (dropout): Dropout(p=0.0, inplace=False)\n",
            "      )\n",
            "      (ff): FeedForward(\n",
            "        (layers): Sequential(\n",
            "          (0): Linear(in_features=768, out_features=3072, bias=True)\n",
            "          (1): GELU()\n",
            "          (2): Linear(in_features=3072, out_features=768, bias=True)\n",
            "        )\n",
            "      )\n",
            "      (norm1): LayerNorm()\n",
            "      (norm2): LayerNorm()\n",
            "      (drop_shortcut): Dropout(p=0.0, inplace=False)\n",
            "    )\n",
            "    (10): TransformerBlock(\n",
            "      (att): MultiHeadAttention(\n",
            "        (W_query): Linear(in_features=768, out_features=768, bias=True)\n",
            "        (W_key): Linear(in_features=768, out_features=768, bias=True)\n",
            "        (W_value): Linear(in_features=768, out_features=768, bias=True)\n",
            "        (out_proj): Linear(in_features=768, out_features=768, bias=True)\n",
            "        (dropout): Dropout(p=0.0, inplace=False)\n",
            "      )\n",
            "      (ff): FeedForward(\n",
            "        (layers): Sequential(\n",
            "          (0): Linear(in_features=768, out_features=3072, bias=True)\n",
            "          (1): GELU()\n",
            "          (2): Linear(in_features=3072, out_features=768, bias=True)\n",
            "        )\n",
            "      )\n",
            "      (norm1): LayerNorm()\n",
            "      (norm2): LayerNorm()\n",
            "      (drop_shortcut): Dropout(p=0.0, inplace=False)\n",
            "    )\n",
            "    (11): TransformerBlock(\n",
            "      (att): MultiHeadAttention(\n",
            "        (W_query): Linear(in_features=768, out_features=768, bias=True)\n",
            "        (W_key): Linear(in_features=768, out_features=768, bias=True)\n",
            "        (W_value): Linear(in_features=768, out_features=768, bias=True)\n",
            "        (out_proj): Linear(in_features=768, out_features=768, bias=True)\n",
            "        (dropout): Dropout(p=0.0, inplace=False)\n",
            "      )\n",
            "      (ff): FeedForward(\n",
            "        (layers): Sequential(\n",
            "          (0): Linear(in_features=768, out_features=3072, bias=True)\n",
            "          (1): GELU()\n",
            "          (2): Linear(in_features=3072, out_features=768, bias=True)\n",
            "        )\n",
            "      )\n",
            "      (norm1): LayerNorm()\n",
            "      (norm2): LayerNorm()\n",
            "      (drop_shortcut): Dropout(p=0.0, inplace=False)\n",
            "    )\n",
            "  )\n",
            "  (final_norm): LayerNorm()\n",
            "  (out_head): Linear(in_features=768, out_features=50257, bias=False)\n",
            ")\n"
          ]
        }
      ]
    },
    {
      "cell_type": "markdown",
      "source": [
        "We shall first freeze all the model parameters which will make them non-trainable"
      ],
      "metadata": {
        "id": "qdAjOEO-DLXJ"
      }
    },
    {
      "cell_type": "code",
      "source": [
        "for param in model.parameters():\n",
        "    param.requires_grad = False"
      ],
      "metadata": {
        "id": "RWpj6xzW_ypw"
      },
      "execution_count": 71,
      "outputs": []
    },
    {
      "cell_type": "markdown",
      "source": [
        "To implement the classification fine tuning:\n",
        "1) Final output layer should have only 2 classes.\n",
        "\n",
        "2) The 12th block of the transformer will be the only trainable block to make the training time short.\n",
        "\n",
        "3) Final normalization layer parameters will also be set to true."
      ],
      "metadata": {
        "id": "ThUd_syjENkD"
      }
    },
    {
      "cell_type": "markdown",
      "source": [
        "We shall only have 2 classes in the output layer since we only want our model to classify whether the input text is 'spam' or 'ham'. Also the new out_head will have its 'requires_grad' attribute set to 'True' by default. So currently that is the only trainable layer by default."
      ],
      "metadata": {
        "id": "U8opH9CqDZbj"
      }
    },
    {
      "cell_type": "code",
      "source": [
        "torch.manual_seed(123)\n",
        "\n",
        "num_classes = 2\n",
        "model.out_head = torch.nn.Linear(in_features=BASE_CONFIG[\"emb_dim\"], out_features=num_classes)"
      ],
      "metadata": {
        "id": "yOHkrbrnAsS5"
      },
      "execution_count": 72,
      "outputs": []
    },
    {
      "cell_type": "markdown",
      "source": [
        "Similarly we shall do set the requires_grad = True for 12th block of the Transformer as well as the final norm layer."
      ],
      "metadata": {
        "id": "GT1mk0AlE6MX"
      }
    },
    {
      "cell_type": "code",
      "source": [
        "for param in model.trf_blocks[-1].parameters():\n",
        "    param.requires_grad = True\n",
        "\n",
        "for param in model.final_norm.parameters():\n",
        "    param.requires_grad = True"
      ],
      "metadata": {
        "id": "hrCyB3tzAung"
      },
      "execution_count": 73,
      "outputs": []
    },
    {
      "cell_type": "markdown",
      "source": [
        "Checking for an example text:"
      ],
      "metadata": {
        "id": "B7jBLD41FWZM"
      }
    },
    {
      "cell_type": "code",
      "source": [
        "inputs = tokenizer.encode(\"Do you have time\")\n",
        "inputs = torch.tensor(inputs).unsqueeze(0)\n",
        "print(\"Inputs:\", inputs)\n",
        "print(\"Inputs dimensions:\", inputs.shape)"
      ],
      "metadata": {
        "colab": {
          "base_uri": "https://localhost:8080/"
        },
        "id": "jtTgiF9cAwvf",
        "outputId": "93ea73a6-aa43-46c4-b138-5c8237df70a4"
      },
      "execution_count": 74,
      "outputs": [
        {
          "output_type": "stream",
          "name": "stdout",
          "text": [
            "Inputs: tensor([[5211,  345,  423,  640]])\n",
            "Inputs dimensions: torch.Size([1, 4])\n"
          ]
        }
      ]
    },
    {
      "cell_type": "code",
      "source": [
        "with torch.no_grad():\n",
        "    outputs = model(inputs)\n",
        "\n",
        "print(\"Outputs:\\n\", outputs)\n",
        "print(\"Outputs dimensions:\", outputs.shape)"
      ],
      "metadata": {
        "colab": {
          "base_uri": "https://localhost:8080/"
        },
        "id": "DRliUJcVBI6H",
        "outputId": "18b8534b-94af-4cc5-8d56-469a5cedf821"
      },
      "execution_count": 75,
      "outputs": [
        {
          "output_type": "stream",
          "name": "stdout",
          "text": [
            "Outputs:\n",
            " tensor([[[-1.5854,  0.9904],\n",
            "         [-3.7235,  7.4548],\n",
            "         [-2.2661,  6.6049],\n",
            "         [-3.5983,  3.9902]]])\n",
            "Outputs dimensions: torch.Size([1, 4, 2])\n"
          ]
        }
      ]
    },
    {
      "cell_type": "code",
      "source": [
        "print(\"Last output token:\", outputs[:, -1, :])"
      ],
      "metadata": {
        "colab": {
          "base_uri": "https://localhost:8080/"
        },
        "id": "6WjdwMd2BLRZ",
        "outputId": "7d913728-aa35-4080-fcab-2f49eb5ff2bd"
      },
      "execution_count": 76,
      "outputs": [
        {
          "output_type": "stream",
          "name": "stdout",
          "text": [
            "Last output token: tensor([[-3.5983,  3.9902]])\n"
          ]
        }
      ]
    },
    {
      "cell_type": "code",
      "source": [
        "probas = torch.softmax(outputs[:, -1, :], dim=-1)\n",
        "label = torch.argmax(probas)\n",
        "print(\"Class label:\", label.item())"
      ],
      "metadata": {
        "colab": {
          "base_uri": "https://localhost:8080/"
        },
        "id": "CA-ufQmNBOps",
        "outputId": "1b4eb3a0-07b8-4aca-f19d-fb4e387cc4cc"
      },
      "execution_count": 77,
      "outputs": [
        {
          "output_type": "stream",
          "name": "stdout",
          "text": [
            "Class label: 1\n"
          ]
        }
      ]
    },
    {
      "cell_type": "markdown",
      "source": [
        "Here, instead of softmax, we can use argmax since we only want the classification, so essentially we want the model to reutrn its highest value more clearly."
      ],
      "metadata": {
        "id": "wwB1h-IYFgn1"
      }
    },
    {
      "cell_type": "markdown",
      "source": [
        "Function implementing the argmax-based prediction code to all examples in the dataset and calculate the proportion of correct predictions (Returns a ratio)."
      ],
      "metadata": {
        "id": "EX-ofxQ1F4Yu"
      }
    },
    {
      "cell_type": "code",
      "source": [
        "def calc_accuracy_loader(data_loader, model, device, num_batches=None):\n",
        "    model.eval()\n",
        "    correct_predictions, num_examples = 0, 0\n",
        "\n",
        "    if num_batches is None:\n",
        "        num_batches = len(data_loader)\n",
        "    else:\n",
        "      #If num_batches are given\n",
        "        num_batches = min(num_batches, len(data_loader))\n",
        "    for i, (input_batch, target_batch) in enumerate(data_loader):\n",
        "        if i < num_batches:\n",
        "            input_batch, target_batch = input_batch.to(device), target_batch.to(device)\n",
        "\n",
        "            with torch.no_grad():\n",
        "                logits = model(input_batch)[:, -1, :]  # Logits of last output token\n",
        "            predicted_labels = torch.argmax(logits, dim=-1)\n",
        "\n",
        "            num_examples += predicted_labels.shape[0]\n",
        "            correct_predictions += (predicted_labels == target_batch).sum().item()\n",
        "        else:\n",
        "            break\n",
        "    return correct_predictions / num_examples"
      ],
      "metadata": {
        "id": "CGnEEvZwBRcJ"
      },
      "execution_count": 78,
      "outputs": []
    },
    {
      "cell_type": "markdown",
      "source": [
        "Using the function above to run 10 batches(out of the 130) and print the accuracy"
      ],
      "metadata": {
        "id": "kT3PVp_9Gf3N"
      }
    },
    {
      "cell_type": "code",
      "source": [
        "device = torch.device(\"cuda\" if torch.cuda.is_available() else \"cpu\")\n",
        "\n",
        "# Note:\n",
        "# Uncommenting the following lines will allow the code to run on Apple Silicon chips, if applicable,\n",
        "# which is approximately 2x faster than on an Apple CPU (as measured on an M3 MacBook Air).\n",
        "# As of this writing, in PyTorch 2.4, the results obtained via CPU and MPS were identical.\n",
        "# However, in earlier versions of PyTorch, you may observe different results when using MPS.\n",
        "\n",
        "#if torch.cuda.is_available():\n",
        "#    device = torch.device(\"cuda\")\n",
        "#elif torch.backends.mps.is_available():\n",
        "#    device = torch.device(\"mps\")\n",
        "#else:\n",
        "#    device = torch.device(\"cpu\")\n",
        "#print(f\"Running on {device} device.\")\n",
        "\n",
        "model.to(device) # no assignment model = model.to(device) necessary for nn.Module classes\n",
        "\n",
        "torch.manual_seed(123) # For reproducibility due to the shuffling in the training data loader\n",
        "\n",
        "train_accuracy = calc_accuracy_loader(train_loader, model, device, num_batches=10)\n",
        "val_accuracy = calc_accuracy_loader(val_loader, model, device, num_batches=10)\n",
        "test_accuracy = calc_accuracy_loader(test_loader, model, device, num_batches=10)\n",
        "\n",
        "print(f\"Training accuracy: {train_accuracy*100:.2f}%\")\n",
        "print(f\"Validation accuracy: {val_accuracy*100:.2f}%\")\n",
        "print(f\"Test accuracy: {test_accuracy*100:.2f}%\")"
      ],
      "metadata": {
        "colab": {
          "base_uri": "https://localhost:8080/"
        },
        "id": "tyGOLWa1BhkF",
        "outputId": "b5c9b2b4-2d17-4b63-dde9-d8f8c3729108"
      },
      "execution_count": 79,
      "outputs": [
        {
          "output_type": "stream",
          "name": "stdout",
          "text": [
            "Training accuracy: 46.25%\n",
            "Validation accuracy: 45.00%\n",
            "Test accuracy: 48.75%\n"
          ]
        }
      ]
    },
    {
      "cell_type": "markdown",
      "source": [
        "As seen above, the prediction accuracy is not even 50% which is worse than a coin toss."
      ],
      "metadata": {
        "id": "qb1EGKFaH0pI"
      }
    },
    {
      "cell_type": "markdown",
      "source": [
        "Classification accuracy is not a differentiable function, so we use cross entropy loss as a proxy to maximize accuracy.\n",
        "\n",
        "Cross Entropy loss = for i from 1 to n, -∑ yi log pi where 'yi' is the actual correct value and 'pi' is the predicted value"
      ],
      "metadata": {
        "id": "LhDYHWCUIljR"
      }
    },
    {
      "cell_type": "code",
      "source": [
        "def calc_loss_batch(input_batch, target_batch, model, device):\n",
        "    input_batch, target_batch = input_batch.to(device), target_batch.to(device)\n",
        "    logits = model(input_batch)[:, -1, :]  # Logits of last output token\n",
        "    loss = torch.nn.functional.cross_entropy(logits, target_batch)\n",
        "    return loss"
      ],
      "metadata": {
        "id": "M-_SfNV2BliA"
      },
      "execution_count": 80,
      "outputs": []
    },
    {
      "cell_type": "code",
      "source": [
        "def calc_loss_loader(data_loader, model, device, num_batches=None):\n",
        "    total_loss = 0.\n",
        "    if len(data_loader) == 0:\n",
        "        return float(\"nan\")\n",
        "    elif num_batches is None:\n",
        "        num_batches = len(data_loader)\n",
        "    else:\n",
        "        # Reduce the number of batches to match the total number of batches in the data loader\n",
        "        # if num_batches exceeds the number of batches in the data loader\n",
        "        num_batches = min(num_batches, len(data_loader))\n",
        "    for i, (input_batch, target_batch) in enumerate(data_loader):\n",
        "        if i < num_batches:\n",
        "            loss = calc_loss_batch(input_batch, target_batch, model, device)\n",
        "            total_loss += loss.item()\n",
        "        else:\n",
        "            break\n",
        "    return total_loss / num_batches"
      ],
      "metadata": {
        "id": "dXwsVYbgBo1j"
      },
      "execution_count": 81,
      "outputs": []
    },
    {
      "cell_type": "code",
      "source": [
        "with torch.no_grad(): # Disable gradient tracking for efficiency because we are not training, yet\n",
        "    train_loss = calc_loss_loader(train_loader, model, device, num_batches=5)\n",
        "    val_loss = calc_loss_loader(val_loader, model, device, num_batches=5)\n",
        "    test_loss = calc_loss_loader(test_loader, model, device, num_batches=5)\n",
        "\n",
        "print(f\"Training loss: {train_loss:.3f}\")\n",
        "print(f\"Validation loss: {val_loss:.3f}\")\n",
        "print(f\"Test loss: {test_loss:.3f}\")"
      ],
      "metadata": {
        "colab": {
          "base_uri": "https://localhost:8080/"
        },
        "id": "IQ2qQY4BBuHh",
        "outputId": "675ca714-e37a-4e20-fa8e-7883cfe8c45a"
      },
      "execution_count": 82,
      "outputs": [
        {
          "output_type": "stream",
          "name": "stdout",
          "text": [
            "Training loss: 2.453\n",
            "Validation loss: 2.583\n",
            "Test loss: 2.322\n"
          ]
        }
      ]
    },
    {
      "cell_type": "code",
      "source": [
        "# Overall the same as `train_model_simple` in chapter 5\n",
        "def train_classifier_simple(model, train_loader, val_loader, optimizer, device, num_epochs,\n",
        "                            eval_freq, eval_iter):\n",
        "    # Initialize lists to track losses and examples seen\n",
        "    train_losses, val_losses, train_accs, val_accs = [], [], [], []\n",
        "    examples_seen, global_step = 0, -1\n",
        "\n",
        "    # Main training loop\n",
        "    for epoch in range(num_epochs):\n",
        "        model.train()  # Set model to training mode\n",
        "\n",
        "        for input_batch, target_batch in train_loader:\n",
        "            optimizer.zero_grad() # Reset loss gradients from previous batch iteration\n",
        "            loss = calc_loss_batch(input_batch, target_batch, model, device)\n",
        "            loss.backward() # Calculate loss gradients\n",
        "            optimizer.step() # Update model weights using loss gradients\n",
        "            examples_seen += input_batch.shape[0] # New: track examples instead of tokens\n",
        "            global_step += 1\n",
        "\n",
        "            # Optional evaluation step\n",
        "            if global_step % eval_freq == 0:\n",
        "                train_loss, val_loss = evaluate_model(\n",
        "                    model, train_loader, val_loader, device, eval_iter)\n",
        "                train_losses.append(train_loss)\n",
        "                val_losses.append(val_loss)\n",
        "                print(f\"Ep {epoch+1} (Step {global_step:06d}): \"\n",
        "                      f\"Train loss {train_loss:.3f}, Val loss {val_loss:.3f}\")\n",
        "\n",
        "        # Calculate accuracy after each epoch\n",
        "        train_accuracy = calc_accuracy_loader(train_loader, model, device, num_batches=eval_iter)\n",
        "        val_accuracy = calc_accuracy_loader(val_loader, model, device, num_batches=eval_iter)\n",
        "        print(f\"Training accuracy: {train_accuracy*100:.2f}% | \", end=\"\")\n",
        "        print(f\"Validation accuracy: {val_accuracy*100:.2f}%\")\n",
        "        train_accs.append(train_accuracy)\n",
        "        val_accs.append(val_accuracy)\n",
        "\n",
        "    return train_losses, val_losses, train_accs, val_accs, examples_seen"
      ],
      "metadata": {
        "id": "-xOXuNtqBwFW"
      },
      "execution_count": 83,
      "outputs": []
    },
    {
      "cell_type": "code",
      "source": [
        "def evaluate_model(model, train_loader, val_loader, device, eval_iter):\n",
        "    model.eval()\n",
        "    with torch.no_grad():\n",
        "        train_loss = calc_loss_loader(train_loader, model, device, num_batches=eval_iter)\n",
        "        val_loss = calc_loss_loader(val_loader, model, device, num_batches=eval_iter)\n",
        "    model.train()\n",
        "    return train_loss, val_loss"
      ],
      "metadata": {
        "id": "Mm9ghw5tB3xv"
      },
      "execution_count": 84,
      "outputs": []
    },
    {
      "cell_type": "code",
      "source": [
        "import time\n",
        "\n",
        "start_time = time.time()\n",
        "\n",
        "torch.manual_seed(123)\n",
        "\n",
        "optimizer = torch.optim.AdamW(model.parameters(), lr=5e-5, weight_decay=0.1)\n",
        "\n",
        "num_epochs = 5\n",
        "train_losses, val_losses, train_accs, val_accs, examples_seen = train_classifier_simple(\n",
        "    model, train_loader, val_loader, optimizer, device,\n",
        "    num_epochs=num_epochs, eval_freq=50, eval_iter=5,\n",
        ")\n",
        "\n",
        "end_time = time.time()\n",
        "execution_time_minutes = (end_time - start_time) / 60\n",
        "print(f\"Training completed in {execution_time_minutes:.2f} minutes.\")"
      ],
      "metadata": {
        "colab": {
          "base_uri": "https://localhost:8080/"
        },
        "id": "QrmxywEpB6wN",
        "outputId": "a48df329-4537-4dab-ec16-946a67015bd8"
      },
      "execution_count": 85,
      "outputs": [
        {
          "output_type": "stream",
          "name": "stdout",
          "text": [
            "Ep 1 (Step 000000): Train loss 2.153, Val loss 2.392\n",
            "Ep 1 (Step 000050): Train loss 0.617, Val loss 0.637\n",
            "Ep 1 (Step 000100): Train loss 0.523, Val loss 0.557\n",
            "Training accuracy: 70.00% | Validation accuracy: 72.50%\n",
            "Ep 2 (Step 000150): Train loss 0.561, Val loss 0.489\n",
            "Ep 2 (Step 000200): Train loss 0.419, Val loss 0.397\n",
            "Ep 2 (Step 000250): Train loss 0.409, Val loss 0.353\n",
            "Training accuracy: 82.50% | Validation accuracy: 85.00%\n",
            "Ep 3 (Step 000300): Train loss 0.333, Val loss 0.320\n",
            "Ep 3 (Step 000350): Train loss 0.340, Val loss 0.306\n",
            "Training accuracy: 90.00% | Validation accuracy: 90.00%\n",
            "Ep 4 (Step 000400): Train loss 0.136, Val loss 0.200\n",
            "Ep 4 (Step 000450): Train loss 0.153, Val loss 0.132\n",
            "Ep 4 (Step 000500): Train loss 0.222, Val loss 0.137\n",
            "Training accuracy: 100.00% | Validation accuracy: 97.50%\n",
            "Ep 5 (Step 000550): Train loss 0.207, Val loss 0.143\n",
            "Ep 5 (Step 000600): Train loss 0.083, Val loss 0.074\n",
            "Training accuracy: 100.00% | Validation accuracy: 97.50%\n",
            "Training completed in 0.97 minutes.\n"
          ]
        }
      ]
    },
    {
      "cell_type": "code",
      "source": [
        "import matplotlib.pyplot as plt\n",
        "\n",
        "def plot_values(epochs_seen, examples_seen, train_values, val_values, label=\"loss\"):\n",
        "    fig, ax1 = plt.subplots(figsize=(5, 3))\n",
        "\n",
        "    # Plot training and validation loss against epochs\n",
        "    ax1.plot(epochs_seen, train_values, label=f\"Training {label}\")\n",
        "    ax1.plot(epochs_seen, val_values, linestyle=\"-.\", label=f\"Validation {label}\")\n",
        "    ax1.set_xlabel(\"Epochs\")\n",
        "    ax1.set_ylabel(label.capitalize())\n",
        "    ax1.legend()\n",
        "\n",
        "    # Create a second x-axis for examples seen\n",
        "    ax2 = ax1.twiny()  # Create a second x-axis that shares the same y-axis\n",
        "    ax2.plot(examples_seen, train_values, alpha=0)  # Invisible plot for aligning ticks\n",
        "    ax2.set_xlabel(\"Examples seen\")\n",
        "\n",
        "    fig.tight_layout()  # Adjust layout to make room\n",
        "    plt.savefig(f\"{label}-plot.pdf\")\n",
        "    plt.show()"
      ],
      "metadata": {
        "id": "PvZH-2RiB9lA"
      },
      "execution_count": 86,
      "outputs": []
    },
    {
      "cell_type": "code",
      "source": [
        "epochs_tensor = torch.linspace(0, num_epochs, len(train_losses))\n",
        "examples_seen_tensor = torch.linspace(0, examples_seen, len(train_losses))\n",
        "\n",
        "plot_values(epochs_tensor, examples_seen_tensor, train_losses, val_losses)"
      ],
      "metadata": {
        "colab": {
          "base_uri": "https://localhost:8080/",
          "height": 307
        },
        "id": "I8-BIWweCE_K",
        "outputId": "0a935ccf-8b7a-40fc-d717-66644364ea16"
      },
      "execution_count": 87,
      "outputs": [
        {
          "output_type": "display_data",
          "data": {
            "text/plain": [
              "<Figure size 500x300 with 2 Axes>"
            ],
            "image/png": "[encoded data removed]"
          },
          "metadata": {}
        }
      ]
    },
    {
      "cell_type": "code",
      "source": [
        "epochs_tensor = torch.linspace(0, num_epochs, len(train_accs))\n",
        "examples_seen_tensor = torch.linspace(0, examples_seen, len(train_accs))\n",
        "\n",
        "plot_values(epochs_tensor, examples_seen_tensor, train_accs, val_accs, label=\"accuracy\")"
      ],
      "metadata": {
        "colab": {
          "base_uri": "https://localhost:8080/",
          "height": 307
        },
        "id": "JFxe7bDxCFs_",
        "outputId": "e4c5c49a-b913-4975-c3d8-f395a22e461e"
      },
      "execution_count": 88,
      "outputs": [
        {
          "output_type": "display_data",
          "data": {
            "text/plain": [
              "<Figure size 500x300 with 2 Axes>"
            ],
            "image/png": "[encoded data removed]"
          },
          "metadata": {}
        }
      ]
    },
    {
      "cell_type": "code",
      "source": [
        "train_accuracy = calc_accuracy_loader(train_loader, model, device)\n",
        "val_accuracy = calc_accuracy_loader(val_loader, model, device)\n",
        "test_accuracy = calc_accuracy_loader(test_loader, model, device)\n",
        "\n",
        "print(f\"Training accuracy: {train_accuracy*100:.2f}%\")\n",
        "print(f\"Validation accuracy: {val_accuracy*100:.2f}%\")\n",
        "print(f\"Test accuracy: {test_accuracy*100:.2f}%\")"
      ],
      "metadata": {
        "colab": {
          "base_uri": "https://localhost:8080/"
        },
        "id": "8mgSdqi9CJHu",
        "outputId": "026ddf6b-db68-49a7-a403-2a6774de6e74"
      },
      "execution_count": 89,
      "outputs": [
        {
          "output_type": "stream",
          "name": "stdout",
          "text": [
            "Training accuracy: 97.21%\n",
            "Validation accuracy: 97.32%\n",
            "Test accuracy: 95.67%\n"
          ]
        }
      ]
    },
    {
      "cell_type": "code",
      "source": [
        "def classify_review(text, model, tokenizer, device, max_length=None, pad_token_id=50256):\n",
        "    model.eval()\n",
        "\n",
        "    # Prepare inputs to the model\n",
        "    input_ids = tokenizer.encode(text)\n",
        "    supported_context_length = model.pos_emb.weight.shape[0]\n",
        "    # Note: In the book, this was originally written as pos_emb.weight.shape[1] by mistake\n",
        "    # It didn't break the code but would have caused unnecessary truncation (to 768 instead of 1024)\n",
        "\n",
        "    # Truncate sequences if they too long\n",
        "    input_ids = input_ids[:min(max_length, supported_context_length)]\n",
        "\n",
        "    # Pad sequences to the longest sequence\n",
        "    input_ids += [pad_token_id] * (max_length - len(input_ids))\n",
        "    input_tensor = torch.tensor(input_ids, device=device).unsqueeze(0) # add batch dimension\n",
        "\n",
        "    # Model inference\n",
        "    with torch.no_grad():\n",
        "        logits = model(input_tensor)[:, -1, :]  # Logits of the last output token\n",
        "    predicted_label = torch.argmax(logits, dim=-1).item()\n",
        "\n",
        "    # Return the classified result\n",
        "    return \"spam\" if predicted_label == 1 else \"not spam\""
      ],
      "metadata": {
        "id": "nyD7y1ZwCLak"
      },
      "execution_count": 90,
      "outputs": []
    },
    {
      "cell_type": "code",
      "source": [
        "text_1 = (\n",
        "    \"You are a winner you have been specially\"\n",
        "    \" selected to receive $1000 cash or a $2000 award.\"\n",
        ")\n",
        "\n",
        "print(classify_review(\n",
        "    text_1, model, tokenizer, device, max_length=train_dataset.max_length\n",
        "))"
      ],
      "metadata": {
        "colab": {
          "base_uri": "https://localhost:8080/"
        },
        "id": "8B2zfzj7CQyI",
        "outputId": "c38eb4c5-356c-4121-840c-8bbb63e1e0d2"
      },
      "execution_count": 91,
      "outputs": [
        {
          "output_type": "stream",
          "name": "stdout",
          "text": [
            "spam\n"
          ]
        }
      ]
    },
    {
      "cell_type": "code",
      "source": [
        "text_2 = (\n",
        "    \"Hey, just wanted to check if we're still on\"\n",
        "    \" for dinner tonight? Let me know!\"\n",
        ")\n",
        "\n",
        "print(classify_review(\n",
        "    text_2, model, tokenizer, device, max_length=train_dataset.max_length\n",
        "))"
      ],
      "metadata": {
        "colab": {
          "base_uri": "https://localhost:8080/"
        },
        "id": "57L6m8cbCTWX",
        "outputId": "db0e5581-5ca0-45d2-b555-aa4e45e52d96"
      },
      "execution_count": 92,
      "outputs": [
        {
          "output_type": "stream",
          "name": "stdout",
          "text": [
            "not spam\n"
          ]
        }
      ]
    },
    {
      "cell_type": "code",
      "source": [],
      "metadata": {
        "id": "3InsmwXnCVbD"
      },
      "execution_count": null,
      "outputs": []
    }
  ]
}